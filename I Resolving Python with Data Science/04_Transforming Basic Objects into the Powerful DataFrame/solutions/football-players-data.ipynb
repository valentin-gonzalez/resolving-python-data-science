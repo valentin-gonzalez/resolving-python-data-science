{
 "cells": [
  {
   "cell_type": "code",
   "execution_count": 3,
   "id": "705da950-ed01-4347-a2a2-96ed74fa90cc",
   "metadata": {},
   "outputs": [],
   "source": [
    "import pandas as pd"
   ]
  },
  {
   "cell_type": "code",
   "execution_count": 4,
   "id": "d5f7e820-8005-429c-9141-43f95337efec",
   "metadata": {},
   "outputs": [],
   "source": [
    "cr7 = {\n",
    "    'partidos': 923,\n",
    "    'goles': 689,\n",
    "    'asistencias': 231,\n",
    "    'tarjetas amarillas': 112,\n",
    "    'tarjetas rojas': 7,\n",
    "    'segundas amarillas': 4,\n",
    "    'minutos jugados': 75372\n",
    "}"
   ]
  },
  {
   "cell_type": "code",
   "execution_count": 5,
   "id": "ef09feb9-aabd-475a-8167-5feac610b690",
   "metadata": {},
   "outputs": [],
   "source": [
    "lm = {\n",
    "    'partidos': 800,\n",
    "    'goles': 679,\n",
    "    'asistencias': 312,\n",
    "    'tarjetas amarillas': 82,\n",
    "    'tarjetas rojas': 1,\n",
    "    'segundas amarillas': 0,\n",
    "    'minutos jugados': 65299\n",
    "}"
   ]
  },
  {
   "cell_type": "code",
   "execution_count": 6,
   "id": "250ff7ff-4325-4684-9c0f-5a8abd950c6d",
   "metadata": {},
   "outputs": [],
   "source": [
    "rl = {\n",
    "    'partidos': 662,\n",
    "    'goles': 498,\n",
    "    'asistencias': 131,\n",
    "    'tarjetas amarillas': 68,\n",
    "    'tarjetas rojas': 0,\n",
    "    'segundas amarillas': 1,\n",
    "    'minutos jugados': 65299\n",
    "}"
   ]
  },
  {
   "cell_type": "code",
   "execution_count": 7,
   "id": "a6195042-a6a8-45ad-8a95-ce84a07cf38f",
   "metadata": {},
   "outputs": [],
   "source": [
    "bz = {\n",
    "    'partidos': 737,\n",
    "    'goles': 370,\n",
    "    'asistencias': 182,\n",
    "    'tarjetas amarillas': 15,\n",
    "    'tarjetas rojas': 0,\n",
    "    'segundas amarillas': 0,\n",
    "    'minutos jugados': 52245\n",
    "}"
   ]
  },
  {
   "cell_type": "code",
   "execution_count": 11,
   "id": "9225fc41-f857-4aaa-99c9-42e295474d92",
   "metadata": {},
   "outputs": [],
   "source": [
    "df = pd.DataFrame([cr7, lm, rl, bz], index=['CR7', 'Messi', 'Lewandowski', 'Benzema'])"
   ]
  },
  {
   "cell_type": "code",
   "execution_count": 12,
   "id": "f8a421e9-4685-4546-9332-22e1632bc360",
   "metadata": {},
   "outputs": [
    {
     "data": {
      "text/html": [
       "<div>\n",
       "<style scoped>\n",
       "    .dataframe tbody tr th:only-of-type {\n",
       "        vertical-align: middle;\n",
       "    }\n",
       "\n",
       "    .dataframe tbody tr th {\n",
       "        vertical-align: top;\n",
       "    }\n",
       "\n",
       "    .dataframe thead th {\n",
       "        text-align: right;\n",
       "    }\n",
       "</style>\n",
       "<table border=\"1\" class=\"dataframe\">\n",
       "  <thead>\n",
       "    <tr style=\"text-align: right;\">\n",
       "      <th></th>\n",
       "      <th>partidos</th>\n",
       "      <th>goles</th>\n",
       "      <th>asistencias</th>\n",
       "      <th>tarjetas amarillas</th>\n",
       "      <th>tarjetas rojas</th>\n",
       "      <th>segundas amarillas</th>\n",
       "      <th>minutos jugados</th>\n",
       "    </tr>\n",
       "  </thead>\n",
       "  <tbody>\n",
       "    <tr>\n",
       "      <th>CR7</th>\n",
       "      <td>923</td>\n",
       "      <td>689</td>\n",
       "      <td>231</td>\n",
       "      <td>112</td>\n",
       "      <td>7</td>\n",
       "      <td>4</td>\n",
       "      <td>75372</td>\n",
       "    </tr>\n",
       "    <tr>\n",
       "      <th>Messi</th>\n",
       "      <td>800</td>\n",
       "      <td>679</td>\n",
       "      <td>312</td>\n",
       "      <td>82</td>\n",
       "      <td>1</td>\n",
       "      <td>0</td>\n",
       "      <td>65299</td>\n",
       "    </tr>\n",
       "    <tr>\n",
       "      <th>Lewandowski</th>\n",
       "      <td>662</td>\n",
       "      <td>498</td>\n",
       "      <td>131</td>\n",
       "      <td>68</td>\n",
       "      <td>0</td>\n",
       "      <td>1</td>\n",
       "      <td>65299</td>\n",
       "    </tr>\n",
       "    <tr>\n",
       "      <th>Benzema</th>\n",
       "      <td>737</td>\n",
       "      <td>370</td>\n",
       "      <td>182</td>\n",
       "      <td>15</td>\n",
       "      <td>0</td>\n",
       "      <td>0</td>\n",
       "      <td>52245</td>\n",
       "    </tr>\n",
       "  </tbody>\n",
       "</table>\n",
       "</div>"
      ],
      "text/plain": [
       "             partidos  goles  asistencias  tarjetas amarillas  tarjetas rojas  \\\n",
       "CR7               923    689          231                 112               7   \n",
       "Messi             800    679          312                  82               1   \n",
       "Lewandowski       662    498          131                  68               0   \n",
       "Benzema           737    370          182                  15               0   \n",
       "\n",
       "             segundas amarillas  minutos jugados  \n",
       "CR7                           4            75372  \n",
       "Messi                         0            65299  \n",
       "Lewandowski                   1            65299  \n",
       "Benzema                       0            52245  "
      ]
     },
     "execution_count": 12,
     "metadata": {},
     "output_type": "execute_result"
    }
   ],
   "source": [
    "df.head()"
   ]
  },
  {
   "cell_type": "code",
   "execution_count": 23,
   "id": "a4545c73-d5b7-4e15-a7e2-1b4f1836028a",
   "metadata": {},
   "outputs": [
    {
     "data": {
      "text/plain": [
       "'{\"partidos\":{\"CR7\":923,\"Messi\":800,\"Lewandowski\":662,\"Benzema\":737},\"goles\":{\"CR7\":689,\"Messi\":679,\"Lewandowski\":498,\"Benzema\":370},\"asistencias\":{\"CR7\":231,\"Messi\":312,\"Lewandowski\":131,\"Benzema\":182},\"tarjetas amarillas\":{\"CR7\":112,\"Messi\":82,\"Lewandowski\":68,\"Benzema\":15},\"tarjetas rojas\":{\"CR7\":7,\"Messi\":1,\"Lewandowski\":0,\"Benzema\":0},\"segundas amarillas\":{\"CR7\":4,\"Messi\":0,\"Lewandowski\":1,\"Benzema\":0},\"minutos jugados\":{\"CR7\":75372,\"Messi\":65299,\"Lewandowski\":65299,\"Benzema\":52245}}'"
      ]
     },
     "execution_count": 23,
     "metadata": {},
     "output_type": "execute_result"
    }
   ],
   "source": [
    "df.to_json()"
   ]
  },
  {
   "cell_type": "code",
   "execution_count": 21,
   "id": "3fe6515d-e464-4fbf-856d-bd7d8d192447",
   "metadata": {},
   "outputs": [
    {
     "name": "stdout",
     "output_type": "stream",
     "text": [
      "{\"partidos\":923,\"goles\":689,\"asistencias\":231,\"tarjetas amarillas\":112,\"tarjetas rojas\":7,\"segundas amarillas\":4,\"minutos jugados\":75372}\n",
      "{\"partidos\":800,\"goles\":679,\"asistencias\":312,\"tarjetas amarillas\":82,\"tarjetas rojas\":1,\"segundas amarillas\":0,\"minutos jugados\":65299}\n",
      "{\"partidos\":662,\"goles\":498,\"asistencias\":131,\"tarjetas amarillas\":68,\"tarjetas rojas\":0,\"segundas amarillas\":1,\"minutos jugados\":65299}\n",
      "{\"partidos\":737,\"goles\":370,\"asistencias\":182,\"tarjetas amarillas\":15,\"tarjetas rojas\":0,\"segundas amarillas\":0,\"minutos jugados\":52245}\n",
      "\n"
     ]
    }
   ],
   "source": [
    "print(a)"
   ]
  },
  {
   "cell_type": "code",
   "execution_count": 25,
   "id": "76ac81e3-4af0-4a3f-bab2-afe89817e1d5",
   "metadata": {},
   "outputs": [],
   "source": [
    "df.to_json('~/data/football_players_stats.json', orient='index')"
   ]
  },
  {
   "cell_type": "code",
   "execution_count": null,
   "id": "c8d7617b-1033-41d1-b7fc-4143f4d23aea",
   "metadata": {},
   "outputs": [],
   "source": []
  }
 ],
 "metadata": {
  "kernelspec": {
   "display_name": "Python 3 (ipykernel)",
   "language": "python",
   "name": "python3"
  },
  "language_info": {
   "codemirror_mode": {
    "name": "ipython",
    "version": 3
   },
   "file_extension": ".py",
   "mimetype": "text/x-python",
   "name": "python",
   "nbconvert_exporter": "python",
   "pygments_lexer": "ipython3",
   "version": "3.9.7"
  }
 },
 "nbformat": 4,
 "nbformat_minor": 5
}
