{
 "cells": [
  {
   "cell_type": "markdown",
   "id": "9a3cd13d-4f55-47e5-8e9e-7de35cd17bc1",
   "metadata": {
    "tags": []
   },
   "source": [
    "<font size=\"+5\">#02 | Dissecting the Object Like an Onion</font>"
   ]
  },
  {
   "cell_type": "markdown",
   "id": "f6149105-9e94-40b5-8f77-e9d0782d4b0d",
   "metadata": {},
   "source": [
    "- <ins>Python</ins> + <ins>Data Science</ins> Tutorials in [YouTube ↗︎](https://www.youtube.com/c/PythonResolver)"
   ]
  },
  {
   "cell_type": "markdown",
   "id": "add3e73d-301a-467d-ad21-c90ed4b5d5ad",
   "metadata": {},
   "source": [
    "# How to Access the `items` of an `Object`"
   ]
  },
  {
   "cell_type": "markdown",
   "id": "6c21d472-76bc-499a-bd07-338bf72350e4",
   "metadata": {},
   "source": [
    "## The `list`"
   ]
  },
  {
   "cell_type": "markdown",
   "id": "5ab63a44-c14a-42e0-abba-4c7312ce86a0",
   "metadata": {},
   "source": [
    "> - [ ] Create a `list` of your best friends"
   ]
  },
  {
   "cell_type": "code",
   "execution_count": null,
   "id": "184755cc-867e-4c8c-9e11-4296eeac141f",
   "metadata": {},
   "outputs": [],
   "source": []
  },
  {
   "cell_type": "markdown",
   "id": "77a25ba8-dd4a-48a2-90ce-dc76e3d17b20",
   "metadata": {},
   "source": [
    "> - [ ] Access the 2nd element ↓"
   ]
  },
  {
   "cell_type": "code",
   "execution_count": null,
   "id": "fcb9c3de-ba47-4bcd-800b-d1aeb99801c2",
   "metadata": {},
   "outputs": [],
   "source": []
  },
  {
   "cell_type": "markdown",
   "id": "144e0890-65c5-457a-b828-62a783d90504",
   "metadata": {},
   "source": [
    "## The `dict`"
   ]
  },
  {
   "cell_type": "markdown",
   "id": "f874c721-9669-49b7-8a2e-80f459dd6d6f",
   "metadata": {},
   "source": [
    "> - [ ] Create a `dict` of your best friends"
   ]
  },
  {
   "cell_type": "code",
   "execution_count": null,
   "id": "0086bff4-e5c4-46c8-9b53-995439b7328c",
   "metadata": {},
   "outputs": [],
   "source": []
  },
  {
   "cell_type": "markdown",
   "id": "8f126557-96f2-44c0-a1a9-a39583f84be2",
   "metadata": {},
   "source": [
    "> - [ ] Access the 2nd element ↓"
   ]
  },
  {
   "cell_type": "code",
   "execution_count": null,
   "id": "3488bb85-d2e4-4237-96e6-6f87335a8ecf",
   "metadata": {},
   "outputs": [],
   "source": []
  },
  {
   "cell_type": "markdown",
   "id": "8b342bb8-cb9b-4356-8b15-9b8aab92faa1",
   "metadata": {},
   "source": [
    "## The `DataFrame`"
   ]
  },
  {
   "cell_type": "markdown",
   "id": "8842dd83-d128-4ee5-8c12-c02dc984dada",
   "metadata": {},
   "source": [
    "> - [ ] Create a `dict` with your best **friend's personal data**"
   ]
  },
  {
   "cell_type": "code",
   "execution_count": null,
   "id": "274f288b-b756-4b2d-8d3c-d7e542280047",
   "metadata": {},
   "outputs": [],
   "source": []
  },
  {
   "cell_type": "markdown",
   "id": "41067453-a14a-45ec-9e5c-c950cb553ace",
   "metadata": {},
   "source": [
    "> - [ ] Create a `dict` with your second best **friend's personal data**"
   ]
  },
  {
   "cell_type": "code",
   "execution_count": null,
   "id": "351f67d4-bea4-4e30-9dcf-8e95c27ac1e0",
   "metadata": {},
   "outputs": [],
   "source": []
  },
  {
   "cell_type": "markdown",
   "id": "ced9c1b8-413d-44ea-8894-2f33d9e8ec6d",
   "metadata": {},
   "source": [
    "> - [ ] Create a `nested dict` with your **3 best friends' personal data**"
   ]
  },
  {
   "cell_type": "code",
   "execution_count": null,
   "id": "13c96a61-2e4d-4297-b1ce-9babe4481435",
   "metadata": {},
   "outputs": [],
   "source": []
  },
  {
   "cell_type": "markdown",
   "id": "8b224109-6e2d-4a16-9bc1-72bd59056d78",
   "metadata": {},
   "source": [
    "> - [ ] Access the `age` of your `2nd best friend`"
   ]
  },
  {
   "cell_type": "code",
   "execution_count": null,
   "id": "15ef39e1-1d9e-4d52-bc23-252ca7e40049",
   "metadata": {},
   "outputs": [],
   "source": []
  },
  {
   "cell_type": "markdown",
   "id": "0b728260-b4e6-41c9-8cd0-e3a654c80025",
   "metadata": {},
   "source": [
    "> - [ ] Convert the `dict` to a `DataFrame`"
   ]
  },
  {
   "cell_type": "code",
   "execution_count": null,
   "id": "9fee8b60-67b0-456c-a97c-5cbd69796c60",
   "metadata": {},
   "outputs": [],
   "source": []
  },
  {
   "cell_type": "markdown",
   "id": "7f53735d-0530-416f-b8cb-cb5ada74e367",
   "metadata": {},
   "source": [
    "- [ ] Access the `age` of your `2nd best friend`"
   ]
  },
  {
   "cell_type": "code",
   "execution_count": null,
   "id": "e06618bc-2050-4071-bbe4-8bef7a6ebe3b",
   "metadata": {},
   "outputs": [],
   "source": []
  },
  {
   "cell_type": "markdown",
   "id": "2c1bbf85-554e-441f-8777-4705947271d9",
   "metadata": {},
   "source": [
    "> - What would have happened if the `DataFrame` looks like this ↓"
   ]
  },
  {
   "cell_type": "code",
   "execution_count": null,
   "id": "3f5de2f6-140e-4437-8d66-0e266c81a4f0",
   "metadata": {},
   "outputs": [],
   "source": []
  },
  {
   "cell_type": "markdown",
   "id": "04d20ea9-d2f1-4971-8bad-7c6d2e1f594e",
   "metadata": {},
   "source": [
    "> - [ ] Is your best friends' name a `key` of the `DataFrame`?"
   ]
  },
  {
   "cell_type": "code",
   "execution_count": null,
   "id": "663be2ff-290e-4e9c-a042-d8e294ad0ec7",
   "metadata": {},
   "outputs": [],
   "source": []
  },
  {
   "cell_type": "markdown",
   "id": "9523dcb8-df6a-4b92-802e-a66078828bf1",
   "metadata": {},
   "source": [
    "> - [ ] How then can you access your second best friend's age?"
   ]
  },
  {
   "cell_type": "code",
   "execution_count": null,
   "id": "780e07dd-753e-428b-8749-6e13e9824e33",
   "metadata": {},
   "outputs": [],
   "source": []
  },
  {
   "cell_type": "markdown",
   "id": "d4797650-03dc-4dc5-969e-e082748db1c0",
   "metadata": {},
   "source": [
    "## Recap"
   ]
  },
  {
   "cell_type": "markdown",
   "id": "e31e0f24-54c4-47b2-ba38-5e41ed2b0418",
   "metadata": {},
   "source": [
    "### The `list`"
   ]
  },
  {
   "cell_type": "code",
   "execution_count": null,
   "id": "b63cfc8c-3475-4d5f-a0b3-fd5567602305",
   "metadata": {},
   "outputs": [],
   "source": []
  },
  {
   "cell_type": "markdown",
   "id": "9858f8c9-657e-491b-8673-b9615daa4a06",
   "metadata": {},
   "source": [
    "### The `dictionary`"
   ]
  },
  {
   "cell_type": "code",
   "execution_count": null,
   "id": "47d7c3f6-4b0f-4221-8af0-5df823c04127",
   "metadata": {},
   "outputs": [],
   "source": []
  },
  {
   "cell_type": "markdown",
   "id": "b7f0fa20-79b3-44c6-8aaa-a25f9fe59e6f",
   "metadata": {},
   "source": [
    "### The `DataFrame`"
   ]
  },
  {
   "cell_type": "code",
   "execution_count": null,
   "id": "00ef337c-a72d-47f8-be0a-b854c0e7befb",
   "metadata": {},
   "outputs": [],
   "source": []
  },
  {
   "cell_type": "markdown",
   "id": "1953f7f1-7ca3-41b3-8fb6-3d2a84f0b35b",
   "metadata": {},
   "source": [
    "## What the heck is a `key`?\n",
    "\n",
    "> - A `key` that opens a door to get the `values`\n",
    "> - [ ] For example, get the values contained in the `age` key"
   ]
  },
  {
   "cell_type": "code",
   "execution_count": null,
   "id": "d1c12195-b16f-47a0-b1b0-f3010b443b37",
   "metadata": {},
   "outputs": [],
   "source": []
  },
  {
   "cell_type": "markdown",
   "id": "74ca8e71-3988-454a-8bda-f7016b39c96d",
   "metadata": {},
   "source": [
    "> - [ ] Access the `name` of the people"
   ]
  },
  {
   "cell_type": "code",
   "execution_count": null,
   "id": "2d819627-5566-4832-a4be-b40d6badff77",
   "metadata": {},
   "outputs": [],
   "source": []
  },
  {
   "cell_type": "markdown",
   "id": "f9214012-8648-4ca5-80a9-6b7f243db2df",
   "metadata": {},
   "source": [
    "> - What is the error saying?\n",
    "> - [ ] Could you ask which are the `keys` for the `df`?"
   ]
  },
  {
   "cell_type": "code",
   "execution_count": null,
   "id": "c94aebfa-f73f-4f7c-a628-a0f91295856b",
   "metadata": {},
   "outputs": [],
   "source": []
  },
  {
   "cell_type": "markdown",
   "id": "d0a9a7c5-3533-4fa5-8b98-67956fe86f19",
   "metadata": {},
   "source": [
    "> - [ ] Which `keys` could you access then?"
   ]
  },
  {
   "cell_type": "code",
   "execution_count": null,
   "id": "03be24fd-6db1-4328-9cc9-235b9ab96f7b",
   "metadata": {},
   "outputs": [],
   "source": []
  },
  {
   "cell_type": "markdown",
   "id": "e060f0e5-8c89-416d-8334-414e6a25982a",
   "metadata": {},
   "source": [
    "> - [ ] How could you then access the `names`?"
   ]
  },
  {
   "cell_type": "code",
   "execution_count": null,
   "id": "648adbf3-f72a-4f7e-ac4a-d5a609837e14",
   "metadata": {},
   "outputs": [],
   "source": []
  },
  {
   "cell_type": "markdown",
   "id": "5f2d5eaf-72a6-441e-8343-be2f839dccf1",
   "metadata": {},
   "source": [
    "# Disecting the Objects to Understand the Elements of Programming"
   ]
  },
  {
   "cell_type": "markdown",
   "id": "a46c9768-9978-462b-ad4a-5b2ac45c9868",
   "metadata": {},
   "source": [
    "> - Objects are **data structures** that store information. \n",
    "> - [ ] Which **syntax** do we use to access the information?"
   ]
  },
  {
   "cell_type": "markdown",
   "id": "a99f1b5b-8c05-44c0-8b89-8c0d32c68210",
   "metadata": {},
   "source": [
    "## Dot Notation `.`"
   ]
  },
  {
   "cell_type": "markdown",
   "id": "b1d0b79a-4f2c-403a-9144-b0b12c7d25f4",
   "metadata": {},
   "source": [
    "> - Show just the `age` column from `df`"
   ]
  },
  {
   "cell_type": "code",
   "execution_count": null,
   "id": "f390059e-bec9-43e0-adc2-0c0fdc77c054",
   "metadata": {},
   "outputs": [],
   "source": []
  },
  {
   "cell_type": "markdown",
   "id": "31d3c8aa-8018-41f0-831d-85edfa5b51f2",
   "metadata": {},
   "source": [
    "> - [ ] Could we **access to more information** than just the columns?"
   ]
  },
  {
   "cell_type": "code",
   "execution_count": null,
   "id": "bbfbb94e-0e11-4162-a9a2-3a532ee4b106",
   "metadata": {},
   "outputs": [],
   "source": []
  },
  {
   "cell_type": "markdown",
   "id": "4699b326-52a2-4288-bd1a-a71c26324161",
   "metadata": {},
   "source": [
    "### The `function()`"
   ]
  },
  {
   "cell_type": "code",
   "execution_count": null,
   "id": "1989faf7-d6a9-4451-b2c5-ed40ece3d6cc",
   "metadata": {},
   "outputs": [],
   "source": []
  },
  {
   "cell_type": "markdown",
   "id": "5eac4580-5d8f-409c-bdf5-dbb55d45f426",
   "metadata": {},
   "source": [
    "### The `instance`"
   ]
  },
  {
   "cell_type": "code",
   "execution_count": null,
   "id": "7e4fc2e7-8e2d-4af1-ace0-7cd0dd935630",
   "metadata": {},
   "outputs": [],
   "source": []
  },
  {
   "cell_type": "markdown",
   "id": "dcd9a257-0594-4fc0-92b8-a06b010b428f",
   "metadata": {},
   "source": [
    "### Recap"
   ]
  },
  {
   "cell_type": "markdown",
   "id": "109a6bce-7989-41bf-83ce-92117fc61c83",
   "metadata": {},
   "source": [
    "#### The `instance`"
   ]
  },
  {
   "cell_type": "markdown",
   "id": "d4d37ab7-5a80-412a-9b1a-a1e9cd70b183",
   "metadata": {},
   "source": [
    "The **instance** (object) may contain:\n",
    "- `function`\n",
    "- more `instance`s"
   ]
  },
  {
   "cell_type": "code",
   "execution_count": null,
   "id": "45484f90-960c-4fb5-99bf-c08091ad711e",
   "metadata": {},
   "outputs": [],
   "source": []
  },
  {
   "cell_type": "markdown",
   "id": "70d1e40b-9491-4c10-ab9b-132bdf5ff213",
   "metadata": {},
   "source": [
    "#### The `function()`"
   ]
  },
  {
   "cell_type": "markdown",
   "id": "51d105d0-2303-4e8c-8d0e-4df8b1ae4fff",
   "metadata": {},
   "source": [
    "The **function** contains nothing\n",
    "- ` `; it's the endpoint of programming"
   ]
  },
  {
   "cell_type": "code",
   "execution_count": null,
   "id": "70190060-3de6-4862-82ce-b11be3e85358",
   "metadata": {},
   "outputs": [],
   "source": []
  },
  {
   "cell_type": "markdown",
   "id": "63a2df32-ddf8-4b38-9317-ea53bdd06424",
   "metadata": {},
   "source": [
    "#### Library"
   ]
  },
  {
   "cell_type": "markdown",
   "id": "d75eac57-b401-4dcc-aaf0-035fa19186e4",
   "metadata": {},
   "source": [
    "The **library** may contain:\n",
    "- `module` (subfolder)\n",
    "- `function`\n",
    "- object `class` **to be created**\n",
    "- object `instance` **(object) already created**"
   ]
  },
  {
   "cell_type": "code",
   "execution_count": null,
   "id": "915a02bd-6320-4d4a-8591-0f2d65d7cc27",
   "metadata": {},
   "outputs": [],
   "source": []
  }
 ],
 "metadata": {
  "kernelspec": {
   "display_name": "Python 3 (ipykernel)",
   "language": "python",
   "name": "python3"
  },
  "language_info": {
   "codemirror_mode": {
    "name": "ipython",
    "version": 3
   },
   "file_extension": ".py",
   "mimetype": "text/x-python",
   "name": "python",
   "nbconvert_exporter": "python",
   "pygments_lexer": "ipython3",
   "version": "3.9.7"
  },
  "toc-autonumbering": true
 },
 "nbformat": 4,
 "nbformat_minor": 5
}
