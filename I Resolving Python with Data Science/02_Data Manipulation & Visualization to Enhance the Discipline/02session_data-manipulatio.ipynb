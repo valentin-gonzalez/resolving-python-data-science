{
 "cells": [
  {
   "cell_type": "markdown",
   "id": "2cc3483d",
   "metadata": {},
   "source": [
    "<font size=\"+5\">#02 | Data Manipulation & Visualization to Enhance the Discipline</font>"
   ]
  },
  {
   "cell_type": "markdown",
   "id": "4e6e4b14-ad7c-4175-8601-879bd4be6cc2",
   "metadata": {},
   "source": [
    "- Subscribe to my [Blog ↗](https://blog.pythonassembly.com/)\n",
    "- Let's keep in touch on [LinkedIn ↗](www.linkedin.com/in/jsulopz) 😄"
   ]
  },
  {
   "cell_type": "markdown",
   "id": "de6cb613",
   "metadata": {},
   "source": [
    "# Discipline to Search Solutions in Google"
   ]
  },
  {
   "cell_type": "markdown",
   "id": "d190b76b",
   "metadata": {},
   "source": [
    "> Apply the following steps when **looking for solutions in Google**:\n",
    ">\n",
    "> 1. **Necesity**: How to load an Excel in Python?\n",
    "> 2. **Search in Google**: by keywords\n",
    ">   - `load excel python`\n",
    ">   - ~~how to load excel in python~~\n",
    "> 3. **Solution**: What's the `function()` that loads an Excel in Python?\n",
    ">   - A Function to Programming is what the Atom to Phisics.\n",
    ">   - Every time you want to do something in programming\n",
    ">   - **You will need a `function()`** to make it\n",
    ">   - Theferore, you must **detect parenthesis `()`**\n",
    ">   - Out of all the words that you see in a website\n",
    ">   - Because they indicate the presence of a `function()`."
   ]
  },
  {
   "cell_type": "markdown",
   "id": "510f29e2",
   "metadata": {},
   "source": [
    "# Load the Data"
   ]
  },
  {
   "cell_type": "markdown",
   "id": "480d9891",
   "metadata": {},
   "source": [
    "> Download [this Excel](https://github.com/sotastica/data/raw/main/internet_usage_spain.xlsx).\n",
    "> Apply the above discipline and make it happen 🚀\n",
    "> I want to see the table, c'mon 👇"
   ]
  },
  {
   "cell_type": "code",
   "execution_count": null,
   "id": "daee04ec",
   "metadata": {},
   "outputs": [],
   "source": []
  },
  {
   "cell_type": "markdown",
   "id": "98d16690",
   "metadata": {},
   "source": [
    "# `DataFrame` Manipulation"
   ]
  },
  {
   "cell_type": "markdown",
   "id": "3803462d",
   "metadata": {},
   "source": [
    "> Could we solve the following questions with a `DataFrame` **object**?"
   ]
  },
  {
   "cell_type": "markdown",
   "id": "fac241dc",
   "metadata": {},
   "source": [
    "## How many people are in each study category?"
   ]
  },
  {
   "cell_type": "code",
   "execution_count": null,
   "id": "a954fbcf",
   "metadata": {},
   "outputs": [],
   "source": []
  },
  {
   "cell_type": "markdown",
   "id": "3f627e50",
   "metadata": {},
   "source": [
    "## Age average by internet usage"
   ]
  },
  {
   "cell_type": "code",
   "execution_count": null,
   "id": "9bc579de",
   "metadata": {},
   "outputs": [],
   "source": []
  },
  {
   "cell_type": "markdown",
   "id": "bd0f211f",
   "metadata": {},
   "source": [
    "## Age average by internet usage and gender"
   ]
  },
  {
   "cell_type": "code",
   "execution_count": null,
   "id": "51805ee5",
   "metadata": {},
   "outputs": [],
   "source": []
  },
  {
   "cell_type": "markdown",
   "id": "9527df56",
   "metadata": {},
   "source": [
    "# Data Visualization with Python"
   ]
  },
  {
   "cell_type": "markdown",
   "id": "7a8a94b1",
   "metadata": {},
   "source": [
    "## Load Another Dataset"
   ]
  },
  {
   "cell_type": "markdown",
   "id": "54a25d43",
   "metadata": {},
   "source": [
    "> We load this [csv file](https://raw.githubusercontent.com/mwaskom/seaborn-data/master/tips.csv).\n",
    "> ¿What does it mean `csv`?\n",
    "> ¿Why don't we use an `Excel` to better see the data?"
   ]
  },
  {
   "cell_type": "code",
   "execution_count": null,
   "id": "4ce31869",
   "metadata": {},
   "outputs": [],
   "source": []
  },
  {
   "cell_type": "markdown",
   "id": "71b64dcb",
   "metadata": {},
   "source": [
    "## Scatterplot"
   ]
  },
  {
   "cell_type": "markdown",
   "id": "ffcf2783",
   "metadata": {},
   "source": [
    "### With `Matplotlib` library"
   ]
  },
  {
   "cell_type": "markdown",
   "id": "6a446edb",
   "metadata": {},
   "source": [
    "> Scatterplot"
   ]
  },
  {
   "cell_type": "code",
   "execution_count": null,
   "id": "58bbb14f",
   "metadata": {},
   "outputs": [],
   "source": []
  },
  {
   "cell_type": "markdown",
   "id": "087472ac",
   "metadata": {},
   "source": [
    "### With `Seaborn` library"
   ]
  },
  {
   "cell_type": "markdown",
   "id": "e83ad76f",
   "metadata": {},
   "source": [
    "> Scatterplot"
   ]
  },
  {
   "cell_type": "code",
   "execution_count": null,
   "id": "072a14c1",
   "metadata": {},
   "outputs": [],
   "source": []
  },
  {
   "cell_type": "markdown",
   "id": "8dcd9849",
   "metadata": {},
   "source": [
    "### With `Plotly` library"
   ]
  },
  {
   "cell_type": "markdown",
   "id": "e7b22ee1",
   "metadata": {},
   "source": [
    "> Scatterplot"
   ]
  },
  {
   "cell_type": "code",
   "execution_count": null,
   "id": "6f3f8ac3",
   "metadata": {},
   "outputs": [],
   "source": []
  },
  {
   "cell_type": "markdown",
   "id": "03eb349f",
   "metadata": {},
   "source": [
    "## Other Data Visualization Figures"
   ]
  },
  {
   "cell_type": "markdown",
   "id": "7d58a290",
   "metadata": {},
   "source": [
    "### Histogram"
   ]
  },
  {
   "cell_type": "code",
   "execution_count": null,
   "id": "1f1a3e30",
   "metadata": {},
   "outputs": [],
   "source": []
  },
  {
   "cell_type": "markdown",
   "id": "405b778b",
   "metadata": {},
   "source": [
    "### Boxplot"
   ]
  },
  {
   "cell_type": "code",
   "execution_count": null,
   "id": "91169cca",
   "metadata": {},
   "outputs": [],
   "source": []
  },
  {
   "cell_type": "markdown",
   "id": "f43703cc",
   "metadata": {},
   "source": [
    "### Bar Chart"
   ]
  },
  {
   "cell_type": "code",
   "execution_count": null,
   "id": "91d77d67",
   "metadata": {},
   "outputs": [],
   "source": []
  },
  {
   "cell_type": "markdown",
   "id": "b42479de",
   "metadata": {},
   "source": [
    "### Pie Plot"
   ]
  },
  {
   "cell_type": "code",
   "execution_count": null,
   "id": "03d42606",
   "metadata": {},
   "outputs": [],
   "source": []
  },
  {
   "cell_type": "markdown",
   "id": "293a27e3",
   "metadata": {},
   "source": [
    "### Maps"
   ]
  },
  {
   "cell_type": "code",
   "execution_count": null,
   "id": "3e38dffc",
   "metadata": {},
   "outputs": [],
   "source": []
  }
 ],
 "metadata": {
  "authors": [
   {
    "name": "Jesús López @sotastica"
   }
  ],
  "interpreter": {
   "hash": "414fd6d7c0f0aefb3d4e2db41edbeb0df03134e10d94a689550561b640a17652"
  },
  "kernelspec": {
   "display_name": "Python 3 (ipykernel)",
   "language": "python",
   "name": "python3"
  },
  "language_info": {
   "codemirror_mode": {
    "name": "ipython",
    "version": 3
   },
   "file_extension": ".py",
   "mimetype": "text/x-python",
   "name": "python",
   "nbconvert_exporter": "python",
   "pygments_lexer": "ipython3",
   "version": "3.9.7"
  },
  "toc-autonumbering": true
 },
 "nbformat": 4,
 "nbformat_minor": 5
}
