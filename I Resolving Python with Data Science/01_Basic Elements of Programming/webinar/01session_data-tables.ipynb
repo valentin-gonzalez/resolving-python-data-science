{
 "cells": [
  {
   "cell_type": "markdown",
   "id": "65a62216",
   "metadata": {
    "tags": []
   },
   "source": [
    "<font size=\"+5\">#01 | Basic Elements of Programming</font>"
   ]
  },
  {
   "cell_type": "markdown",
   "id": "3e9a2e55-8a36-4c00-b184-4286bfc8ce90",
   "metadata": {},
   "source": [
    "- <ins>Python</ins> + <ins>Data Science</ins> Tutorials in [YouTube ↗︎](https://www.youtube.com/c/PythonResolver)"
   ]
  },
  {
   "cell_type": "markdown",
   "id": "de5c0482-fd34-45e2-8f23-7dfb6a507e24",
   "metadata": {},
   "source": [
    "# The Registry (aka the `environment`)"
   ]
  },
  {
   "cell_type": "markdown",
   "id": "21c2d653-fe51-4bfb-8a5f-76ee631650d0",
   "metadata": {
    "tags": []
   },
   "source": [
    "> - Type `your name` and execute ↓"
   ]
  },
  {
   "cell_type": "code",
   "execution_count": 1,
   "id": "07da5388-cc4f-4cb0-8a38-a01d27417879",
   "metadata": {},
   "outputs": [
    {
     "ename": "NameError",
     "evalue": "name 'edo' is not defined",
     "output_type": "error",
     "traceback": [
      "\u001b[0;31m---------------------------------------------------------------------------\u001b[0m",
      "\u001b[0;31mNameError\u001b[0m                                 Traceback (most recent call last)",
      "\u001b[0;32m<ipython-input-1-19e03418750a>\u001b[0m in \u001b[0;36m<module>\u001b[0;34m\u001b[0m\n\u001b[0;32m----> 1\u001b[0;31m \u001b[0medo\u001b[0m\u001b[0;34m\u001b[0m\u001b[0;34m\u001b[0m\u001b[0m\n\u001b[0m",
      "\u001b[0;31mNameError\u001b[0m: name 'edo' is not defined"
     ]
    }
   ],
   "source": [
    "edo"
   ]
  },
  {
   "cell_type": "markdown",
   "id": "a5de79f3-8270-4d18-8df6-dfe7da2c9e1c",
   "metadata": {},
   "source": [
    "> - Type `sum` and execute ↓"
   ]
  },
  {
   "cell_type": "code",
   "execution_count": 2,
   "id": "cd3e61f8-582f-4e17-8c46-0efd83a1592c",
   "metadata": {},
   "outputs": [
    {
     "data": {
      "text/plain": [
       "<function sum(iterable, /, start=0)>"
      ]
     },
     "execution_count": 2,
     "metadata": {},
     "output_type": "execute_result"
    }
   ],
   "source": [
    "sum"
   ]
  },
  {
   "cell_type": "markdown",
   "id": "7b5790c3-61a4-40c7-934f-bc4c00c1fefa",
   "metadata": {},
   "source": [
    "> - [ ] Why is it recognizing `sum` and not `your name`\n",
    "> - [ ] How can you literally tell `your name` so that Python will recognize it"
   ]
  },
  {
   "cell_type": "code",
   "execution_count": 4,
   "id": "5fe3ff2b-2632-4ade-ac1b-c62d33195033",
   "metadata": {},
   "outputs": [
    {
     "data": {
      "text/plain": [
       "'edo'"
      ]
     },
     "execution_count": 4,
     "metadata": {},
     "output_type": "execute_result"
    }
   ],
   "source": [
    "'edo'"
   ]
  },
  {
   "cell_type": "markdown",
   "id": "b528565b-6b9f-4cab-b4ef-d364a71c5903",
   "metadata": {},
   "source": [
    "# Object-Oriented Programming"
   ]
  },
  {
   "cell_type": "markdown",
   "id": "93fb3fb7-13df-4716-91d3-db25892b6e26",
   "metadata": {},
   "source": [
    "> Which `objects` are predefined by Python?\n",
    "> - numbers\n",
    "> - text\n",
    "> - set of `objects`"
   ]
  },
  {
   "cell_type": "markdown",
   "id": "cf9a43fb-9e5f-449f-93d6-2ee3e36c71a6",
   "metadata": {},
   "source": [
    "## `string`"
   ]
  },
  {
   "cell_type": "code",
   "execution_count": null,
   "id": "ec2dd938-49e7-47ed-83e6-cb9f1c2c4aa4",
   "metadata": {},
   "outputs": [],
   "source": []
  },
  {
   "cell_type": "code",
   "execution_count": null,
   "id": "efda6a5f-aca8-4952-873c-3f178475e5e2",
   "metadata": {},
   "outputs": [],
   "source": []
  },
  {
   "cell_type": "markdown",
   "id": "1c8e5ad2-f430-4551-96ab-52e6f56cd0f2",
   "metadata": {},
   "source": [
    "## `integer`"
   ]
  },
  {
   "cell_type": "code",
   "execution_count": null,
   "id": "a256c92b-95f3-4297-acb9-cf131ff92b35",
   "metadata": {},
   "outputs": [],
   "source": []
  },
  {
   "cell_type": "code",
   "execution_count": null,
   "id": "2c6a1ae4-03ec-42db-a1e5-f0a4e8b098bd",
   "metadata": {},
   "outputs": [],
   "source": []
  },
  {
   "cell_type": "markdown",
   "id": "27dee7a9-29a8-42b2-a60e-49df70453adb",
   "metadata": {},
   "source": [
    "## `float`"
   ]
  },
  {
   "cell_type": "code",
   "execution_count": null,
   "id": "b6e0cfd8-28e0-4a8e-b4ef-3d8ef8fbb146",
   "metadata": {},
   "outputs": [],
   "source": []
  },
  {
   "cell_type": "code",
   "execution_count": null,
   "id": "3ff87232-8559-4159-8c35-059949068481",
   "metadata": {},
   "outputs": [],
   "source": []
  },
  {
   "cell_type": "markdown",
   "id": "72742636-6092-40f4-a634-330da1aa066a",
   "metadata": {},
   "source": [
    "# Use of Functions"
   ]
  },
  {
   "cell_type": "markdown",
   "id": "f1e6d281-9765-4eb8-92a8-6b541b93c9f0",
   "metadata": {},
   "source": [
    "## Functions inside Objects"
   ]
  },
  {
   "cell_type": "markdown",
   "id": "be865b52-fcc2-42d7-a2a6-ba585fdfc957",
   "metadata": {},
   "source": [
    "> - The `dog` makes `guau()`: `dog.guau()`\n",
    "> - The `cat` makes `miau()`: `cat.miau()`\n",
    "> - [ ] Can a `dog` make `miau()`: ~~`dog.miau()`~~ ? "
   ]
  },
  {
   "cell_type": "code",
   "execution_count": null,
   "id": "6a0a9be8-b221-448e-a71f-990e1041ec3d",
   "metadata": {},
   "outputs": [],
   "source": []
  },
  {
   "cell_type": "code",
   "execution_count": null,
   "id": "f292a7e3-cb41-4f03-bdb3-7097519783a6",
   "metadata": {},
   "outputs": [],
   "source": []
  },
  {
   "cell_type": "code",
   "execution_count": null,
   "id": "8ebef073-5c80-4c57-8a4b-28a28bb45915",
   "metadata": {},
   "outputs": [],
   "source": []
  },
  {
   "cell_type": "code",
   "execution_count": null,
   "id": "9780b75e-953f-42fd-bb44-4509aaf3048a",
   "metadata": {},
   "outputs": [],
   "source": []
  },
  {
   "cell_type": "code",
   "execution_count": null,
   "id": "7b1bad52-5c9f-4634-ae4d-6908e2c830e9",
   "metadata": {},
   "outputs": [],
   "source": []
  },
  {
   "cell_type": "code",
   "execution_count": null,
   "id": "7441f540-18c7-47c1-9d7f-17398e350f50",
   "metadata": {},
   "outputs": [],
   "source": []
  },
  {
   "cell_type": "code",
   "execution_count": null,
   "id": "c5429de7-2ad4-4d6c-bb45-fe9878c1c603",
   "metadata": {},
   "outputs": [],
   "source": []
  },
  {
   "cell_type": "code",
   "execution_count": null,
   "id": "70dadc19-c152-47f0-8573-b3ab6a188e1a",
   "metadata": {},
   "outputs": [],
   "source": []
  },
  {
   "cell_type": "code",
   "execution_count": null,
   "id": "0e3b166a-0a0d-4afc-87b8-a70665cb1406",
   "metadata": {},
   "outputs": [],
   "source": []
  },
  {
   "cell_type": "code",
   "execution_count": null,
   "id": "80daa880-1d48-4065-8b18-ec01d115368f",
   "metadata": {},
   "outputs": [],
   "source": []
  },
  {
   "cell_type": "code",
   "execution_count": null,
   "id": "b905536c-3f5f-4fa2-90d7-cef377f5055a",
   "metadata": {},
   "outputs": [],
   "source": []
  },
  {
   "cell_type": "code",
   "execution_count": null,
   "id": "63012208-95a4-4ed3-87e2-cbc40057e32f",
   "metadata": {},
   "outputs": [],
   "source": []
  },
  {
   "cell_type": "markdown",
   "id": "e512f553-8718-42dc-b94d-da705e8992e6",
   "metadata": {},
   "source": [
    "## Predefined Functions in Python (_Built-in_ Functions)"
   ]
  },
  {
   "cell_type": "markdown",
   "id": "9316ba5d-1385-4f1e-bb2b-b4f8a8c06dde",
   "metadata": {},
   "source": [
    "> - https://docs.python.org/3/library/functions.html"
   ]
  },
  {
   "cell_type": "code",
   "execution_count": null,
   "id": "9b2c7ae1-5c21-4e05-acf3-be5e11d3160a",
   "metadata": {},
   "outputs": [],
   "source": []
  },
  {
   "cell_type": "code",
   "execution_count": null,
   "id": "0dcaeb7e-c187-4397-9281-48a42ed651af",
   "metadata": {},
   "outputs": [],
   "source": []
  },
  {
   "cell_type": "code",
   "execution_count": null,
   "id": "da90d7d5-64a9-45d8-8919-e9bb304a17e3",
   "metadata": {},
   "outputs": [],
   "source": []
  },
  {
   "cell_type": "code",
   "execution_count": null,
   "id": "35e37468-bc84-491d-bf22-7dc04eb90fc1",
   "metadata": {},
   "outputs": [],
   "source": []
  },
  {
   "cell_type": "code",
   "execution_count": null,
   "id": "69d1e813-1a9c-44d1-99b9-65de2d928712",
   "metadata": {},
   "outputs": [],
   "source": []
  },
  {
   "cell_type": "code",
   "execution_count": null,
   "id": "0abaeb77-d6a2-4063-9cee-69c95dcf0015",
   "metadata": {},
   "outputs": [],
   "source": []
  },
  {
   "cell_type": "code",
   "execution_count": null,
   "id": "23716f27-ea99-4a9c-abea-e8aec8634de8",
   "metadata": {},
   "outputs": [],
   "source": []
  },
  {
   "cell_type": "code",
   "execution_count": null,
   "id": "1f4adc13-399f-4e33-be0c-6093f2b528f2",
   "metadata": {},
   "outputs": [],
   "source": []
  },
  {
   "cell_type": "code",
   "execution_count": null,
   "id": "04999d3a-f6a2-4850-b34a-43d7aed46884",
   "metadata": {},
   "outputs": [],
   "source": []
  },
  {
   "cell_type": "code",
   "execution_count": null,
   "id": "cc93829c-3aa8-4473-afde-c7fa0f198014",
   "metadata": {},
   "outputs": [],
   "source": []
  },
  {
   "cell_type": "code",
   "execution_count": null,
   "id": "7fe80e13-d9dd-4792-a054-e43ac19513c7",
   "metadata": {},
   "outputs": [],
   "source": []
  },
  {
   "cell_type": "code",
   "execution_count": null,
   "id": "d9d66303-6614-42ac-97d0-0e01ea5bad05",
   "metadata": {},
   "outputs": [],
   "source": []
  },
  {
   "cell_type": "code",
   "execution_count": null,
   "id": "78da4a44-9551-4d49-8419-45562c1706dd",
   "metadata": {},
   "outputs": [],
   "source": []
  },
  {
   "cell_type": "markdown",
   "id": "6c6e159a-fd57-40e5-8737-3a2e77650745",
   "metadata": {
    "tags": []
   },
   "source": [
    "## Discipline to Search Solutions in Google"
   ]
  },
  {
   "cell_type": "markdown",
   "id": "4abac81a-b7eb-4f99-85d4-fe09cbd6328a",
   "metadata": {},
   "source": [
    "> Apply the following steps when **looking for solutions in Google**:\n",
    ">\n",
    "> 1. **Necesity**: How to load an Excel in Python?\n",
    "> 2. **Search in Google**: by keywords\n",
    ">   - `load excel python`\n",
    ">   - ~~how to load excel in python~~\n",
    "> 3. **Solution**: What's the `function()` that loads an Excel in Python?"
   ]
  },
  {
   "cell_type": "markdown",
   "id": "cf8faa78",
   "metadata": {},
   "source": [
    "## External Functions"
   ]
  },
  {
   "cell_type": "markdown",
   "id": "9f8e0836",
   "metadata": {},
   "source": [
    "> - [ ] Load [this Excel](https://github.com/sotastica/data/raw/main/internet_usage_spain.xlsx) into Python"
   ]
  },
  {
   "cell_type": "code",
   "execution_count": null,
   "id": "2f72757a-7ba5-42d7-bce1-4d8719cde6a6",
   "metadata": {},
   "outputs": [],
   "source": []
  },
  {
   "cell_type": "code",
   "execution_count": null,
   "id": "670c4211-1556-48cd-88c7-09a15949f9c0",
   "metadata": {},
   "outputs": [],
   "source": []
  },
  {
   "cell_type": "code",
   "execution_count": null,
   "id": "25f50201-0177-4739-8f36-0f84d32bb742",
   "metadata": {},
   "outputs": [],
   "source": []
  },
  {
   "cell_type": "code",
   "execution_count": null,
   "id": "1d65c56b-a4da-47f4-bb6b-50700c6d5295",
   "metadata": {},
   "outputs": [],
   "source": []
  },
  {
   "cell_type": "code",
   "execution_count": null,
   "id": "4b882f76-2280-4c00-bff0-2652dc4331a7",
   "metadata": {},
   "outputs": [],
   "source": []
  },
  {
   "cell_type": "code",
   "execution_count": null,
   "id": "7ec5e875-24f1-4ea1-8456-67c79ca9ccd4",
   "metadata": {},
   "outputs": [],
   "source": []
  },
  {
   "cell_type": "markdown",
   "id": "5da10922-17cf-406a-ba2e-f779d6b72b09",
   "metadata": {},
   "source": [
    "## Change Default Parameters of a Function"
   ]
  },
  {
   "cell_type": "markdown",
   "id": "2e721cf7-a397-4e34-99ed-ac0dd2c5a269",
   "metadata": {},
   "source": [
    "> - By Default ↓"
   ]
  },
  {
   "cell_type": "code",
   "execution_count": null,
   "id": "e141f886-1fae-4ce3-8251-d8fc90801591",
   "metadata": {},
   "outputs": [],
   "source": []
  },
  {
   "cell_type": "markdown",
   "id": "63f7860e-cc76-481f-acd3-15d17864db01",
   "metadata": {},
   "source": [
    "> - [ ] Change the Default Object of the Parameter ↓"
   ]
  },
  {
   "cell_type": "code",
   "execution_count": null,
   "id": "119425c9-1d62-4332-8e32-d78b3e5ae8f1",
   "metadata": {},
   "outputs": [],
   "source": []
  },
  {
   "cell_type": "code",
   "execution_count": null,
   "id": "8c40a830-a66a-48f1-8776-c5d7c98b7c44",
   "metadata": {},
   "outputs": [],
   "source": []
  },
  {
   "cell_type": "markdown",
   "id": "72145007-7bb2-44ec-9056-adcf9f255a6d",
   "metadata": {},
   "source": [
    "## The Elements of Programming"
   ]
  },
  {
   "cell_type": "markdown",
   "id": "a23a3907-8a78-4e5b-b1a1-990203895a40",
   "metadata": {},
   "source": [
    "> - `module`: where the code of functions are stored.\n",
    ">   - `function()`: execute several lines of code with one `word()`.\n",
    ">       - `(parameter=?)`: to **configure** the function's behaviour.\n",
    ">           - `object` | `instance` | `class`: **data structure** to store information."
   ]
  },
  {
   "cell_type": "markdown",
   "id": "140dd81d",
   "metadata": {},
   "source": [
    "## Code Syntax"
   ]
  },
  {
   "cell_type": "markdown",
   "id": "e641dd82",
   "metadata": {},
   "source": [
    "> In which order Python reads the line of code?\n",
    "> - From <ins>left to right</ins>.\n",
    "> - From <ins>up to down</ins>."
   ]
  },
  {
   "cell_type": "code",
   "execution_count": null,
   "id": "b5e25cb9-d1dd-493b-8498-2a1e19af81ca",
   "metadata": {},
   "outputs": [],
   "source": []
  },
  {
   "cell_type": "markdown",
   "id": "2ce92293-4dc0-44d1-8032-dade05e94421",
   "metadata": {},
   "source": [
    "1. `library`\n",
    "2. `.` **DOT NOTATION** para acceder a las funciones del modulo, a las funciones del objeto\n",
    "3. `function()`\n",
    "4. pasamos `objects` a los `parameters`\n",
    "    - pasamos `str (\"internet_usage_spain.xlsx\")` al `parametro (io=?)`\n",
    "    - pasamos `int (1)` al `parametro (sheet_name=?)`\n",
    "5. ejecutamos\n",
    "6. magia borras\n",
    "7. la `function()` nos devuelve un `object`"
   ]
  },
  {
   "cell_type": "code",
   "execution_count": null,
   "id": "f4a1d751-dbfc-4269-9c8e-e7f402541195",
   "metadata": {},
   "outputs": [],
   "source": []
  },
  {
   "cell_type": "code",
   "execution_count": null,
   "id": "147c0118-6f02-4c67-9a08-24bac7487e08",
   "metadata": {},
   "outputs": [],
   "source": []
  },
  {
   "cell_type": "code",
   "execution_count": null,
   "id": "0b3f4d28-d525-48a7-90a0-8f68ef9b2c58",
   "metadata": {},
   "outputs": [],
   "source": []
  },
  {
   "cell_type": "code",
   "execution_count": null,
   "id": "97c81fc8-87eb-4166-a549-41070e8f9a49",
   "metadata": {},
   "outputs": [],
   "source": []
  },
  {
   "cell_type": "markdown",
   "id": "1766242d-996b-4116-a7f8-e8f21f4b5674",
   "metadata": {
    "tags": []
   },
   "source": [
    "## Python doesn't know about the Excel File\n",
    "\n",
    "> - Python just interprets the `string`\n",
    "> - and the `integer`"
   ]
  },
  {
   "cell_type": "code",
   "execution_count": null,
   "id": "ca9a6858-d9fd-4dfe-91bc-e9097e6e4ca2",
   "metadata": {},
   "outputs": [],
   "source": []
  },
  {
   "cell_type": "code",
   "execution_count": null,
   "id": "b4a922fb-d34d-4b74-af7a-a376512b041a",
   "metadata": {},
   "outputs": [],
   "source": []
  },
  {
   "cell_type": "markdown",
   "id": "40258955-abd7-4872-acaa-618256e61c58",
   "metadata": {},
   "source": [
    "> - As you pass the `objects` to the `parameters` of the `function()`\n",
    "> \n",
    "> - `function(parameter=object)`"
   ]
  },
  {
   "cell_type": "code",
   "execution_count": null,
   "id": "c2bcc8e0-7edd-4cba-ac9a-4e5760579fc4",
   "metadata": {},
   "outputs": [],
   "source": []
  },
  {
   "cell_type": "markdown",
   "id": "f77f4b8f-efe7-4525-9a4f-80bd99653c2d",
   "metadata": {},
   "source": [
    "## Source Code Execution | What happens <ins>inside</ins> the computer ?"
   ]
  },
  {
   "cell_type": "markdown",
   "id": "f13f8f19-2880-4ac9-aca1-509e188a49fe",
   "metadata": {},
   "source": [
    "> - When we type `pd.read_excel()`\n",
    "> - and execute `shift` + `enter`"
   ]
  },
  {
   "cell_type": "code",
   "execution_count": null,
   "id": "2f52e469-5651-4fed-b8e4-8d076997a5b6",
   "metadata": {},
   "outputs": [],
   "source": []
  },
  {
   "cell_type": "markdown",
   "id": "f6917b73-6390-47f5-8c83-2a00c92f8dc6",
   "metadata": {},
   "source": [
    "`~/miniforge3/lib/python3.9/site-packages/pandas/io/excel/_base.py`"
   ]
  },
  {
   "cell_type": "markdown",
   "id": "7ea8cc83-7736-4525-9c5b-bd6186ac808b",
   "metadata": {},
   "source": [
    "> - How Python locates the error when it doesn't find the `filename`?"
   ]
  },
  {
   "cell_type": "code",
   "execution_count": null,
   "id": "eddd746c-3930-494b-98dc-8771c0c10cde",
   "metadata": {},
   "outputs": [],
   "source": []
  },
  {
   "cell_type": "code",
   "execution_count": null,
   "id": "85b0122f-3966-41bd-9336-1c2b7dd60462",
   "metadata": {},
   "outputs": [],
   "source": []
  },
  {
   "cell_type": "code",
   "execution_count": null,
   "id": "1a32a0e5-7013-495c-9c9c-2caaba854143",
   "metadata": {},
   "outputs": [],
   "source": []
  },
  {
   "cell_type": "code",
   "execution_count": null,
   "id": "28764918-e37f-4f1b-86d2-8bc7f50ef5fe",
   "metadata": {},
   "outputs": [],
   "source": []
  },
  {
   "cell_type": "markdown",
   "id": "0d064658",
   "metadata": {},
   "source": [
    "## Recap | Types of Functions"
   ]
  },
  {
   "cell_type": "markdown",
   "id": "85a24444",
   "metadata": {},
   "source": [
    "### Buit-in (Predefined) `functions()`"
   ]
  },
  {
   "cell_type": "code",
   "execution_count": null,
   "id": "7c1d547d-414c-4810-8a71-8ae50e768b60",
   "metadata": {},
   "outputs": [],
   "source": []
  },
  {
   "cell_type": "code",
   "execution_count": null,
   "id": "d2189650-4146-4b89-908b-b686cb8fd887",
   "metadata": {},
   "outputs": [],
   "source": []
  },
  {
   "cell_type": "code",
   "execution_count": null,
   "id": "1294aee0-0f78-4702-a521-73c3b3ede8b7",
   "metadata": {},
   "outputs": [],
   "source": []
  },
  {
   "cell_type": "markdown",
   "id": "729dc24c-da36-47ec-8a40-c899060cd7a0",
   "metadata": {},
   "source": [
    "### External `functions()` from `modules`"
   ]
  },
  {
   "cell_type": "code",
   "execution_count": null,
   "id": "7857f0b8-678a-4cbc-8c2e-770828552e35",
   "metadata": {},
   "outputs": [],
   "source": []
  },
  {
   "cell_type": "code",
   "execution_count": null,
   "id": "ad4bae21-13a6-4b7d-a185-ff112b43a488",
   "metadata": {},
   "outputs": [],
   "source": []
  },
  {
   "cell_type": "code",
   "execution_count": null,
   "id": "7fcd8255-74fb-4e8b-8dd1-81e9b32eef8d",
   "metadata": {},
   "outputs": [],
   "source": []
  },
  {
   "cell_type": "markdown",
   "id": "64e9f203-34c9-4115-bd3f-ad69875f220d",
   "metadata": {},
   "source": [
    "### `functions()` within `instances`"
   ]
  },
  {
   "cell_type": "code",
   "execution_count": null,
   "id": "102eb31d-ae9f-4aa0-a32d-18e4803b02b5",
   "metadata": {},
   "outputs": [],
   "source": []
  },
  {
   "cell_type": "code",
   "execution_count": null,
   "id": "df368fbf-63ff-4cab-9a98-a7536aa065cf",
   "metadata": {},
   "outputs": [],
   "source": []
  },
  {
   "cell_type": "code",
   "execution_count": null,
   "id": "c34be01c-499e-4c9d-9a5b-f98ac99ec5e3",
   "metadata": {},
   "outputs": [],
   "source": []
  },
  {
   "cell_type": "code",
   "execution_count": null,
   "id": "a8bed796-9602-45ae-8428-da8e4c87b499",
   "metadata": {},
   "outputs": [],
   "source": []
  },
  {
   "cell_type": "code",
   "execution_count": null,
   "id": "9a5a9862-9660-4477-b7fa-72a84a760a6d",
   "metadata": {},
   "outputs": [],
   "source": []
  },
  {
   "cell_type": "code",
   "execution_count": null,
   "id": "943254c7-eb61-4634-8c22-9c15a6eec37e",
   "metadata": {},
   "outputs": [],
   "source": []
  },
  {
   "cell_type": "code",
   "execution_count": null,
   "id": "26a82717-f2f4-4a9f-b068-21edbebed710",
   "metadata": {},
   "outputs": [],
   "source": []
  },
  {
   "cell_type": "code",
   "execution_count": null,
   "id": "fd7d0c94-74d1-45ad-aa05-aed57b32fe70",
   "metadata": {},
   "outputs": [],
   "source": []
  }
 ],
 "metadata": {
  "authors": [
   {
    "name": "Jesús López @sotastica"
   }
  ],
  "interpreter": {
   "hash": "414fd6d7c0f0aefb3d4e2db41edbeb0df03134e10d94a689550561b640a17652"
  },
  "kernelspec": {
   "display_name": "Python 3",
   "language": "python",
   "name": "python3"
  },
  "language_info": {
   "codemirror_mode": {
    "name": "ipython",
    "version": 3
   },
   "file_extension": ".py",
   "mimetype": "text/x-python",
   "name": "python",
   "nbconvert_exporter": "python",
   "pygments_lexer": "ipython3",
   "version": "3.8.8"
  },
  "toc-autonumbering": true
 },
 "nbformat": 4,
 "nbformat_minor": 5
}
