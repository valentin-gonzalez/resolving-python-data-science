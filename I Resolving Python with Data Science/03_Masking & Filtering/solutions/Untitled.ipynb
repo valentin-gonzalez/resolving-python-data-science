{
 "cells": [
  {
   "cell_type": "code",
   "execution_count": null,
   "id": "165de145-7a05-4a9a-98c6-7b3a55cc7886",
   "metadata": {},
   "outputs": [],
   "source": []
  },
  {
   "cell_type": "markdown",
   "id": "c0cb27ee-7a64-448c-bb45-9fb839012bbd",
   "metadata": {},
   "source": [
    "# Masking & Filtering the `DataFrame`\n",
    "\n",
    "> - [ ] **Select** elements of the `object` **based on a Condition**"
   ]
  },
  {
   "cell_type": "code",
   "execution_count": null,
   "id": "b7408dc8-58dd-4e46-94db-020692e388cc",
   "metadata": {},
   "outputs": [],
   "source": []
  },
  {
   "cell_type": "markdown",
   "id": "002b0f76-0fbd-4fbf-8126-c8861cd52212",
   "metadata": {},
   "source": [
    "## Filter people older than 70"
   ]
  },
  {
   "cell_type": "code",
   "execution_count": null,
   "id": "671934ff-33ff-40f0-844c-3aa589abf2c1",
   "metadata": {},
   "outputs": [],
   "source": []
  },
  {
   "cell_type": "markdown",
   "id": "67592ede-d632-48bf-83af-3f0720cf1291",
   "metadata": {},
   "source": [
    "## Filter people without studies"
   ]
  },
  {
   "cell_type": "code",
   "execution_count": null,
   "id": "c1e946ca-de8c-4676-9355-8eea73c3908a",
   "metadata": {},
   "outputs": [],
   "source": []
  },
  {
   "cell_type": "markdown",
   "id": "7e57f420-7282-45b0-9472-738b2ee9caef",
   "metadata": {},
   "source": [
    "## Filter people older than 70 and without studies"
   ]
  },
  {
   "cell_type": "code",
   "execution_count": null,
   "id": "169c2b41-ad44-47a8-a486-cf364a5bacf7",
   "metadata": {},
   "outputs": [],
   "source": []
  },
  {
   "cell_type": "markdown",
   "id": "6ba3cb18-e920-4779-b5d3-494b3d40d2d8",
   "metadata": {},
   "source": [
    "## Filter people older than 70 or without studies"
   ]
  },
  {
   "cell_type": "code",
   "execution_count": null,
   "id": "1783f38e-7642-40e5-a9e6-5f45b3047b93",
   "metadata": {},
   "outputs": [],
   "source": []
  }
 ],
 "metadata": {
  "kernelspec": {
   "display_name": "Python 3 (ipykernel)",
   "language": "python",
   "name": "python3"
  },
  "language_info": {
   "codemirror_mode": {
    "name": "ipython",
    "version": 3
   },
   "file_extension": ".py",
   "mimetype": "text/x-python",
   "name": "python",
   "nbconvert_exporter": "python",
   "pygments_lexer": "ipython3",
   "version": "3.9.7"
  }
 },
 "nbformat": 4,
 "nbformat_minor": 5
}
