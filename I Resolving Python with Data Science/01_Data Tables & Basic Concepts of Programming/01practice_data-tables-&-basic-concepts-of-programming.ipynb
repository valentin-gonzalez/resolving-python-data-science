{
 "cells": [
  {
   "cell_type": "markdown",
   "id": "e831c841",
   "metadata": {},
   "source": [
    "<font size=\"+5\">#01 | Data Tables & Basic Concepts of Programming</font>"
   ]
  },
  {
   "cell_type": "markdown",
   "id": "f292bc7a-e4ee-417b-8377-923a3919d249",
   "metadata": {},
   "source": [
    "- Subscribe to my [Blog ↗](https://blog.pythonassembly.com/)\n",
    "- Let's keep in touch on [LinkedIn ↗](www.linkedin.com/in/jsulopz) 😄"
   ]
  },
  {
   "cell_type": "markdown",
   "id": "90e84341",
   "metadata": {},
   "source": [
    "# Discipline to Search Solutions in Google"
   ]
  },
  {
   "cell_type": "markdown",
   "id": "da9a5f03",
   "metadata": {},
   "source": [
    "> Apply the following steps when **looking for solutions in Google**:\n",
    ">\n",
    "> 1. **Necesity**: How to load an Excel in Python?\n",
    "> 2. **Search in Google**: by keywords\n",
    ">   - `load excel python`\n",
    ">   - ~~how to load excel in python~~\n",
    "> 3. **Solution**: What's the `function()` that loads an Excel in Python?\n",
    ">   - A Function to Programming is what the Atom to Phisics.\n",
    ">   - Every time you want to do something in programming\n",
    ">   - **You will need a `function()`** to make it\n",
    ">   - Theferore, you must **detect parenthesis `()`**\n",
    ">   - Out of all the words that you see in a website\n",
    ">   - Because they indicate the presence of a `function()`."
   ]
  },
  {
   "cell_type": "markdown",
   "id": "fa04bd1e",
   "metadata": {},
   "source": [
    "# Load the Data"
   ]
  },
  {
   "cell_type": "code",
   "execution_count": 1,
   "id": "137b5dfc-d8a8-48e9-ae61-cc04d9a6f84c",
   "metadata": {},
   "outputs": [
    {
     "data": {
      "text/html": [
       "<div>\n",
       "<style scoped>\n",
       "    .dataframe tbody tr th:only-of-type {\n",
       "        vertical-align: middle;\n",
       "    }\n",
       "\n",
       "    .dataframe tbody tr th {\n",
       "        vertical-align: top;\n",
       "    }\n",
       "\n",
       "    .dataframe thead th {\n",
       "        text-align: right;\n",
       "    }\n",
       "</style>\n",
       "<table border=\"1\" class=\"dataframe\">\n",
       "  <thead>\n",
       "    <tr style=\"text-align: right;\">\n",
       "      <th></th>\n",
       "      <th>Country name</th>\n",
       "      <th>Regional indicator</th>\n",
       "      <th>Population 2020</th>\n",
       "      <th>Population 2019</th>\n",
       "      <th>COVID-19 deaths per 100,000 population in 2020</th>\n",
       "      <th>Median age</th>\n",
       "      <th>Island</th>\n",
       "      <th>Index of exposure to COVID-19  infections in other countries as of March 31</th>\n",
       "      <th>Log of average distance to SARS countries</th>\n",
       "      <th>WHO Western Pacific Region</th>\n",
       "      <th>Female head of government</th>\n",
       "      <th>Index of institutional trust</th>\n",
       "      <th>Gini coefficient of income</th>\n",
       "      <th>All-cause death count, 2017</th>\n",
       "      <th>All-cause death count, 2018</th>\n",
       "      <th>All-cause death count, 2019</th>\n",
       "      <th>All-cause death count, 2020</th>\n",
       "      <th>Excess deaths in 2020 per 100,000 population, relative to 2017-2019 average</th>\n",
       "    </tr>\n",
       "  </thead>\n",
       "  <tbody>\n",
       "    <tr>\n",
       "      <th>0</th>\n",
       "      <td>Finland</td>\n",
       "      <td>Western Europe</td>\n",
       "      <td>5540718.0</td>\n",
       "      <td>5520314.0</td>\n",
       "      <td>10.125000</td>\n",
       "      <td>42.799999</td>\n",
       "      <td>0</td>\n",
       "      <td>2.225083</td>\n",
       "      <td>8.926763</td>\n",
       "      <td>0</td>\n",
       "      <td>1</td>\n",
       "      <td>0.549860</td>\n",
       "      <td>25.9</td>\n",
       "      <td>53546.0</td>\n",
       "      <td>54394.0</td>\n",
       "      <td>53821.0</td>\n",
       "      <td>55663.0</td>\n",
       "      <td>31.510042</td>\n",
       "    </tr>\n",
       "    <tr>\n",
       "      <th>1</th>\n",
       "      <td>Denmark</td>\n",
       "      <td>Western Europe</td>\n",
       "      <td>5792203.0</td>\n",
       "      <td>5818553.0</td>\n",
       "      <td>22.409399</td>\n",
       "      <td>42.299999</td>\n",
       "      <td>0</td>\n",
       "      <td>3.953056</td>\n",
       "      <td>9.006084</td>\n",
       "      <td>0</td>\n",
       "      <td>1</td>\n",
       "      <td>0.571761</td>\n",
       "      <td>27.8</td>\n",
       "      <td>53103.0</td>\n",
       "      <td>55076.0</td>\n",
       "      <td>53805.0</td>\n",
       "      <td>55477.0</td>\n",
       "      <td>25.533773</td>\n",
       "    </tr>\n",
       "    <tr>\n",
       "      <th>2</th>\n",
       "      <td>Switzerland</td>\n",
       "      <td>Western Europe</td>\n",
       "      <td>8654618.0</td>\n",
       "      <td>8574832.0</td>\n",
       "      <td>88.334305</td>\n",
       "      <td>43.099998</td>\n",
       "      <td>0</td>\n",
       "      <td>5.583522</td>\n",
       "      <td>9.078127</td>\n",
       "      <td>0</td>\n",
       "      <td>0</td>\n",
       "      <td>0.660001</td>\n",
       "      <td>30.1</td>\n",
       "      <td>66703.0</td>\n",
       "      <td>66888.0</td>\n",
       "      <td>67515.0</td>\n",
       "      <td>77087.0</td>\n",
       "      <td>116.680031</td>\n",
       "    </tr>\n",
       "    <tr>\n",
       "      <th>3</th>\n",
       "      <td>Iceland</td>\n",
       "      <td>Western Europe</td>\n",
       "      <td>341250.0</td>\n",
       "      <td>361313.0</td>\n",
       "      <td>8.498200</td>\n",
       "      <td>37.299999</td>\n",
       "      <td>1</td>\n",
       "      <td>1.649335</td>\n",
       "      <td>9.069892</td>\n",
       "      <td>0</td>\n",
       "      <td>1</td>\n",
       "      <td>0.325369</td>\n",
       "      <td>24.1</td>\n",
       "      <td>2229.0</td>\n",
       "      <td>2247.0</td>\n",
       "      <td>2261.0</td>\n",
       "      <td>2321.0</td>\n",
       "      <td>21.445267</td>\n",
       "    </tr>\n",
       "    <tr>\n",
       "      <th>4</th>\n",
       "      <td>Netherlands</td>\n",
       "      <td>Western Europe</td>\n",
       "      <td>17134873.0</td>\n",
       "      <td>17332850.0</td>\n",
       "      <td>67.260498</td>\n",
       "      <td>43.200001</td>\n",
       "      <td>0</td>\n",
       "      <td>5.573827</td>\n",
       "      <td>9.059903</td>\n",
       "      <td>0</td>\n",
       "      <td>0</td>\n",
       "      <td>0.522208</td>\n",
       "      <td>27.0</td>\n",
       "      <td>149805.0</td>\n",
       "      <td>152991.0</td>\n",
       "      <td>151547.0</td>\n",
       "      <td>171175.0</td>\n",
       "      <td>114.468414</td>\n",
       "    </tr>\n",
       "  </tbody>\n",
       "</table>\n",
       "</div>"
      ],
      "text/plain": [
       "  Country name Regional indicator  Population 2020  Population 2019  \\\n",
       "0      Finland     Western Europe        5540718.0        5520314.0   \n",
       "1      Denmark     Western Europe        5792203.0        5818553.0   \n",
       "2  Switzerland     Western Europe        8654618.0        8574832.0   \n",
       "3      Iceland     Western Europe         341250.0         361313.0   \n",
       "4  Netherlands     Western Europe       17134873.0       17332850.0   \n",
       "\n",
       "   COVID-19 deaths per 100,000 population in 2020  Median age  Island  \\\n",
       "0                                       10.125000   42.799999       0   \n",
       "1                                       22.409399   42.299999       0   \n",
       "2                                       88.334305   43.099998       0   \n",
       "3                                        8.498200   37.299999       1   \n",
       "4                                       67.260498   43.200001       0   \n",
       "\n",
       "   Index of exposure to COVID-19  infections in other countries as of March 31  \\\n",
       "0                                           2.225083                             \n",
       "1                                           3.953056                             \n",
       "2                                           5.583522                             \n",
       "3                                           1.649335                             \n",
       "4                                           5.573827                             \n",
       "\n",
       "   Log of average distance to SARS countries  WHO Western Pacific Region  \\\n",
       "0                                   8.926763                           0   \n",
       "1                                   9.006084                           0   \n",
       "2                                   9.078127                           0   \n",
       "3                                   9.069892                           0   \n",
       "4                                   9.059903                           0   \n",
       "\n",
       "   Female head of government  Index of institutional trust  \\\n",
       "0                          1                      0.549860   \n",
       "1                          1                      0.571761   \n",
       "2                          0                      0.660001   \n",
       "3                          1                      0.325369   \n",
       "4                          0                      0.522208   \n",
       "\n",
       "   Gini coefficient of income  All-cause death count, 2017  \\\n",
       "0                        25.9                      53546.0   \n",
       "1                        27.8                      53103.0   \n",
       "2                        30.1                      66703.0   \n",
       "3                        24.1                       2229.0   \n",
       "4                        27.0                     149805.0   \n",
       "\n",
       "   All-cause death count, 2018  All-cause death count, 2019  \\\n",
       "0                      54394.0                      53821.0   \n",
       "1                      55076.0                      53805.0   \n",
       "2                      66888.0                      67515.0   \n",
       "3                       2247.0                       2261.0   \n",
       "4                     152991.0                     151547.0   \n",
       "\n",
       "   All-cause death count, 2020  \\\n",
       "0                      55663.0   \n",
       "1                      55477.0   \n",
       "2                      77087.0   \n",
       "3                       2321.0   \n",
       "4                     171175.0   \n",
       "\n",
       "   Excess deaths in 2020 per 100,000 population, relative to 2017-2019 average  \n",
       "0                                          31.510042                            \n",
       "1                                          25.533773                            \n",
       "2                                         116.680031                            \n",
       "3                                          21.445267                            \n",
       "4                                         114.468414                            "
      ]
     },
     "execution_count": 1,
     "metadata": {},
     "output_type": "execute_result"
    }
   ],
   "source": [
    "import pandas as pd\n",
    "\n",
    "df = pd.read_excel('df_mortality_regions.xlsx')\n",
    "df.head()"
   ]
  },
  {
   "cell_type": "markdown",
   "id": "948d6751",
   "metadata": {},
   "source": [
    "# Islands"
   ]
  },
  {
   "cell_type": "markdown",
   "id": "ae1b043c",
   "metadata": {},
   "source": [
    "## Number of Islands "
   ]
  },
  {
   "cell_type": "code",
   "execution_count": 3,
   "id": "2228d5c5",
   "metadata": {},
   "outputs": [],
   "source": [
    "mask = df.Island == 1"
   ]
  },
  {
   "cell_type": "code",
   "execution_count": 5,
   "id": "dd98f281-30e3-45f8-abdd-c4fd05f5d47f",
   "metadata": {},
   "outputs": [
    {
     "data": {
      "text/plain": [
       "(20, 18)"
      ]
     },
     "execution_count": 5,
     "metadata": {},
     "output_type": "execute_result"
    }
   ],
   "source": [
    "df[mask].shape"
   ]
  },
  {
   "cell_type": "code",
   "execution_count": 7,
   "id": "ca8df02a-09ff-409a-b012-4b9fda9bbe6d",
   "metadata": {},
   "outputs": [
    {
     "data": {
      "text/plain": [
       "20"
      ]
     },
     "execution_count": 7,
     "metadata": {},
     "output_type": "execute_result"
    }
   ],
   "source": [
    "df.Island.sum()"
   ]
  },
  {
   "cell_type": "code",
   "execution_count": 7,
   "id": "5b67b12d",
   "metadata": {},
   "outputs": [
    {
     "data": {
      "text/plain": [
       "20"
      ]
     },
     "execution_count": 7,
     "metadata": {},
     "output_type": "execute_result"
    }
   ],
   "source": []
  },
  {
   "cell_type": "markdown",
   "id": "ed513c87",
   "metadata": {},
   "source": [
    "## Which region had more Islands?"
   ]
  },
  {
   "cell_type": "code",
   "execution_count": null,
   "id": "e19aa73c",
   "metadata": {},
   "outputs": [],
   "source": []
  },
  {
   "cell_type": "code",
   "execution_count": 4,
   "id": "54a9b49c",
   "metadata": {},
   "outputs": [
    {
     "data": {
      "text/plain": [
       "Regional indicator\n",
       "Western Europe                        5\n",
       "Latin America and Caribbean           3\n",
       "Southeast Asia                        3\n",
       "Sub-Saharan Africa                    3\n",
       "North America and ANZ                 2\n",
       "South Asia                            2\n",
       "East Asia                             1\n",
       "Middle East and North Africa          1\n",
       "Central and Eastern Europe            0\n",
       "Commonwealth of Independent States    0\n",
       "Name: Island, dtype: int64"
      ]
     },
     "execution_count": 4,
     "metadata": {},
     "output_type": "execute_result"
    }
   ],
   "source": []
  },
  {
   "cell_type": "markdown",
   "id": "09318abc",
   "metadata": {},
   "source": [
    "## Show all Columns for these Islands"
   ]
  },
  {
   "cell_type": "code",
   "execution_count": null,
   "id": "768b810d",
   "metadata": {},
   "outputs": [],
   "source": []
  },
  {
   "cell_type": "code",
   "execution_count": 12,
   "id": "036e2895",
   "metadata": {},
   "outputs": [
    {
     "data": {
      "text/html": [
       "<div>\n",
       "<style scoped>\n",
       "    .dataframe tbody tr th:only-of-type {\n",
       "        vertical-align: middle;\n",
       "    }\n",
       "\n",
       "    .dataframe tbody tr th {\n",
       "        vertical-align: top;\n",
       "    }\n",
       "\n",
       "    .dataframe thead th {\n",
       "        text-align: right;\n",
       "    }\n",
       "</style>\n",
       "<table border=\"1\" class=\"dataframe\">\n",
       "  <thead>\n",
       "    <tr style=\"text-align: right;\">\n",
       "      <th></th>\n",
       "      <th>Country name</th>\n",
       "      <th>Regional indicator</th>\n",
       "      <th>Population 2020</th>\n",
       "      <th>Population 2019</th>\n",
       "      <th>COVID-19 deaths per 100,000 population in 2020</th>\n",
       "      <th>Median age</th>\n",
       "      <th>Island</th>\n",
       "      <th>Index of exposure to COVID-19  infections in other countries as of March 31</th>\n",
       "      <th>Log of average distance to SARS countries</th>\n",
       "      <th>WHO Western Pacific Region</th>\n",
       "      <th>Female head of government</th>\n",
       "      <th>Index of institutional trust</th>\n",
       "      <th>Gini coefficient of income</th>\n",
       "      <th>All-cause death count, 2017</th>\n",
       "      <th>All-cause death count, 2018</th>\n",
       "      <th>All-cause death count, 2019</th>\n",
       "      <th>All-cause death count, 2020</th>\n",
       "      <th>Excess deaths in 2020 per 100,000 population, relative to 2017-2019 average</th>\n",
       "    </tr>\n",
       "  </thead>\n",
       "  <tbody>\n",
       "    <tr>\n",
       "      <th>3</th>\n",
       "      <td>Iceland</td>\n",
       "      <td>Western Europe</td>\n",
       "      <td>341250.0</td>\n",
       "      <td>361313.0</td>\n",
       "      <td>8.498200</td>\n",
       "      <td>37.299999</td>\n",
       "      <td>1</td>\n",
       "      <td>1.649335</td>\n",
       "      <td>9.069892</td>\n",
       "      <td>0</td>\n",
       "      <td>1</td>\n",
       "      <td>0.325369</td>\n",
       "      <td>24.10</td>\n",
       "      <td>2229.0</td>\n",
       "      <td>2247.0</td>\n",
       "      <td>2261.0</td>\n",
       "      <td>2321.0</td>\n",
       "      <td>21.445267</td>\n",
       "    </tr>\n",
       "    <tr>\n",
       "      <th>14</th>\n",
       "      <td>Ireland</td>\n",
       "      <td>Western Europe</td>\n",
       "      <td>4937796.0</td>\n",
       "      <td>4941444.0</td>\n",
       "      <td>45.303600</td>\n",
       "      <td>38.700001</td>\n",
       "      <td>1</td>\n",
       "      <td>3.188102</td>\n",
       "      <td>9.100494</td>\n",
       "      <td>0</td>\n",
       "      <td>0</td>\n",
       "      <td>0.430625</td>\n",
       "      <td>30.60</td>\n",
       "      <td>NaN</td>\n",
       "      <td>30621.0</td>\n",
       "      <td>30728.0</td>\n",
       "      <td>32271.0</td>\n",
       "      <td>32.320301</td>\n",
       "    </tr>\n",
       "    <tr>\n",
       "      <th>16</th>\n",
       "      <td>United Kingdom</td>\n",
       "      <td>Western Europe</td>\n",
       "      <td>67886004.0</td>\n",
       "      <td>66834405.0</td>\n",
       "      <td>108.449501</td>\n",
       "      <td>40.799999</td>\n",
       "      <td>1</td>\n",
       "      <td>5.009473</td>\n",
       "      <td>9.087469</td>\n",
       "      <td>0</td>\n",
       "      <td>0</td>\n",
       "      <td>0.267582</td>\n",
       "      <td>34.07</td>\n",
       "      <td>606874.0</td>\n",
       "      <td>613309.0</td>\n",
       "      <td>600532.0</td>\n",
       "      <td>696705.0</td>\n",
       "      <td>133.313141</td>\n",
       "    </tr>\n",
       "    <tr>\n",
       "      <th>22</th>\n",
       "      <td>Malta</td>\n",
       "      <td>Western Europe</td>\n",
       "      <td>441539.0</td>\n",
       "      <td>502653.0</td>\n",
       "      <td>49.599201</td>\n",
       "      <td>42.400002</td>\n",
       "      <td>1</td>\n",
       "      <td>2.822389</td>\n",
       "      <td>9.096670</td>\n",
       "      <td>0</td>\n",
       "      <td>0</td>\n",
       "      <td>0.402808</td>\n",
       "      <td>28.70</td>\n",
       "      <td>3556.0</td>\n",
       "      <td>3672.0</td>\n",
       "      <td>3684.0</td>\n",
       "      <td>4093.0</td>\n",
       "      <td>96.519936</td>\n",
       "    </tr>\n",
       "    <tr>\n",
       "      <th>38</th>\n",
       "      <td>Cyprus</td>\n",
       "      <td>Western Europe</td>\n",
       "      <td>875899.0</td>\n",
       "      <td>1198575.0</td>\n",
       "      <td>13.586000</td>\n",
       "      <td>37.299999</td>\n",
       "      <td>1</td>\n",
       "      <td>1.907791</td>\n",
       "      <td>8.967679</td>\n",
       "      <td>0</td>\n",
       "      <td>0</td>\n",
       "      <td>0.174157</td>\n",
       "      <td>29.10</td>\n",
       "      <td>6009.0</td>\n",
       "      <td>5798.0</td>\n",
       "      <td>6218.0</td>\n",
       "      <td>6636.0</td>\n",
       "      <td>60.513317</td>\n",
       "    </tr>\n",
       "  </tbody>\n",
       "</table>\n",
       "</div>"
      ],
      "text/plain": [
       "      Country name Regional indicator  Population 2020  Population 2019  \\\n",
       "3          Iceland     Western Europe         341250.0         361313.0   \n",
       "14         Ireland     Western Europe        4937796.0        4941444.0   \n",
       "16  United Kingdom     Western Europe       67886004.0       66834405.0   \n",
       "22           Malta     Western Europe         441539.0         502653.0   \n",
       "38          Cyprus     Western Europe         875899.0        1198575.0   \n",
       "\n",
       "    COVID-19 deaths per 100,000 population in 2020  Median age  Island  \\\n",
       "3                                         8.498200   37.299999       1   \n",
       "14                                       45.303600   38.700001       1   \n",
       "16                                      108.449501   40.799999       1   \n",
       "22                                       49.599201   42.400002       1   \n",
       "38                                       13.586000   37.299999       1   \n",
       "\n",
       "    Index of exposure to COVID-19  infections in other countries as of March 31  \\\n",
       "3                                            1.649335                             \n",
       "14                                           3.188102                             \n",
       "16                                           5.009473                             \n",
       "22                                           2.822389                             \n",
       "38                                           1.907791                             \n",
       "\n",
       "    Log of average distance to SARS countries  WHO Western Pacific Region  \\\n",
       "3                                    9.069892                           0   \n",
       "14                                   9.100494                           0   \n",
       "16                                   9.087469                           0   \n",
       "22                                   9.096670                           0   \n",
       "38                                   8.967679                           0   \n",
       "\n",
       "    Female head of government  Index of institutional trust  \\\n",
       "3                           1                      0.325369   \n",
       "14                          0                      0.430625   \n",
       "16                          0                      0.267582   \n",
       "22                          0                      0.402808   \n",
       "38                          0                      0.174157   \n",
       "\n",
       "    Gini coefficient of income  All-cause death count, 2017  \\\n",
       "3                        24.10                       2229.0   \n",
       "14                       30.60                          NaN   \n",
       "16                       34.07                     606874.0   \n",
       "22                       28.70                       3556.0   \n",
       "38                       29.10                       6009.0   \n",
       "\n",
       "    All-cause death count, 2018  All-cause death count, 2019  \\\n",
       "3                        2247.0                       2261.0   \n",
       "14                      30621.0                      30728.0   \n",
       "16                     613309.0                     600532.0   \n",
       "22                       3672.0                       3684.0   \n",
       "38                       5798.0                       6218.0   \n",
       "\n",
       "    All-cause death count, 2020  \\\n",
       "3                        2321.0   \n",
       "14                      32271.0   \n",
       "16                     696705.0   \n",
       "22                       4093.0   \n",
       "38                       6636.0   \n",
       "\n",
       "    Excess deaths in 2020 per 100,000 population, relative to 2017-2019 average  \n",
       "3                                           21.445267                            \n",
       "14                                          32.320301                            \n",
       "16                                         133.313141                            \n",
       "22                                          96.519936                            \n",
       "38                                          60.513317                            "
      ]
     },
     "execution_count": 12,
     "metadata": {},
     "output_type": "execute_result"
    }
   ],
   "source": []
  },
  {
   "cell_type": "markdown",
   "id": "e61cd779",
   "metadata": {},
   "source": [
    "## Mean Age of across All Islands?"
   ]
  },
  {
   "cell_type": "code",
   "execution_count": null,
   "id": "3cc70afc",
   "metadata": {},
   "outputs": [],
   "source": []
  },
  {
   "cell_type": "code",
   "execution_count": 13,
   "id": "1e18cf91",
   "metadata": {},
   "outputs": [
    {
     "data": {
      "text/plain": [
       "39.3"
      ]
     },
     "execution_count": 13,
     "metadata": {},
     "output_type": "execute_result"
    }
   ],
   "source": []
  },
  {
   "cell_type": "markdown",
   "id": "d2bab0ec",
   "metadata": {},
   "source": [
    "# Female Heads of State"
   ]
  },
  {
   "cell_type": "markdown",
   "id": "f82d3868",
   "metadata": {},
   "source": [
    "## Number of Countries with Female Heads of State "
   ]
  },
  {
   "cell_type": "code",
   "execution_count": null,
   "id": "555d7130",
   "metadata": {},
   "outputs": [],
   "source": []
  },
  {
   "cell_type": "code",
   "execution_count": 14,
   "id": "9756e894",
   "metadata": {},
   "outputs": [
    {
     "data": {
      "text/plain": [
       "22"
      ]
     },
     "execution_count": 14,
     "metadata": {},
     "output_type": "execute_result"
    }
   ],
   "source": []
  },
  {
   "cell_type": "markdown",
   "id": "9c48948a",
   "metadata": {},
   "source": [
    "## Which region had more Female Heads of State?"
   ]
  },
  {
   "cell_type": "code",
   "execution_count": null,
   "id": "99773076",
   "metadata": {},
   "outputs": [],
   "source": []
  },
  {
   "cell_type": "code",
   "execution_count": 15,
   "id": "3df7e757",
   "metadata": {},
   "outputs": [
    {
     "data": {
      "text/plain": [
       "Regional indicator\n",
       "Western Europe                        6\n",
       "Central and Eastern Europe            5\n",
       "Sub-Saharan Africa                    4\n",
       "Southeast Asia                        2\n",
       "South Asia                            2\n",
       "North America and ANZ                 1\n",
       "East Asia                             1\n",
       "Commonwealth of Independent States    1\n",
       "Middle East and North Africa          0\n",
       "Latin America and Caribbean           0\n",
       "Name: Female head of government, dtype: int64"
      ]
     },
     "execution_count": 15,
     "metadata": {},
     "output_type": "execute_result"
    }
   ],
   "source": []
  },
  {
   "cell_type": "markdown",
   "id": "98a33811",
   "metadata": {},
   "source": [
    "## Show all Columns for these Countries"
   ]
  },
  {
   "cell_type": "code",
   "execution_count": null,
   "id": "0ee09436",
   "metadata": {},
   "outputs": [],
   "source": []
  },
  {
   "cell_type": "code",
   "execution_count": 19,
   "id": "3f9c9896",
   "metadata": {},
   "outputs": [
    {
     "data": {
      "text/html": [
       "<div>\n",
       "<style scoped>\n",
       "    .dataframe tbody tr th:only-of-type {\n",
       "        vertical-align: middle;\n",
       "    }\n",
       "\n",
       "    .dataframe tbody tr th {\n",
       "        vertical-align: top;\n",
       "    }\n",
       "\n",
       "    .dataframe thead th {\n",
       "        text-align: right;\n",
       "    }\n",
       "</style>\n",
       "<table border=\"1\" class=\"dataframe\">\n",
       "  <thead>\n",
       "    <tr style=\"text-align: right;\">\n",
       "      <th></th>\n",
       "      <th>Country name</th>\n",
       "      <th>Regional indicator</th>\n",
       "      <th>Population 2020</th>\n",
       "      <th>Population 2019</th>\n",
       "      <th>COVID-19 deaths per 100,000 population in 2020</th>\n",
       "      <th>Median age</th>\n",
       "      <th>Island</th>\n",
       "      <th>Index of exposure to COVID-19  infections in other countries as of March 31</th>\n",
       "      <th>Log of average distance to SARS countries</th>\n",
       "      <th>WHO Western Pacific Region</th>\n",
       "      <th>Female head of government</th>\n",
       "      <th>Index of institutional trust</th>\n",
       "      <th>Gini coefficient of income</th>\n",
       "      <th>All-cause death count, 2017</th>\n",
       "      <th>All-cause death count, 2018</th>\n",
       "      <th>All-cause death count, 2019</th>\n",
       "      <th>All-cause death count, 2020</th>\n",
       "      <th>Excess deaths in 2020 per 100,000 population, relative to 2017-2019 average</th>\n",
       "    </tr>\n",
       "  </thead>\n",
       "  <tbody>\n",
       "    <tr>\n",
       "      <th>0</th>\n",
       "      <td>Finland</td>\n",
       "      <td>Western Europe</td>\n",
       "      <td>5540718.0</td>\n",
       "      <td>5520314.0</td>\n",
       "      <td>10.125000</td>\n",
       "      <td>42.799999</td>\n",
       "      <td>0</td>\n",
       "      <td>2.225083</td>\n",
       "      <td>8.926763</td>\n",
       "      <td>0</td>\n",
       "      <td>1</td>\n",
       "      <td>0.549860</td>\n",
       "      <td>25.9</td>\n",
       "      <td>53546.0</td>\n",
       "      <td>54394.0</td>\n",
       "      <td>53821.0</td>\n",
       "      <td>55663.0</td>\n",
       "      <td>31.510042</td>\n",
       "    </tr>\n",
       "    <tr>\n",
       "      <th>1</th>\n",
       "      <td>Denmark</td>\n",
       "      <td>Western Europe</td>\n",
       "      <td>5792203.0</td>\n",
       "      <td>5818553.0</td>\n",
       "      <td>22.409399</td>\n",
       "      <td>42.299999</td>\n",
       "      <td>0</td>\n",
       "      <td>3.953056</td>\n",
       "      <td>9.006084</td>\n",
       "      <td>0</td>\n",
       "      <td>1</td>\n",
       "      <td>0.571761</td>\n",
       "      <td>27.8</td>\n",
       "      <td>53103.0</td>\n",
       "      <td>55076.0</td>\n",
       "      <td>53805.0</td>\n",
       "      <td>55477.0</td>\n",
       "      <td>25.533773</td>\n",
       "    </tr>\n",
       "    <tr>\n",
       "      <th>3</th>\n",
       "      <td>Iceland</td>\n",
       "      <td>Western Europe</td>\n",
       "      <td>341250.0</td>\n",
       "      <td>361313.0</td>\n",
       "      <td>8.498200</td>\n",
       "      <td>37.299999</td>\n",
       "      <td>1</td>\n",
       "      <td>1.649335</td>\n",
       "      <td>9.069892</td>\n",
       "      <td>0</td>\n",
       "      <td>1</td>\n",
       "      <td>0.325369</td>\n",
       "      <td>24.1</td>\n",
       "      <td>2229.0</td>\n",
       "      <td>2247.0</td>\n",
       "      <td>2261.0</td>\n",
       "      <td>2321.0</td>\n",
       "      <td>21.445267</td>\n",
       "    </tr>\n",
       "    <tr>\n",
       "      <th>5</th>\n",
       "      <td>Norway</td>\n",
       "      <td>Western Europe</td>\n",
       "      <td>5421242.0</td>\n",
       "      <td>5347896.0</td>\n",
       "      <td>8.042400</td>\n",
       "      <td>39.700001</td>\n",
       "      <td>0</td>\n",
       "      <td>2.675678</td>\n",
       "      <td>8.993008</td>\n",
       "      <td>0</td>\n",
       "      <td>1</td>\n",
       "      <td>0.605656</td>\n",
       "      <td>24.8</td>\n",
       "      <td>40634.0</td>\n",
       "      <td>40716.0</td>\n",
       "      <td>40500.0</td>\n",
       "      <td>41155.0</td>\n",
       "      <td>9.997681</td>\n",
       "    </tr>\n",
       "    <tr>\n",
       "      <th>12</th>\n",
       "      <td>Germany</td>\n",
       "      <td>Western Europe</td>\n",
       "      <td>83783945.0</td>\n",
       "      <td>83132799.0</td>\n",
       "      <td>40.331100</td>\n",
       "      <td>46.599998</td>\n",
       "      <td>0</td>\n",
       "      <td>4.837829</td>\n",
       "      <td>9.017697</td>\n",
       "      <td>0</td>\n",
       "      <td>1</td>\n",
       "      <td>0.435435</td>\n",
       "      <td>31.1</td>\n",
       "      <td>929351.0</td>\n",
       "      <td>952295.0</td>\n",
       "      <td>936772.0</td>\n",
       "      <td>1000855.0</td>\n",
       "      <td>73.548416</td>\n",
       "    </tr>\n",
       "    <tr>\n",
       "      <th>67</th>\n",
       "      <td>Greece</td>\n",
       "      <td>Western Europe</td>\n",
       "      <td>10423056.0</td>\n",
       "      <td>10716322.0</td>\n",
       "      <td>46.416298</td>\n",
       "      <td>45.299999</td>\n",
       "      <td>0</td>\n",
       "      <td>2.327332</td>\n",
       "      <td>9.025694</td>\n",
       "      <td>0</td>\n",
       "      <td>1</td>\n",
       "      <td>0.124216</td>\n",
       "      <td>32.3</td>\n",
       "      <td>124069.0</td>\n",
       "      <td>119952.0</td>\n",
       "      <td>124538.0</td>\n",
       "      <td>132966.0</td>\n",
       "      <td>95.679260</td>\n",
       "    </tr>\n",
       "  </tbody>\n",
       "</table>\n",
       "</div>"
      ],
      "text/plain": [
       "   Country name Regional indicator  Population 2020  Population 2019  \\\n",
       "0       Finland     Western Europe        5540718.0        5520314.0   \n",
       "1       Denmark     Western Europe        5792203.0        5818553.0   \n",
       "3       Iceland     Western Europe         341250.0         361313.0   \n",
       "5        Norway     Western Europe        5421242.0        5347896.0   \n",
       "12      Germany     Western Europe       83783945.0       83132799.0   \n",
       "67       Greece     Western Europe       10423056.0       10716322.0   \n",
       "\n",
       "    COVID-19 deaths per 100,000 population in 2020  Median age  Island  \\\n",
       "0                                        10.125000   42.799999       0   \n",
       "1                                        22.409399   42.299999       0   \n",
       "3                                         8.498200   37.299999       1   \n",
       "5                                         8.042400   39.700001       0   \n",
       "12                                       40.331100   46.599998       0   \n",
       "67                                       46.416298   45.299999       0   \n",
       "\n",
       "    Index of exposure to COVID-19  infections in other countries as of March 31  \\\n",
       "0                                            2.225083                             \n",
       "1                                            3.953056                             \n",
       "3                                            1.649335                             \n",
       "5                                            2.675678                             \n",
       "12                                           4.837829                             \n",
       "67                                           2.327332                             \n",
       "\n",
       "    Log of average distance to SARS countries  WHO Western Pacific Region  \\\n",
       "0                                    8.926763                           0   \n",
       "1                                    9.006084                           0   \n",
       "3                                    9.069892                           0   \n",
       "5                                    8.993008                           0   \n",
       "12                                   9.017697                           0   \n",
       "67                                   9.025694                           0   \n",
       "\n",
       "    Female head of government  Index of institutional trust  \\\n",
       "0                           1                      0.549860   \n",
       "1                           1                      0.571761   \n",
       "3                           1                      0.325369   \n",
       "5                           1                      0.605656   \n",
       "12                          1                      0.435435   \n",
       "67                          1                      0.124216   \n",
       "\n",
       "    Gini coefficient of income  All-cause death count, 2017  \\\n",
       "0                         25.9                      53546.0   \n",
       "1                         27.8                      53103.0   \n",
       "3                         24.1                       2229.0   \n",
       "5                         24.8                      40634.0   \n",
       "12                        31.1                     929351.0   \n",
       "67                        32.3                     124069.0   \n",
       "\n",
       "    All-cause death count, 2018  All-cause death count, 2019  \\\n",
       "0                       54394.0                      53821.0   \n",
       "1                       55076.0                      53805.0   \n",
       "3                        2247.0                       2261.0   \n",
       "5                       40716.0                      40500.0   \n",
       "12                     952295.0                     936772.0   \n",
       "67                     119952.0                     124538.0   \n",
       "\n",
       "    All-cause death count, 2020  \\\n",
       "0                       55663.0   \n",
       "1                       55477.0   \n",
       "3                        2321.0   \n",
       "5                       41155.0   \n",
       "12                    1000855.0   \n",
       "67                     132966.0   \n",
       "\n",
       "    Excess deaths in 2020 per 100,000 population, relative to 2017-2019 average  \n",
       "0                                           31.510042                            \n",
       "1                                           25.533773                            \n",
       "3                                           21.445267                            \n",
       "5                                            9.997681                            \n",
       "12                                          73.548416                            \n",
       "67                                          95.679260                            "
      ]
     },
     "execution_count": 19,
     "metadata": {},
     "output_type": "execute_result"
    }
   ],
   "source": []
  },
  {
   "cell_type": "markdown",
   "id": "eb7a337c",
   "metadata": {},
   "source": [
    "## Mean Age of across All Countries?"
   ]
  },
  {
   "cell_type": "code",
   "execution_count": null,
   "id": "689af412",
   "metadata": {},
   "outputs": [],
   "source": []
  },
  {
   "cell_type": "code",
   "execution_count": 20,
   "id": "2a2f63db",
   "metadata": {},
   "outputs": [
    {
     "data": {
      "text/plain": [
       "42.33333269755045"
      ]
     },
     "execution_count": 20,
     "metadata": {},
     "output_type": "execute_result"
    }
   ],
   "source": []
  },
  {
   "cell_type": "markdown",
   "id": "1a03297d",
   "metadata": {},
   "source": [
    "## Show All Columns for the Country with more deaths due to Covid per 100,000 people"
   ]
  },
  {
   "cell_type": "code",
   "execution_count": null,
   "id": "1d3c13a4",
   "metadata": {},
   "outputs": [],
   "source": []
  },
  {
   "cell_type": "code",
   "execution_count": 9,
   "id": "dc6db304",
   "metadata": {},
   "outputs": [
    {
     "data": {
      "text/plain": [
       "Country name                                                                          Belgium\n",
       "Regional indicator                                                             Western Europe\n",
       "Population 2020                                                                    11589616.0\n",
       "Population 2019                                                                    11484055.0\n",
       "COVID-19 deaths per 100,000 population in 2020                                     168.495697\n",
       "Median age                                                                          41.799999\n",
       "Island                                                                                      0\n",
       "Index of exposure to COVID-19  infections in other countries as of March 31          6.343308\n",
       "Log of average distance to SARS countries                                            9.071179\n",
       "WHO Western Pacific Region                                                                  0\n",
       "Female head of government                                                                   0\n",
       "Index of institutional trust                                                         0.302762\n",
       "Gini coefficient of income                                                               25.6\n",
       "All-cause death count, 2017                                                          109278.0\n",
       "All-cause death count, 2018                                                          110341.0\n",
       "All-cause death count, 2019                                                          108436.0\n",
       "All-cause death count, 2020                                                          128952.0\n",
       "Excess deaths in 2020 per 100,000 population, relative to 2017-2019 average        169.893524\n",
       "Name: 19, dtype: object"
      ]
     },
     "execution_count": 9,
     "metadata": {},
     "output_type": "execute_result"
    }
   ],
   "source": [
    "df.loc[mask,:]"
   ]
  },
  {
   "cell_type": "markdown",
   "id": "45d120ac",
   "metadata": {},
   "source": [
    "# Achieved Goals"
   ]
  },
  {
   "cell_type": "markdown",
   "id": "c37019cd",
   "metadata": {},
   "source": [
    "_Double click on **this cell** and place an `X` inside the square brackets (i.e., [X]) if you think you understand the goal:_\n",
    "\n",
    "- [ ] Identify the **Elements of Programming** thanks to the syntax.\n",
    "- [ ] Use `functions` that belongs to external `libraries`.\n",
    "- [ ] Get _the machine to work for you, not against you_.\n",
    "  - [ ] `shift + tab` to ask help to Python.\n",
    "  - [ ] `tab` to ask Python for suggestions.\n",
    "- [ ] Understand that a `dog` doesn't make `miau()`. But, rather `guau()`... the same way a `DataFrame` cannot `fly()` (i.e., `DataFrame.fly()`?).\n",
    "- [ ] All roads lead to Rome; We can achieve the **the same result with different lines of code**.\n",
    "  - We reproduced a scatterplot using 3 different lines of code."
   ]
  }
 ],
 "metadata": {
  "authors": [
   {
    "name": "Jesús López @sotastica"
   }
  ],
  "interpreter": {
   "hash": "414fd6d7c0f0aefb3d4e2db41edbeb0df03134e10d94a689550561b640a17652"
  },
  "kernelspec": {
   "display_name": "Python 3 (ipykernel)",
   "language": "python",
   "name": "python3"
  },
  "language_info": {
   "codemirror_mode": {
    "name": "ipython",
    "version": 3
   },
   "file_extension": ".py",
   "mimetype": "text/x-python",
   "name": "python",
   "nbconvert_exporter": "python",
   "pygments_lexer": "ipython3",
   "version": "3.9.7"
  }
 },
 "nbformat": 4,
 "nbformat_minor": 5
}
