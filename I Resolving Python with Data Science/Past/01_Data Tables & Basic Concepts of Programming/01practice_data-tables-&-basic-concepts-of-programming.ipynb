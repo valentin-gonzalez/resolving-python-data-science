{
 "cells": [
  {
   "cell_type": "markdown",
   "id": "e831c841",
   "metadata": {},
   "source": [
    "<font size=\"+5\">#01 | Data Tables & Basic Concepts of Programming</font>"
   ]
  },
  {
   "cell_type": "markdown",
   "id": "f292bc7a-e4ee-417b-8377-923a3919d249",
   "metadata": {},
   "source": [
    "- Subscribe to my [Blog ↗](https://blog.pythonassembly.com/)\n",
    "- Let's keep in touch on [LinkedIn ↗](www.linkedin.com/in/jsulopz) 😄"
   ]
  },
  {
   "cell_type": "markdown",
   "id": "90e84341",
   "metadata": {},
   "source": [
    "# Discipline to Search Solutions in Google"
   ]
  },
  {
   "cell_type": "markdown",
   "id": "da9a5f03",
   "metadata": {},
   "source": [
    "> Apply the following steps when **looking for solutions in Google**:\n",
    ">\n",
    "> 1. **Necesity**: How to load an Excel in Python?\n",
    "> 2. **Search in Google**: by keywords\n",
    ">   - `load excel python`\n",
    ">   - ~~how to load excel in python~~\n",
    "> 3. **Solution**: What's the `function()` that loads an Excel in Python?\n",
    ">   - A Function to Programming is what the Atom to Phisics.\n",
    ">   - Every time you want to do something in programming\n",
    ">   - **You will need a `function()`** to make it\n",
    ">   - Theferore, you must **detect parenthesis `()`**\n",
    ">   - Out of all the words that you see in a website\n",
    ">   - Because they indicate the presence of a `function()`."
   ]
  },
  {
   "cell_type": "markdown",
   "id": "fa04bd1e",
   "metadata": {},
   "source": [
    "# Load the Data"
   ]
  },
  {
   "cell_type": "code",
   "execution_count": 1,
   "id": "137b5dfc-d8a8-48e9-ae61-cc04d9a6f84c",
   "metadata": {},
   "outputs": [
    {
     "data": {
      "text/html": [
       "<div>\n",
       "<style scoped>\n",
       "    .dataframe tbody tr th:only-of-type {\n",
       "        vertical-align: middle;\n",
       "    }\n",
       "\n",
       "    .dataframe tbody tr th {\n",
       "        vertical-align: top;\n",
       "    }\n",
       "\n",
       "    .dataframe thead th {\n",
       "        text-align: right;\n",
       "    }\n",
       "</style>\n",
       "<table border=\"1\" class=\"dataframe\">\n",
       "  <thead>\n",
       "    <tr style=\"text-align: right;\">\n",
       "      <th></th>\n",
       "      <th>Country name</th>\n",
       "      <th>Regional indicator</th>\n",
       "      <th>Population 2020</th>\n",
       "      <th>Population 2019</th>\n",
       "      <th>COVID-19 deaths per 100,000 population in 2020</th>\n",
       "      <th>Median age</th>\n",
       "      <th>Island</th>\n",
       "      <th>Index of exposure to COVID-19  infections in other countries as of March 31</th>\n",
       "      <th>Log of average distance to SARS countries</th>\n",
       "      <th>WHO Western Pacific Region</th>\n",
       "      <th>Female head of government</th>\n",
       "      <th>Index of institutional trust</th>\n",
       "      <th>Gini coefficient of income</th>\n",
       "      <th>All-cause death count, 2017</th>\n",
       "      <th>All-cause death count, 2018</th>\n",
       "      <th>All-cause death count, 2019</th>\n",
       "      <th>All-cause death count, 2020</th>\n",
       "      <th>Excess deaths in 2020 per 100,000 population, relative to 2017-2019 average</th>\n",
       "    </tr>\n",
       "  </thead>\n",
       "  <tbody>\n",
       "    <tr>\n",
       "      <th>0</th>\n",
       "      <td>Finland</td>\n",
       "      <td>Western Europe</td>\n",
       "      <td>5540718.0</td>\n",
       "      <td>5520314.0</td>\n",
       "      <td>10.125000</td>\n",
       "      <td>42.799999</td>\n",
       "      <td>0</td>\n",
       "      <td>2.225083</td>\n",
       "      <td>8.926763</td>\n",
       "      <td>0</td>\n",
       "      <td>1</td>\n",
       "      <td>0.549860</td>\n",
       "      <td>25.9</td>\n",
       "      <td>53546.0</td>\n",
       "      <td>54394.0</td>\n",
       "      <td>53821.0</td>\n",
       "      <td>55663.0</td>\n",
       "      <td>31.510042</td>\n",
       "    </tr>\n",
       "    <tr>\n",
       "      <th>1</th>\n",
       "      <td>Denmark</td>\n",
       "      <td>Western Europe</td>\n",
       "      <td>5792203.0</td>\n",
       "      <td>5818553.0</td>\n",
       "      <td>22.409399</td>\n",
       "      <td>42.299999</td>\n",
       "      <td>0</td>\n",
       "      <td>3.953056</td>\n",
       "      <td>9.006084</td>\n",
       "      <td>0</td>\n",
       "      <td>1</td>\n",
       "      <td>0.571761</td>\n",
       "      <td>27.8</td>\n",
       "      <td>53103.0</td>\n",
       "      <td>55076.0</td>\n",
       "      <td>53805.0</td>\n",
       "      <td>55477.0</td>\n",
       "      <td>25.533773</td>\n",
       "    </tr>\n",
       "    <tr>\n",
       "      <th>2</th>\n",
       "      <td>Switzerland</td>\n",
       "      <td>Western Europe</td>\n",
       "      <td>8654618.0</td>\n",
       "      <td>8574832.0</td>\n",
       "      <td>88.334305</td>\n",
       "      <td>43.099998</td>\n",
       "      <td>0</td>\n",
       "      <td>5.583522</td>\n",
       "      <td>9.078127</td>\n",
       "      <td>0</td>\n",
       "      <td>0</td>\n",
       "      <td>0.660001</td>\n",
       "      <td>30.1</td>\n",
       "      <td>66703.0</td>\n",
       "      <td>66888.0</td>\n",
       "      <td>67515.0</td>\n",
       "      <td>77087.0</td>\n",
       "      <td>116.680031</td>\n",
       "    </tr>\n",
       "    <tr>\n",
       "      <th>3</th>\n",
       "      <td>Iceland</td>\n",
       "      <td>Western Europe</td>\n",
       "      <td>341250.0</td>\n",
       "      <td>361313.0</td>\n",
       "      <td>8.498200</td>\n",
       "      <td>37.299999</td>\n",
       "      <td>1</td>\n",
       "      <td>1.649335</td>\n",
       "      <td>9.069892</td>\n",
       "      <td>0</td>\n",
       "      <td>1</td>\n",
       "      <td>0.325369</td>\n",
       "      <td>24.1</td>\n",
       "      <td>2229.0</td>\n",
       "      <td>2247.0</td>\n",
       "      <td>2261.0</td>\n",
       "      <td>2321.0</td>\n",
       "      <td>21.445267</td>\n",
       "    </tr>\n",
       "    <tr>\n",
       "      <th>4</th>\n",
       "      <td>Netherlands</td>\n",
       "      <td>Western Europe</td>\n",
       "      <td>17134873.0</td>\n",
       "      <td>17332850.0</td>\n",
       "      <td>67.260498</td>\n",
       "      <td>43.200001</td>\n",
       "      <td>0</td>\n",
       "      <td>5.573827</td>\n",
       "      <td>9.059903</td>\n",
       "      <td>0</td>\n",
       "      <td>0</td>\n",
       "      <td>0.522208</td>\n",
       "      <td>27.0</td>\n",
       "      <td>149805.0</td>\n",
       "      <td>152991.0</td>\n",
       "      <td>151547.0</td>\n",
       "      <td>171175.0</td>\n",
       "      <td>114.468414</td>\n",
       "    </tr>\n",
       "  </tbody>\n",
       "</table>\n",
       "</div>"
      ],
      "text/plain": [
       "  Country name Regional indicator  Population 2020  Population 2019  \\\n",
       "0      Finland     Western Europe        5540718.0        5520314.0   \n",
       "1      Denmark     Western Europe        5792203.0        5818553.0   \n",
       "2  Switzerland     Western Europe        8654618.0        8574832.0   \n",
       "3      Iceland     Western Europe         341250.0         361313.0   \n",
       "4  Netherlands     Western Europe       17134873.0       17332850.0   \n",
       "\n",
       "   COVID-19 deaths per 100,000 population in 2020  Median age  Island  \\\n",
       "0                                       10.125000   42.799999       0   \n",
       "1                                       22.409399   42.299999       0   \n",
       "2                                       88.334305   43.099998       0   \n",
       "3                                        8.498200   37.299999       1   \n",
       "4                                       67.260498   43.200001       0   \n",
       "\n",
       "   Index of exposure to COVID-19  infections in other countries as of March 31  \\\n",
       "0                                           2.225083                             \n",
       "1                                           3.953056                             \n",
       "2                                           5.583522                             \n",
       "3                                           1.649335                             \n",
       "4                                           5.573827                             \n",
       "\n",
       "   Log of average distance to SARS countries  WHO Western Pacific Region  \\\n",
       "0                                   8.926763                           0   \n",
       "1                                   9.006084                           0   \n",
       "2                                   9.078127                           0   \n",
       "3                                   9.069892                           0   \n",
       "4                                   9.059903                           0   \n",
       "\n",
       "   Female head of government  Index of institutional trust  \\\n",
       "0                          1                      0.549860   \n",
       "1                          1                      0.571761   \n",
       "2                          0                      0.660001   \n",
       "3                          1                      0.325369   \n",
       "4                          0                      0.522208   \n",
       "\n",
       "   Gini coefficient of income  All-cause death count, 2017  \\\n",
       "0                        25.9                      53546.0   \n",
       "1                        27.8                      53103.0   \n",
       "2                        30.1                      66703.0   \n",
       "3                        24.1                       2229.0   \n",
       "4                        27.0                     149805.0   \n",
       "\n",
       "   All-cause death count, 2018  All-cause death count, 2019  \\\n",
       "0                      54394.0                      53821.0   \n",
       "1                      55076.0                      53805.0   \n",
       "2                      66888.0                      67515.0   \n",
       "3                       2247.0                       2261.0   \n",
       "4                     152991.0                     151547.0   \n",
       "\n",
       "   All-cause death count, 2020  \\\n",
       "0                      55663.0   \n",
       "1                      55477.0   \n",
       "2                      77087.0   \n",
       "3                       2321.0   \n",
       "4                     171175.0   \n",
       "\n",
       "   Excess deaths in 2020 per 100,000 population, relative to 2017-2019 average  \n",
       "0                                          31.510042                            \n",
       "1                                          25.533773                            \n",
       "2                                         116.680031                            \n",
       "3                                          21.445267                            \n",
       "4                                         114.468414                            "
      ]
     },
     "execution_count": 1,
     "metadata": {},
     "output_type": "execute_result"
    }
   ],
   "source": [
    "import pandas as pd\n",
    "\n",
    "df = pd.read_excel('df_mortality_regions.xlsx')\n",
    "df.head()"
   ]
  },
  {
   "cell_type": "markdown",
   "id": "948d6751",
   "metadata": {},
   "source": [
    "# Islands"
   ]
  },
  {
   "cell_type": "markdown",
   "id": "ae1b043c",
   "metadata": {},
   "source": [
    "## Number of Islands "
   ]
  },
  {
   "cell_type": "code",
   "execution_count": 2,
   "id": "2228d5c5",
   "metadata": {},
   "outputs": [],
   "source": [
    "mask = df.Island == 1"
   ]
  },
  {
   "cell_type": "code",
   "execution_count": 3,
   "id": "dd98f281-30e3-45f8-abdd-c4fd05f5d47f",
   "metadata": {},
   "outputs": [
    {
     "data": {
      "text/plain": [
       "(20, 18)"
      ]
     },
     "execution_count": 3,
     "metadata": {},
     "output_type": "execute_result"
    }
   ],
   "source": [
    "df[mask].shape"
   ]
  },
  {
   "cell_type": "code",
   "execution_count": 4,
   "id": "ca8df02a-09ff-409a-b012-4b9fda9bbe6d",
   "metadata": {},
   "outputs": [
    {
     "data": {
      "text/plain": [
       "20"
      ]
     },
     "execution_count": 4,
     "metadata": {},
     "output_type": "execute_result"
    }
   ],
   "source": [
    "df.Island.sum()"
   ]
  },
  {
   "cell_type": "code",
   "execution_count": 5,
   "id": "5b67b12d",
   "metadata": {},
   "outputs": [
    {
     "data": {
      "text/plain": [
       "20"
      ]
     },
     "execution_count": 5,
     "metadata": {},
     "output_type": "execute_result"
    }
   ],
   "source": [
    "df['Island'].sum()"
   ]
  },
  {
   "cell_type": "markdown",
   "id": "ed513c87",
   "metadata": {},
   "source": [
    "## Which region had more Islands?"
   ]
  },
  {
   "cell_type": "code",
   "execution_count": 18,
   "id": "cdd3455b-2be3-4748-bdad-79726985d784",
   "metadata": {},
   "outputs": [
    {
     "data": {
      "text/plain": [
       "Regional indicator\n",
       "Central and Eastern Europe            0\n",
       "Commonwealth of Independent States    0\n",
       "East Asia                             1\n",
       "Latin America and Caribbean           3\n",
       "Middle East and North Africa          1\n",
       "North America and ANZ                 2\n",
       "South Asia                            2\n",
       "Southeast Asia                        3\n",
       "Sub-Saharan Africa                    3\n",
       "Western Europe                        5\n",
       "Name: Island, dtype: int64"
      ]
     },
     "execution_count": 18,
     "metadata": {},
     "output_type": "execute_result"
    }
   ],
   "source": [
    "df.groupby('Regional indicator')['Island'].sum()"
   ]
  },
  {
   "cell_type": "code",
   "execution_count": 19,
   "id": "65409b1d-b0b8-4822-9b57-075d55c7c251",
   "metadata": {},
   "outputs": [
    {
     "data": {
      "text/plain": [
       "5"
      ]
     },
     "execution_count": 19,
     "metadata": {},
     "output_type": "execute_result"
    }
   ],
   "source": [
    "df.groupby('Regional indicator')['Island'].sum().max()"
   ]
  },
  {
   "cell_type": "code",
   "execution_count": 20,
   "id": "bde475d4-c3db-4cb0-88ed-583f0c03ce49",
   "metadata": {},
   "outputs": [
    {
     "data": {
      "text/plain": [
       "'Western Europe'"
      ]
     },
     "execution_count": 20,
     "metadata": {},
     "output_type": "execute_result"
    }
   ],
   "source": [
    "df.groupby('Regional indicator')['Island'].sum().idxmax()"
   ]
  },
  {
   "cell_type": "code",
   "execution_count": 8,
   "id": "e19aa73c",
   "metadata": {},
   "outputs": [],
   "source": [
    "res = df.groupby('Regional indicator')['Island'].sum().sort_values(ascending = False)"
   ]
  },
  {
   "cell_type": "code",
   "execution_count": 14,
   "id": "e0b79b7d-2ce2-417b-a520-c5a7c094e3f8",
   "metadata": {},
   "outputs": [
    {
     "data": {
      "text/plain": [
       "Regional indicator\n",
       "Western Europe                        5\n",
       "Latin America and Caribbean           3\n",
       "Southeast Asia                        3\n",
       "Sub-Saharan Africa                    3\n",
       "North America and ANZ                 2\n",
       "South Asia                            2\n",
       "East Asia                             1\n",
       "Middle East and North Africa          1\n",
       "Central and Eastern Europe            0\n",
       "Commonwealth of Independent States    0\n",
       "Name: Island, dtype: int64"
      ]
     },
     "execution_count": 14,
     "metadata": {},
     "output_type": "execute_result"
    }
   ],
   "source": [
    "res"
   ]
  },
  {
   "cell_type": "code",
   "execution_count": 16,
   "id": "b14110b1-d6f9-4b39-99d8-2701acf6fc45",
   "metadata": {},
   "outputs": [
    {
     "data": {
      "text/plain": [
       "dtype('int64')"
      ]
     },
     "execution_count": 16,
     "metadata": {},
     "output_type": "execute_result"
    }
   ],
   "source": [
    "res.dtypes"
   ]
  },
  {
   "cell_type": "code",
   "execution_count": 17,
   "id": "f92960da-a28b-4761-86af-fe7e85b8b9b5",
   "metadata": {},
   "outputs": [
    {
     "data": {
      "text/plain": [
       "'Island'"
      ]
     },
     "execution_count": 17,
     "metadata": {},
     "output_type": "execute_result"
    }
   ],
   "source": [
    "res.name"
   ]
  },
  {
   "cell_type": "code",
   "execution_count": 15,
   "id": "5ef16e94-7cca-41a3-b991-40e82ca607c2",
   "metadata": {},
   "outputs": [
    {
     "data": {
      "text/plain": [
       "array([5, 3, 3, 3, 2, 2, 1, 1, 0, 0], dtype=int64)"
      ]
     },
     "execution_count": 15,
     "metadata": {},
     "output_type": "execute_result"
    }
   ],
   "source": [
    "res.values"
   ]
  },
  {
   "cell_type": "code",
   "execution_count": 13,
   "id": "46b0f8c2-c2ad-4363-b5ec-f82ea23ee680",
   "metadata": {},
   "outputs": [
    {
     "data": {
      "text/plain": [
       "Index(['Western Europe', 'Latin America and Caribbean', 'Southeast Asia',\n",
       "       'Sub-Saharan Africa', 'North America and ANZ', 'South Asia',\n",
       "       'East Asia', 'Middle East and North Africa',\n",
       "       'Central and Eastern Europe', 'Commonwealth of Independent States'],\n",
       "      dtype='object', name='Regional indicator')"
      ]
     },
     "execution_count": 13,
     "metadata": {},
     "output_type": "execute_result"
    }
   ],
   "source": [
    "res.index"
   ]
  },
  {
   "cell_type": "code",
   "execution_count": 21,
   "id": "e9b803d8-dbb6-426c-a1e6-9cc28b3008d0",
   "metadata": {},
   "outputs": [
    {
     "data": {
      "text/plain": [
       "Regional indicator\n",
       "Western Europe                        5\n",
       "Latin America and Caribbean           3\n",
       "Southeast Asia                        3\n",
       "Sub-Saharan Africa                    3\n",
       "North America and ANZ                 2\n",
       "South Asia                            2\n",
       "East Asia                             1\n",
       "Middle East and North Africa          1\n",
       "Central and Eastern Europe            0\n",
       "Commonwealth of Independent States    0\n",
       "Name: Island, dtype: int64"
      ]
     },
     "execution_count": 21,
     "metadata": {},
     "output_type": "execute_result"
    }
   ],
   "source": [
    "res"
   ]
  },
  {
   "cell_type": "code",
   "execution_count": 22,
   "id": "163be312-a724-4dc4-bad4-4f396200ea54",
   "metadata": {},
   "outputs": [
    {
     "data": {
      "text/plain": [
       "5"
      ]
     },
     "execution_count": 22,
     "metadata": {},
     "output_type": "execute_result"
    }
   ],
   "source": [
    "df.groupby('Regional indicator')['Island'].sum().sort_values(ascending = False)[0]"
   ]
  },
  {
   "cell_type": "code",
   "execution_count": 23,
   "id": "120dca1f-e914-4033-b6f4-68a256f45c08",
   "metadata": {},
   "outputs": [
    {
     "data": {
      "text/plain": [
       "Regional indicator\n",
       "Western Europe    5\n",
       "Name: Island, dtype: int64"
      ]
     },
     "execution_count": 23,
     "metadata": {},
     "output_type": "execute_result"
    }
   ],
   "source": [
    "df.groupby('Regional indicator')['Island'].sum().sort_values(ascending = False)[:1]"
   ]
  },
  {
   "cell_type": "code",
   "execution_count": 24,
   "id": "0c0fcbeb-8834-4c08-b504-bf696f90854c",
   "metadata": {},
   "outputs": [
    {
     "data": {
      "text/plain": [
       "Regional indicator\n",
       "Western Europe                 5\n",
       "Latin America and Caribbean    3\n",
       "Name: Island, dtype: int64"
      ]
     },
     "execution_count": 24,
     "metadata": {},
     "output_type": "execute_result"
    }
   ],
   "source": [
    "df.groupby('Regional indicator')['Island'].sum().sort_values(ascending = False)[:2]"
   ]
  },
  {
   "cell_type": "code",
   "execution_count": 25,
   "id": "b717c36e-963f-451f-87c7-fe264e00512d",
   "metadata": {},
   "outputs": [
    {
     "data": {
      "text/plain": [
       "Regional indicator\n",
       "Western Europe    5\n",
       "Name: Island, dtype: int64"
      ]
     },
     "execution_count": 25,
     "metadata": {},
     "output_type": "execute_result"
    }
   ],
   "source": [
    "df.groupby('Regional indicator')['Island'].sum().sort_values(ascending = False).head(1)"
   ]
  },
  {
   "cell_type": "code",
   "execution_count": 27,
   "id": "03774bd6-ff10-47b1-a497-07ef89a1cb9e",
   "metadata": {},
   "outputs": [
    {
     "data": {
      "text/plain": [
       "Regional indicator\n",
       "Western Europe    5\n",
       "Name: Island, dtype: int64"
      ]
     },
     "execution_count": 27,
     "metadata": {},
     "output_type": "execute_result"
    }
   ],
   "source": [
    "df.groupby('Regional indicator')['Island'].sum().sort_values().tail(1)"
   ]
  },
  {
   "cell_type": "code",
   "execution_count": 31,
   "id": "94407402-0f9f-49d0-a245-51d88120ec2a",
   "metadata": {},
   "outputs": [],
   "source": [
    "reg = df.groupby('Regional indicator')['Island'].sum().idxmax()"
   ]
  },
  {
   "cell_type": "markdown",
   "id": "09318abc",
   "metadata": {},
   "source": [
    "## Show all Columns for these Islands"
   ]
  },
  {
   "cell_type": "code",
   "execution_count": 33,
   "id": "729ef298-0e52-4097-b09e-9b32f0959a9d",
   "metadata": {},
   "outputs": [],
   "source": [
    "mask_reg = df['Regional indicator'] == reg"
   ]
  },
  {
   "cell_type": "code",
   "execution_count": 34,
   "id": "721f84ca-4b08-4981-a3f6-da33d85afee5",
   "metadata": {},
   "outputs": [
    {
     "data": {
      "text/html": [
       "<div>\n",
       "<style scoped>\n",
       "    .dataframe tbody tr th:only-of-type {\n",
       "        vertical-align: middle;\n",
       "    }\n",
       "\n",
       "    .dataframe tbody tr th {\n",
       "        vertical-align: top;\n",
       "    }\n",
       "\n",
       "    .dataframe thead th {\n",
       "        text-align: right;\n",
       "    }\n",
       "</style>\n",
       "<table border=\"1\" class=\"dataframe\">\n",
       "  <thead>\n",
       "    <tr style=\"text-align: right;\">\n",
       "      <th></th>\n",
       "      <th>Country name</th>\n",
       "      <th>Regional indicator</th>\n",
       "      <th>Population 2020</th>\n",
       "      <th>Population 2019</th>\n",
       "      <th>COVID-19 deaths per 100,000 population in 2020</th>\n",
       "      <th>Median age</th>\n",
       "      <th>Island</th>\n",
       "      <th>Index of exposure to COVID-19  infections in other countries as of March 31</th>\n",
       "      <th>Log of average distance to SARS countries</th>\n",
       "      <th>WHO Western Pacific Region</th>\n",
       "      <th>Female head of government</th>\n",
       "      <th>Index of institutional trust</th>\n",
       "      <th>Gini coefficient of income</th>\n",
       "      <th>All-cause death count, 2017</th>\n",
       "      <th>All-cause death count, 2018</th>\n",
       "      <th>All-cause death count, 2019</th>\n",
       "      <th>All-cause death count, 2020</th>\n",
       "      <th>Excess deaths in 2020 per 100,000 population, relative to 2017-2019 average</th>\n",
       "    </tr>\n",
       "  </thead>\n",
       "  <tbody>\n",
       "    <tr>\n",
       "      <th>3</th>\n",
       "      <td>Iceland</td>\n",
       "      <td>Western Europe</td>\n",
       "      <td>341250.0</td>\n",
       "      <td>361313.0</td>\n",
       "      <td>8.498200</td>\n",
       "      <td>37.299999</td>\n",
       "      <td>1</td>\n",
       "      <td>1.649335</td>\n",
       "      <td>9.069892</td>\n",
       "      <td>0</td>\n",
       "      <td>1</td>\n",
       "      <td>0.325369</td>\n",
       "      <td>24.10</td>\n",
       "      <td>2229.0</td>\n",
       "      <td>2247.0</td>\n",
       "      <td>2261.0</td>\n",
       "      <td>2321.0</td>\n",
       "      <td>21.445267</td>\n",
       "    </tr>\n",
       "    <tr>\n",
       "      <th>14</th>\n",
       "      <td>Ireland</td>\n",
       "      <td>Western Europe</td>\n",
       "      <td>4937796.0</td>\n",
       "      <td>4941444.0</td>\n",
       "      <td>45.303600</td>\n",
       "      <td>38.700001</td>\n",
       "      <td>1</td>\n",
       "      <td>3.188102</td>\n",
       "      <td>9.100494</td>\n",
       "      <td>0</td>\n",
       "      <td>0</td>\n",
       "      <td>0.430625</td>\n",
       "      <td>30.60</td>\n",
       "      <td>NaN</td>\n",
       "      <td>30621.0</td>\n",
       "      <td>30728.0</td>\n",
       "      <td>32271.0</td>\n",
       "      <td>32.320301</td>\n",
       "    </tr>\n",
       "    <tr>\n",
       "      <th>16</th>\n",
       "      <td>United Kingdom</td>\n",
       "      <td>Western Europe</td>\n",
       "      <td>67886004.0</td>\n",
       "      <td>66834405.0</td>\n",
       "      <td>108.449501</td>\n",
       "      <td>40.799999</td>\n",
       "      <td>1</td>\n",
       "      <td>5.009473</td>\n",
       "      <td>9.087469</td>\n",
       "      <td>0</td>\n",
       "      <td>0</td>\n",
       "      <td>0.267582</td>\n",
       "      <td>34.07</td>\n",
       "      <td>606874.0</td>\n",
       "      <td>613309.0</td>\n",
       "      <td>600532.0</td>\n",
       "      <td>696705.0</td>\n",
       "      <td>133.313141</td>\n",
       "    </tr>\n",
       "    <tr>\n",
       "      <th>22</th>\n",
       "      <td>Malta</td>\n",
       "      <td>Western Europe</td>\n",
       "      <td>441539.0</td>\n",
       "      <td>502653.0</td>\n",
       "      <td>49.599201</td>\n",
       "      <td>42.400002</td>\n",
       "      <td>1</td>\n",
       "      <td>2.822389</td>\n",
       "      <td>9.096670</td>\n",
       "      <td>0</td>\n",
       "      <td>0</td>\n",
       "      <td>0.402808</td>\n",
       "      <td>28.70</td>\n",
       "      <td>3556.0</td>\n",
       "      <td>3672.0</td>\n",
       "      <td>3684.0</td>\n",
       "      <td>4093.0</td>\n",
       "      <td>96.519936</td>\n",
       "    </tr>\n",
       "    <tr>\n",
       "      <th>38</th>\n",
       "      <td>Cyprus</td>\n",
       "      <td>Western Europe</td>\n",
       "      <td>875899.0</td>\n",
       "      <td>1198575.0</td>\n",
       "      <td>13.586000</td>\n",
       "      <td>37.299999</td>\n",
       "      <td>1</td>\n",
       "      <td>1.907791</td>\n",
       "      <td>8.967679</td>\n",
       "      <td>0</td>\n",
       "      <td>0</td>\n",
       "      <td>0.174157</td>\n",
       "      <td>29.10</td>\n",
       "      <td>6009.0</td>\n",
       "      <td>5798.0</td>\n",
       "      <td>6218.0</td>\n",
       "      <td>6636.0</td>\n",
       "      <td>60.513317</td>\n",
       "    </tr>\n",
       "  </tbody>\n",
       "</table>\n",
       "</div>"
      ],
      "text/plain": [
       "      Country name Regional indicator  Population 2020  Population 2019  \\\n",
       "3          Iceland     Western Europe         341250.0         361313.0   \n",
       "14         Ireland     Western Europe        4937796.0        4941444.0   \n",
       "16  United Kingdom     Western Europe       67886004.0       66834405.0   \n",
       "22           Malta     Western Europe         441539.0         502653.0   \n",
       "38          Cyprus     Western Europe         875899.0        1198575.0   \n",
       "\n",
       "    COVID-19 deaths per 100,000 population in 2020  Median age  Island  \\\n",
       "3                                         8.498200   37.299999       1   \n",
       "14                                       45.303600   38.700001       1   \n",
       "16                                      108.449501   40.799999       1   \n",
       "22                                       49.599201   42.400002       1   \n",
       "38                                       13.586000   37.299999       1   \n",
       "\n",
       "    Index of exposure to COVID-19  infections in other countries as of March 31  \\\n",
       "3                                            1.649335                             \n",
       "14                                           3.188102                             \n",
       "16                                           5.009473                             \n",
       "22                                           2.822389                             \n",
       "38                                           1.907791                             \n",
       "\n",
       "    Log of average distance to SARS countries  WHO Western Pacific Region  \\\n",
       "3                                    9.069892                           0   \n",
       "14                                   9.100494                           0   \n",
       "16                                   9.087469                           0   \n",
       "22                                   9.096670                           0   \n",
       "38                                   8.967679                           0   \n",
       "\n",
       "    Female head of government  Index of institutional trust  \\\n",
       "3                           1                      0.325369   \n",
       "14                          0                      0.430625   \n",
       "16                          0                      0.267582   \n",
       "22                          0                      0.402808   \n",
       "38                          0                      0.174157   \n",
       "\n",
       "    Gini coefficient of income  All-cause death count, 2017  \\\n",
       "3                        24.10                       2229.0   \n",
       "14                       30.60                          NaN   \n",
       "16                       34.07                     606874.0   \n",
       "22                       28.70                       3556.0   \n",
       "38                       29.10                       6009.0   \n",
       "\n",
       "    All-cause death count, 2018  All-cause death count, 2019  \\\n",
       "3                        2247.0                       2261.0   \n",
       "14                      30621.0                      30728.0   \n",
       "16                     613309.0                     600532.0   \n",
       "22                       3672.0                       3684.0   \n",
       "38                       5798.0                       6218.0   \n",
       "\n",
       "    All-cause death count, 2020  \\\n",
       "3                        2321.0   \n",
       "14                      32271.0   \n",
       "16                     696705.0   \n",
       "22                       4093.0   \n",
       "38                       6636.0   \n",
       "\n",
       "    Excess deaths in 2020 per 100,000 population, relative to 2017-2019 average  \n",
       "3                                           21.445267                            \n",
       "14                                          32.320301                            \n",
       "16                                         133.313141                            \n",
       "22                                          96.519936                            \n",
       "38                                          60.513317                            "
      ]
     },
     "execution_count": 34,
     "metadata": {},
     "output_type": "execute_result"
    }
   ],
   "source": [
    "df[mask & mask_reg]"
   ]
  },
  {
   "cell_type": "markdown",
   "id": "e61cd779",
   "metadata": {},
   "source": [
    "## Mean Age of across All Islands?"
   ]
  },
  {
   "cell_type": "code",
   "execution_count": 35,
   "id": "3cc70afc",
   "metadata": {},
   "outputs": [
    {
     "data": {
      "text/plain": [
       "33.76000032424927"
      ]
     },
     "execution_count": 35,
     "metadata": {},
     "output_type": "execute_result"
    }
   ],
   "source": [
    "df[mask]['Median age'].mean()"
   ]
  },
  {
   "cell_type": "code",
   "execution_count": 36,
   "id": "1e18cf91",
   "metadata": {},
   "outputs": [
    {
     "name": "stdout",
     "output_type": "stream",
     "text": [
      "Object `??` not found.\n"
     ]
    }
   ],
   "source": [
    "????"
   ]
  },
  {
   "cell_type": "markdown",
   "id": "d2bab0ec",
   "metadata": {},
   "source": [
    "# Female Heads of State"
   ]
  },
  {
   "cell_type": "markdown",
   "id": "f82d3868",
   "metadata": {},
   "source": [
    "## Number of Countries with Female Heads of State "
   ]
  },
  {
   "cell_type": "code",
   "execution_count": 37,
   "id": "555d7130",
   "metadata": {},
   "outputs": [
    {
     "data": {
      "text/plain": [
       "22"
      ]
     },
     "execution_count": 37,
     "metadata": {},
     "output_type": "execute_result"
    }
   ],
   "source": [
    "df['Female head of government'].sum()"
   ]
  },
  {
   "cell_type": "markdown",
   "id": "9c48948a",
   "metadata": {},
   "source": [
    "## Which region had more Female Heads of State?"
   ]
  },
  {
   "cell_type": "code",
   "execution_count": 34,
   "id": "99773076",
   "metadata": {},
   "outputs": [
    {
     "data": {
      "text/plain": [
       "Regional indicator\n",
       "Western Europe                        6\n",
       "Central and Eastern Europe            5\n",
       "Sub-Saharan Africa                    4\n",
       "South Asia                            2\n",
       "Southeast Asia                        2\n",
       "Commonwealth of Independent States    1\n",
       "East Asia                             1\n",
       "North America and ANZ                 1\n",
       "Latin America and Caribbean           0\n",
       "Middle East and North Africa          0\n",
       "Name: Female head of government, dtype: int64"
      ]
     },
     "execution_count": 34,
     "metadata": {},
     "output_type": "execute_result"
    }
   ],
   "source": [
    "df.groupby('Regional indicator')['Female head of government'].sum().sort_values(ascending = False)"
   ]
  },
  {
   "cell_type": "code",
   "execution_count": 39,
   "id": "40beee05-99f5-4d13-b68c-426bc4d21f05",
   "metadata": {},
   "outputs": [],
   "source": [
    "reg = df.groupby('Regional indicator')['Female head of government'].sum().idxmax()"
   ]
  },
  {
   "cell_type": "markdown",
   "id": "98a33811",
   "metadata": {},
   "source": [
    "## Show all Columns for these Countries"
   ]
  },
  {
   "cell_type": "code",
   "execution_count": 41,
   "id": "0ee09436",
   "metadata": {},
   "outputs": [],
   "source": [
    "mask_fem = df['Female head of government'] == 1"
   ]
  },
  {
   "cell_type": "code",
   "execution_count": 42,
   "id": "d1cc9f84-e97c-43a3-9363-79ee0d038f40",
   "metadata": {},
   "outputs": [],
   "source": [
    "mask_reg = df['Regional indicator'] == reg"
   ]
  },
  {
   "cell_type": "code",
   "execution_count": 43,
   "id": "c8dce4b1-3c41-47a2-a542-890c5a6311de",
   "metadata": {},
   "outputs": [
    {
     "data": {
      "text/html": [
       "<div>\n",
       "<style scoped>\n",
       "    .dataframe tbody tr th:only-of-type {\n",
       "        vertical-align: middle;\n",
       "    }\n",
       "\n",
       "    .dataframe tbody tr th {\n",
       "        vertical-align: top;\n",
       "    }\n",
       "\n",
       "    .dataframe thead th {\n",
       "        text-align: right;\n",
       "    }\n",
       "</style>\n",
       "<table border=\"1\" class=\"dataframe\">\n",
       "  <thead>\n",
       "    <tr style=\"text-align: right;\">\n",
       "      <th></th>\n",
       "      <th>Country name</th>\n",
       "      <th>Regional indicator</th>\n",
       "      <th>Population 2020</th>\n",
       "      <th>Population 2019</th>\n",
       "      <th>COVID-19 deaths per 100,000 population in 2020</th>\n",
       "      <th>Median age</th>\n",
       "      <th>Island</th>\n",
       "      <th>Index of exposure to COVID-19  infections in other countries as of March 31</th>\n",
       "      <th>Log of average distance to SARS countries</th>\n",
       "      <th>WHO Western Pacific Region</th>\n",
       "      <th>Female head of government</th>\n",
       "      <th>Index of institutional trust</th>\n",
       "      <th>Gini coefficient of income</th>\n",
       "      <th>All-cause death count, 2017</th>\n",
       "      <th>All-cause death count, 2018</th>\n",
       "      <th>All-cause death count, 2019</th>\n",
       "      <th>All-cause death count, 2020</th>\n",
       "      <th>Excess deaths in 2020 per 100,000 population, relative to 2017-2019 average</th>\n",
       "    </tr>\n",
       "  </thead>\n",
       "  <tbody>\n",
       "    <tr>\n",
       "      <th>0</th>\n",
       "      <td>Finland</td>\n",
       "      <td>Western Europe</td>\n",
       "      <td>5540718.0</td>\n",
       "      <td>5520314.0</td>\n",
       "      <td>10.125000</td>\n",
       "      <td>42.799999</td>\n",
       "      <td>0</td>\n",
       "      <td>2.225083</td>\n",
       "      <td>8.926763</td>\n",
       "      <td>0</td>\n",
       "      <td>1</td>\n",
       "      <td>0.549860</td>\n",
       "      <td>25.9</td>\n",
       "      <td>53546.0</td>\n",
       "      <td>54394.0</td>\n",
       "      <td>53821.0</td>\n",
       "      <td>55663.0</td>\n",
       "      <td>31.510042</td>\n",
       "    </tr>\n",
       "    <tr>\n",
       "      <th>1</th>\n",
       "      <td>Denmark</td>\n",
       "      <td>Western Europe</td>\n",
       "      <td>5792203.0</td>\n",
       "      <td>5818553.0</td>\n",
       "      <td>22.409399</td>\n",
       "      <td>42.299999</td>\n",
       "      <td>0</td>\n",
       "      <td>3.953056</td>\n",
       "      <td>9.006084</td>\n",
       "      <td>0</td>\n",
       "      <td>1</td>\n",
       "      <td>0.571761</td>\n",
       "      <td>27.8</td>\n",
       "      <td>53103.0</td>\n",
       "      <td>55076.0</td>\n",
       "      <td>53805.0</td>\n",
       "      <td>55477.0</td>\n",
       "      <td>25.533773</td>\n",
       "    </tr>\n",
       "    <tr>\n",
       "      <th>3</th>\n",
       "      <td>Iceland</td>\n",
       "      <td>Western Europe</td>\n",
       "      <td>341250.0</td>\n",
       "      <td>361313.0</td>\n",
       "      <td>8.498200</td>\n",
       "      <td>37.299999</td>\n",
       "      <td>1</td>\n",
       "      <td>1.649335</td>\n",
       "      <td>9.069892</td>\n",
       "      <td>0</td>\n",
       "      <td>1</td>\n",
       "      <td>0.325369</td>\n",
       "      <td>24.1</td>\n",
       "      <td>2229.0</td>\n",
       "      <td>2247.0</td>\n",
       "      <td>2261.0</td>\n",
       "      <td>2321.0</td>\n",
       "      <td>21.445267</td>\n",
       "    </tr>\n",
       "    <tr>\n",
       "      <th>5</th>\n",
       "      <td>Norway</td>\n",
       "      <td>Western Europe</td>\n",
       "      <td>5421242.0</td>\n",
       "      <td>5347896.0</td>\n",
       "      <td>8.042400</td>\n",
       "      <td>39.700001</td>\n",
       "      <td>0</td>\n",
       "      <td>2.675678</td>\n",
       "      <td>8.993008</td>\n",
       "      <td>0</td>\n",
       "      <td>1</td>\n",
       "      <td>0.605656</td>\n",
       "      <td>24.8</td>\n",
       "      <td>40634.0</td>\n",
       "      <td>40716.0</td>\n",
       "      <td>40500.0</td>\n",
       "      <td>41155.0</td>\n",
       "      <td>9.997681</td>\n",
       "    </tr>\n",
       "    <tr>\n",
       "      <th>12</th>\n",
       "      <td>Germany</td>\n",
       "      <td>Western Europe</td>\n",
       "      <td>83783945.0</td>\n",
       "      <td>83132799.0</td>\n",
       "      <td>40.331100</td>\n",
       "      <td>46.599998</td>\n",
       "      <td>0</td>\n",
       "      <td>4.837829</td>\n",
       "      <td>9.017697</td>\n",
       "      <td>0</td>\n",
       "      <td>1</td>\n",
       "      <td>0.435435</td>\n",
       "      <td>31.1</td>\n",
       "      <td>929351.0</td>\n",
       "      <td>952295.0</td>\n",
       "      <td>936772.0</td>\n",
       "      <td>1000855.0</td>\n",
       "      <td>73.548416</td>\n",
       "    </tr>\n",
       "    <tr>\n",
       "      <th>67</th>\n",
       "      <td>Greece</td>\n",
       "      <td>Western Europe</td>\n",
       "      <td>10423056.0</td>\n",
       "      <td>10716322.0</td>\n",
       "      <td>46.416298</td>\n",
       "      <td>45.299999</td>\n",
       "      <td>0</td>\n",
       "      <td>2.327332</td>\n",
       "      <td>9.025694</td>\n",
       "      <td>0</td>\n",
       "      <td>1</td>\n",
       "      <td>0.124216</td>\n",
       "      <td>32.3</td>\n",
       "      <td>124069.0</td>\n",
       "      <td>119952.0</td>\n",
       "      <td>124538.0</td>\n",
       "      <td>132966.0</td>\n",
       "      <td>95.679260</td>\n",
       "    </tr>\n",
       "  </tbody>\n",
       "</table>\n",
       "</div>"
      ],
      "text/plain": [
       "   Country name Regional indicator  Population 2020  Population 2019  \\\n",
       "0       Finland     Western Europe        5540718.0        5520314.0   \n",
       "1       Denmark     Western Europe        5792203.0        5818553.0   \n",
       "3       Iceland     Western Europe         341250.0         361313.0   \n",
       "5        Norway     Western Europe        5421242.0        5347896.0   \n",
       "12      Germany     Western Europe       83783945.0       83132799.0   \n",
       "67       Greece     Western Europe       10423056.0       10716322.0   \n",
       "\n",
       "    COVID-19 deaths per 100,000 population in 2020  Median age  Island  \\\n",
       "0                                        10.125000   42.799999       0   \n",
       "1                                        22.409399   42.299999       0   \n",
       "3                                         8.498200   37.299999       1   \n",
       "5                                         8.042400   39.700001       0   \n",
       "12                                       40.331100   46.599998       0   \n",
       "67                                       46.416298   45.299999       0   \n",
       "\n",
       "    Index of exposure to COVID-19  infections in other countries as of March 31  \\\n",
       "0                                            2.225083                             \n",
       "1                                            3.953056                             \n",
       "3                                            1.649335                             \n",
       "5                                            2.675678                             \n",
       "12                                           4.837829                             \n",
       "67                                           2.327332                             \n",
       "\n",
       "    Log of average distance to SARS countries  WHO Western Pacific Region  \\\n",
       "0                                    8.926763                           0   \n",
       "1                                    9.006084                           0   \n",
       "3                                    9.069892                           0   \n",
       "5                                    8.993008                           0   \n",
       "12                                   9.017697                           0   \n",
       "67                                   9.025694                           0   \n",
       "\n",
       "    Female head of government  Index of institutional trust  \\\n",
       "0                           1                      0.549860   \n",
       "1                           1                      0.571761   \n",
       "3                           1                      0.325369   \n",
       "5                           1                      0.605656   \n",
       "12                          1                      0.435435   \n",
       "67                          1                      0.124216   \n",
       "\n",
       "    Gini coefficient of income  All-cause death count, 2017  \\\n",
       "0                         25.9                      53546.0   \n",
       "1                         27.8                      53103.0   \n",
       "3                         24.1                       2229.0   \n",
       "5                         24.8                      40634.0   \n",
       "12                        31.1                     929351.0   \n",
       "67                        32.3                     124069.0   \n",
       "\n",
       "    All-cause death count, 2018  All-cause death count, 2019  \\\n",
       "0                       54394.0                      53821.0   \n",
       "1                       55076.0                      53805.0   \n",
       "3                        2247.0                       2261.0   \n",
       "5                       40716.0                      40500.0   \n",
       "12                     952295.0                     936772.0   \n",
       "67                     119952.0                     124538.0   \n",
       "\n",
       "    All-cause death count, 2020  \\\n",
       "0                       55663.0   \n",
       "1                       55477.0   \n",
       "3                        2321.0   \n",
       "5                       41155.0   \n",
       "12                    1000855.0   \n",
       "67                     132966.0   \n",
       "\n",
       "    Excess deaths in 2020 per 100,000 population, relative to 2017-2019 average  \n",
       "0                                           31.510042                            \n",
       "1                                           25.533773                            \n",
       "3                                           21.445267                            \n",
       "5                                            9.997681                            \n",
       "12                                          73.548416                            \n",
       "67                                          95.679260                            "
      ]
     },
     "execution_count": 43,
     "metadata": {},
     "output_type": "execute_result"
    }
   ],
   "source": [
    "df[mask_fem & mask_reg]"
   ]
  },
  {
   "cell_type": "markdown",
   "id": "eb7a337c",
   "metadata": {},
   "source": [
    "## Mean Age of across All Countries?"
   ]
  },
  {
   "cell_type": "code",
   "execution_count": 44,
   "id": "689af412",
   "metadata": {},
   "outputs": [
    {
     "data": {
      "text/plain": [
       "31.308219269530415"
      ]
     },
     "execution_count": 44,
     "metadata": {},
     "output_type": "execute_result"
    }
   ],
   "source": [
    "df['Median age'].mean()"
   ]
  },
  {
   "cell_type": "code",
   "execution_count": 20,
   "id": "2a2f63db",
   "metadata": {},
   "outputs": [
    {
     "data": {
      "text/plain": [
       "42.33333269755045"
      ]
     },
     "execution_count": 20,
     "metadata": {},
     "output_type": "execute_result"
    }
   ],
   "source": []
  },
  {
   "cell_type": "markdown",
   "id": "1a03297d",
   "metadata": {},
   "source": [
    "## Show All Columns for the Country with more deaths due to Covid per 100,000 people"
   ]
  },
  {
   "cell_type": "code",
   "execution_count": null,
   "id": "1d3c13a4",
   "metadata": {},
   "outputs": [],
   "source": [
    "mask = df['COVID-19 deaths per 100,000 population in 2020']>100000"
   ]
  },
  {
   "cell_type": "code",
   "execution_count": 46,
   "id": "dc6db304",
   "metadata": {},
   "outputs": [],
   "source": [
    "fila = df['COVID-19 deaths per 100,000 population in 2020'].idxmax()"
   ]
  },
  {
   "cell_type": "code",
   "execution_count": 47,
   "id": "1ab3cae2-ed0d-4914-92ea-b4018c42a43e",
   "metadata": {},
   "outputs": [
    {
     "data": {
      "text/plain": [
       "Country name                                                                          Belgium\n",
       "Regional indicator                                                             Western Europe\n",
       "Population 2020                                                                    11589616.0\n",
       "Population 2019                                                                    11484055.0\n",
       "COVID-19 deaths per 100,000 population in 2020                                     168.495697\n",
       "Median age                                                                          41.799999\n",
       "Island                                                                                      0\n",
       "Index of exposure to COVID-19  infections in other countries as of March 31          6.343308\n",
       "Log of average distance to SARS countries                                            9.071179\n",
       "WHO Western Pacific Region                                                                  0\n",
       "Female head of government                                                                   0\n",
       "Index of institutional trust                                                         0.302762\n",
       "Gini coefficient of income                                                               25.6\n",
       "All-cause death count, 2017                                                          109278.0\n",
       "All-cause death count, 2018                                                          110341.0\n",
       "All-cause death count, 2019                                                          108436.0\n",
       "All-cause death count, 2020                                                          128952.0\n",
       "Excess deaths in 2020 per 100,000 population, relative to 2017-2019 average        169.893524\n",
       "Name: 19, dtype: object"
      ]
     },
     "execution_count": 47,
     "metadata": {},
     "output_type": "execute_result"
    }
   ],
   "source": [
    "df.loc[fila, :]"
   ]
  },
  {
   "cell_type": "code",
   "execution_count": 50,
   "id": "87d23d6d-56c4-40da-a730-f847cddae185",
   "metadata": {},
   "outputs": [
    {
     "ename": "TypeError",
     "evalue": "'module' object is not callable",
     "output_type": "error",
     "traceback": [
      "\u001b[1;31m---------------------------------------------------------------------------\u001b[0m",
      "\u001b[1;31mTypeError\u001b[0m                                 Traceback (most recent call last)",
      "\u001b[1;32mC:\\Users\\VALENT~1.GON\\AppData\\Local\\Temp/ipykernel_9056/1750341821.py\u001b[0m in \u001b[0;36m<module>\u001b[1;34m\u001b[0m\n\u001b[1;32m----> 1\u001b[1;33m \u001b[0mpd\u001b[0m\u001b[1;33m(\u001b[0m\u001b[1;33m)\u001b[0m\u001b[1;33m\u001b[0m\u001b[1;33m\u001b[0m\u001b[0m\n\u001b[0m",
      "\u001b[1;31mTypeError\u001b[0m: 'module' object is not callable"
     ]
    }
   ],
   "source": [
    "pd()"
   ]
  },
  {
   "cell_type": "code",
   "execution_count": 51,
   "id": "8707bdab-9ad6-4cc4-a7ca-22fec83570fc",
   "metadata": {},
   "outputs": [],
   "source": [
    "a = 89"
   ]
  },
  {
   "cell_type": "code",
   "execution_count": 52,
   "id": "edb7ecc2-6bdc-40a9-99e3-90a38e0cb8fe",
   "metadata": {},
   "outputs": [
    {
     "ename": "TypeError",
     "evalue": "'int' object is not callable",
     "output_type": "error",
     "traceback": [
      "\u001b[1;31m---------------------------------------------------------------------------\u001b[0m",
      "\u001b[1;31mTypeError\u001b[0m                                 Traceback (most recent call last)",
      "\u001b[1;32mC:\\Users\\VALENT~1.GON\\AppData\\Local\\Temp/ipykernel_9056/3657634075.py\u001b[0m in \u001b[0;36m<module>\u001b[1;34m\u001b[0m\n\u001b[1;32m----> 1\u001b[1;33m \u001b[0ma\u001b[0m\u001b[1;33m(\u001b[0m\u001b[1;33m)\u001b[0m\u001b[1;33m\u001b[0m\u001b[1;33m\u001b[0m\u001b[0m\n\u001b[0m",
      "\u001b[1;31mTypeError\u001b[0m: 'int' object is not callable"
     ]
    }
   ],
   "source": [
    "a()"
   ]
  },
  {
   "cell_type": "code",
   "execution_count": 54,
   "id": "f419034c-f25b-4fb1-a90b-31487f5858dc",
   "metadata": {},
   "outputs": [],
   "source": [
    "from sklearn.linear_model import LinearRegression"
   ]
  },
  {
   "cell_type": "code",
   "execution_count": null,
   "id": "436f35fd-502a-447c-97d7-4aa7db9d825e",
   "metadata": {},
   "outputs": [],
   "source": [
    "from sklearn.linear_model import "
   ]
  },
  {
   "cell_type": "code",
   "execution_count": 56,
   "id": "bcaa09ed-7d40-49ec-838f-fad415c01036",
   "metadata": {},
   "outputs": [
    {
     "ename": "NameError",
     "evalue": "name 'fit' is not defined",
     "output_type": "error",
     "traceback": [
      "\u001b[1;31m---------------------------------------------------------------------------\u001b[0m",
      "\u001b[1;31mNameError\u001b[0m                                 Traceback (most recent call last)",
      "\u001b[1;32mC:\\Users\\VALENT~1.GON\\AppData\\Local\\Temp/ipykernel_9056/3324602025.py\u001b[0m in \u001b[0;36m<module>\u001b[1;34m\u001b[0m\n\u001b[1;32m----> 1\u001b[1;33m \u001b[0mfit\u001b[0m\u001b[1;33m(\u001b[0m\u001b[1;33m)\u001b[0m\u001b[1;33m\u001b[0m\u001b[1;33m\u001b[0m\u001b[0m\n\u001b[0m",
      "\u001b[1;31mNameError\u001b[0m: name 'fit' is not defined"
     ]
    }
   ],
   "source": [
    "fit()"
   ]
  },
  {
   "cell_type": "code",
   "execution_count": 57,
   "id": "5d280e29-9edf-4159-84ee-733a120142e3",
   "metadata": {},
   "outputs": [
    {
     "ename": "NameError",
     "evalue": "name 'algo' is not defined",
     "output_type": "error",
     "traceback": [
      "\u001b[1;31m---------------------------------------------------------------------------\u001b[0m",
      "\u001b[1;31mNameError\u001b[0m                                 Traceback (most recent call last)",
      "\u001b[1;32mC:\\Users\\VALENT~1.GON\\AppData\\Local\\Temp/ipykernel_9056/22777151.py\u001b[0m in \u001b[0;36m<module>\u001b[1;34m\u001b[0m\n\u001b[1;32m----> 1\u001b[1;33m \u001b[0malgo\u001b[0m\u001b[1;33m.\u001b[0m\u001b[0mfit\u001b[0m\u001b[1;33m(\u001b[0m\u001b[1;33m)\u001b[0m\u001b[1;33m\u001b[0m\u001b[1;33m\u001b[0m\u001b[0m\n\u001b[0m",
      "\u001b[1;31mNameError\u001b[0m: name 'algo' is not defined"
     ]
    }
   ],
   "source": [
    "algo.fit()"
   ]
  },
  {
   "cell_type": "markdown",
   "id": "714c885d-43dc-4d7d-bd91-6d5ec83fee94",
   "metadata": {},
   "source": [
    "`algo = ?`"
   ]
  },
  {
   "cell_type": "code",
   "execution_count": 58,
   "id": "05282043-3d6c-4c0c-8138-ea35d483945a",
   "metadata": {},
   "outputs": [],
   "source": [
    "import sklearn"
   ]
  },
  {
   "cell_type": "code",
   "execution_count": null,
   "id": "7cfa7b73-063f-4d57-b07d-e0bedd97b00a",
   "metadata": {},
   "outputs": [],
   "source": [
    "sklearn."
   ]
  },
  {
   "cell_type": "code",
   "execution_count": 59,
   "id": "bb88bbfb-663f-4660-83e0-cd53fe81a384",
   "metadata": {},
   "outputs": [],
   "source": [
    "model = LinearRegression()"
   ]
  },
  {
   "cell_type": "code",
   "execution_count": 60,
   "id": "0dbd4781-e24f-4082-b67d-f2241018f08e",
   "metadata": {},
   "outputs": [
    {
     "data": {
      "text/plain": [
       "{'fit_intercept': True,\n",
       " 'normalize': False,\n",
       " 'copy_X': True,\n",
       " 'n_jobs': None,\n",
       " 'positive': False}"
      ]
     },
     "execution_count": 60,
     "metadata": {},
     "output_type": "execute_result"
    }
   ],
   "source": [
    "model.__dict__"
   ]
  },
  {
   "cell_type": "code",
   "execution_count": 61,
   "id": "bdd3bd67-a697-419b-b27c-569a34cda9bb",
   "metadata": {},
   "outputs": [],
   "source": [
    "import seaborn as sns"
   ]
  },
  {
   "cell_type": "code",
   "execution_count": 63,
   "id": "19059d7b-2eba-427b-af95-db9f2ef761a6",
   "metadata": {},
   "outputs": [],
   "source": [
    "df = sns.load_dataset('mpg')"
   ]
  },
  {
   "cell_type": "code",
   "execution_count": 64,
   "id": "6f0ecd8a-5166-4e7c-8c32-394c20c30ace",
   "metadata": {},
   "outputs": [
    {
     "data": {
      "text/plain": [
       "LinearRegression()"
      ]
     },
     "execution_count": 64,
     "metadata": {},
     "output_type": "execute_result"
    }
   ],
   "source": [
    "model.fit(X=df[['weight']], y=df['mpg'])"
   ]
  },
  {
   "cell_type": "code",
   "execution_count": 65,
   "id": "7fcff447-9c94-4ea0-8bdb-6ea8b2005dd4",
   "metadata": {},
   "outputs": [
    {
     "data": {
      "text/plain": [
       "{'fit_intercept': True,\n",
       " 'normalize': False,\n",
       " 'copy_X': True,\n",
       " 'n_jobs': None,\n",
       " 'positive': False,\n",
       " 'n_features_in_': 1,\n",
       " 'coef_': array([-0.00767661]),\n",
       " '_residues': 7474.8140143821,\n",
       " 'rank_': 1,\n",
       " 'singular_': array([16873.20281508]),\n",
       " 'intercept_': 46.31736442026565}"
      ]
     },
     "execution_count": 65,
     "metadata": {},
     "output_type": "execute_result"
    }
   ],
   "source": [
    "model.__dict__"
   ]
  },
  {
   "cell_type": "code",
   "execution_count": 67,
   "id": "a02cf339-7331-40e3-8f9b-def27814e96d",
   "metadata": {},
   "outputs": [
    {
     "ename": "NameError",
     "evalue": "name 'mean' is not defined",
     "output_type": "error",
     "traceback": [
      "\u001b[1;31m---------------------------------------------------------------------------\u001b[0m",
      "\u001b[1;31mNameError\u001b[0m                                 Traceback (most recent call last)",
      "\u001b[1;32mC:\\Users\\VALENT~1.GON\\AppData\\Local\\Temp/ipykernel_9056/1856946037.py\u001b[0m in \u001b[0;36m<module>\u001b[1;34m\u001b[0m\n\u001b[1;32m----> 1\u001b[1;33m \u001b[0mmean\u001b[0m\u001b[1;33m(\u001b[0m\u001b[1;33m)\u001b[0m\u001b[1;33m\u001b[0m\u001b[1;33m\u001b[0m\u001b[0m\n\u001b[0m",
      "\u001b[1;31mNameError\u001b[0m: name 'mean' is not defined"
     ]
    }
   ],
   "source": [
    "mean()"
   ]
  },
  {
   "cell_type": "code",
   "execution_count": null,
   "id": "c2ef005b-586e-4fea-9f99-3a139a665b96",
   "metadata": {},
   "outputs": [],
   "source": [
    "pd.m"
   ]
  },
  {
   "cell_type": "code",
   "execution_count": 68,
   "id": "9170926a-afb6-45f5-8967-8e26c1e52e0b",
   "metadata": {},
   "outputs": [
    {
     "data": {
      "text/html": [
       "<div>\n",
       "<style scoped>\n",
       "    .dataframe tbody tr th:only-of-type {\n",
       "        vertical-align: middle;\n",
       "    }\n",
       "\n",
       "    .dataframe tbody tr th {\n",
       "        vertical-align: top;\n",
       "    }\n",
       "\n",
       "    .dataframe thead th {\n",
       "        text-align: right;\n",
       "    }\n",
       "</style>\n",
       "<table border=\"1\" class=\"dataframe\">\n",
       "  <thead>\n",
       "    <tr style=\"text-align: right;\">\n",
       "      <th></th>\n",
       "      <th>mpg</th>\n",
       "      <th>cylinders</th>\n",
       "      <th>displacement</th>\n",
       "      <th>horsepower</th>\n",
       "      <th>weight</th>\n",
       "      <th>acceleration</th>\n",
       "      <th>model_year</th>\n",
       "      <th>origin</th>\n",
       "      <th>name</th>\n",
       "    </tr>\n",
       "  </thead>\n",
       "  <tbody>\n",
       "    <tr>\n",
       "      <th>0</th>\n",
       "      <td>18.0</td>\n",
       "      <td>8</td>\n",
       "      <td>307.0</td>\n",
       "      <td>130.0</td>\n",
       "      <td>3504</td>\n",
       "      <td>12.0</td>\n",
       "      <td>70</td>\n",
       "      <td>usa</td>\n",
       "      <td>chevrolet chevelle malibu</td>\n",
       "    </tr>\n",
       "    <tr>\n",
       "      <th>1</th>\n",
       "      <td>15.0</td>\n",
       "      <td>8</td>\n",
       "      <td>350.0</td>\n",
       "      <td>165.0</td>\n",
       "      <td>3693</td>\n",
       "      <td>11.5</td>\n",
       "      <td>70</td>\n",
       "      <td>usa</td>\n",
       "      <td>buick skylark 320</td>\n",
       "    </tr>\n",
       "    <tr>\n",
       "      <th>2</th>\n",
       "      <td>18.0</td>\n",
       "      <td>8</td>\n",
       "      <td>318.0</td>\n",
       "      <td>150.0</td>\n",
       "      <td>3436</td>\n",
       "      <td>11.0</td>\n",
       "      <td>70</td>\n",
       "      <td>usa</td>\n",
       "      <td>plymouth satellite</td>\n",
       "    </tr>\n",
       "    <tr>\n",
       "      <th>3</th>\n",
       "      <td>16.0</td>\n",
       "      <td>8</td>\n",
       "      <td>304.0</td>\n",
       "      <td>150.0</td>\n",
       "      <td>3433</td>\n",
       "      <td>12.0</td>\n",
       "      <td>70</td>\n",
       "      <td>usa</td>\n",
       "      <td>amc rebel sst</td>\n",
       "    </tr>\n",
       "    <tr>\n",
       "      <th>4</th>\n",
       "      <td>17.0</td>\n",
       "      <td>8</td>\n",
       "      <td>302.0</td>\n",
       "      <td>140.0</td>\n",
       "      <td>3449</td>\n",
       "      <td>10.5</td>\n",
       "      <td>70</td>\n",
       "      <td>usa</td>\n",
       "      <td>ford torino</td>\n",
       "    </tr>\n",
       "    <tr>\n",
       "      <th>...</th>\n",
       "      <td>...</td>\n",
       "      <td>...</td>\n",
       "      <td>...</td>\n",
       "      <td>...</td>\n",
       "      <td>...</td>\n",
       "      <td>...</td>\n",
       "      <td>...</td>\n",
       "      <td>...</td>\n",
       "      <td>...</td>\n",
       "    </tr>\n",
       "    <tr>\n",
       "      <th>393</th>\n",
       "      <td>27.0</td>\n",
       "      <td>4</td>\n",
       "      <td>140.0</td>\n",
       "      <td>86.0</td>\n",
       "      <td>2790</td>\n",
       "      <td>15.6</td>\n",
       "      <td>82</td>\n",
       "      <td>usa</td>\n",
       "      <td>ford mustang gl</td>\n",
       "    </tr>\n",
       "    <tr>\n",
       "      <th>394</th>\n",
       "      <td>44.0</td>\n",
       "      <td>4</td>\n",
       "      <td>97.0</td>\n",
       "      <td>52.0</td>\n",
       "      <td>2130</td>\n",
       "      <td>24.6</td>\n",
       "      <td>82</td>\n",
       "      <td>europe</td>\n",
       "      <td>vw pickup</td>\n",
       "    </tr>\n",
       "    <tr>\n",
       "      <th>395</th>\n",
       "      <td>32.0</td>\n",
       "      <td>4</td>\n",
       "      <td>135.0</td>\n",
       "      <td>84.0</td>\n",
       "      <td>2295</td>\n",
       "      <td>11.6</td>\n",
       "      <td>82</td>\n",
       "      <td>usa</td>\n",
       "      <td>dodge rampage</td>\n",
       "    </tr>\n",
       "    <tr>\n",
       "      <th>396</th>\n",
       "      <td>28.0</td>\n",
       "      <td>4</td>\n",
       "      <td>120.0</td>\n",
       "      <td>79.0</td>\n",
       "      <td>2625</td>\n",
       "      <td>18.6</td>\n",
       "      <td>82</td>\n",
       "      <td>usa</td>\n",
       "      <td>ford ranger</td>\n",
       "    </tr>\n",
       "    <tr>\n",
       "      <th>397</th>\n",
       "      <td>31.0</td>\n",
       "      <td>4</td>\n",
       "      <td>119.0</td>\n",
       "      <td>82.0</td>\n",
       "      <td>2720</td>\n",
       "      <td>19.4</td>\n",
       "      <td>82</td>\n",
       "      <td>usa</td>\n",
       "      <td>chevy s-10</td>\n",
       "    </tr>\n",
       "  </tbody>\n",
       "</table>\n",
       "<p>398 rows × 9 columns</p>\n",
       "</div>"
      ],
      "text/plain": [
       "      mpg  cylinders  displacement  horsepower  weight  acceleration  \\\n",
       "0    18.0          8         307.0       130.0    3504          12.0   \n",
       "1    15.0          8         350.0       165.0    3693          11.5   \n",
       "2    18.0          8         318.0       150.0    3436          11.0   \n",
       "3    16.0          8         304.0       150.0    3433          12.0   \n",
       "4    17.0          8         302.0       140.0    3449          10.5   \n",
       "..    ...        ...           ...         ...     ...           ...   \n",
       "393  27.0          4         140.0        86.0    2790          15.6   \n",
       "394  44.0          4          97.0        52.0    2130          24.6   \n",
       "395  32.0          4         135.0        84.0    2295          11.6   \n",
       "396  28.0          4         120.0        79.0    2625          18.6   \n",
       "397  31.0          4         119.0        82.0    2720          19.4   \n",
       "\n",
       "     model_year  origin                       name  \n",
       "0            70     usa  chevrolet chevelle malibu  \n",
       "1            70     usa          buick skylark 320  \n",
       "2            70     usa         plymouth satellite  \n",
       "3            70     usa              amc rebel sst  \n",
       "4            70     usa                ford torino  \n",
       "..          ...     ...                        ...  \n",
       "393          82     usa            ford mustang gl  \n",
       "394          82  europe                  vw pickup  \n",
       "395          82     usa              dodge rampage  \n",
       "396          82     usa                ford ranger  \n",
       "397          82     usa                 chevy s-10  \n",
       "\n",
       "[398 rows x 9 columns]"
      ]
     },
     "execution_count": 68,
     "metadata": {},
     "output_type": "execute_result"
    }
   ],
   "source": [
    "df.me"
   ]
  },
  {
   "cell_type": "markdown",
   "id": "45d120ac",
   "metadata": {},
   "source": [
    "# Achieved Goals"
   ]
  },
  {
   "cell_type": "markdown",
   "id": "c37019cd",
   "metadata": {},
   "source": [
    "_Double click on **this cell** and place an `X` inside the square brackets (i.e., [X]) if you think you understand the goal:_\n",
    "\n",
    "- [X] Identify the **Elements of Programming** thanks to the syntax.\n",
    "- [X] Use `functions` that belongs to external `libraries`.\n",
    "- [X] Get _the machine to work for you, not against you_.\n",
    "  - [X] `shift + tab` to ask help to Python.\n",
    "  - [X] `tab` to ask Python for suggestions.\n",
    "- [X] Understand that a `dog` doesn't make `miau()`. But, rather `guau()`... the same way a `DataFrame` cannot `fly()` (i.e., `DataFrame.fly()`?).\n",
    "- [X] All roads lead to Rome; We can achieve the **the same result with different lines of code**.\n",
    "  - We reproduced a scatterplot using 3 different lines of code."
   ]
  }
 ],
 "metadata": {
  "authors": [
   {
    "name": "Jesús López @sotastica"
   }
  ],
  "interpreter": {
   "hash": "414fd6d7c0f0aefb3d4e2db41edbeb0df03134e10d94a689550561b640a17652"
  },
  "kernelspec": {
   "display_name": "Python 3 (ipykernel)",
   "language": "python",
   "name": "python3"
  },
  "language_info": {
   "codemirror_mode": {
    "name": "ipython",
    "version": 3
   },
   "file_extension": ".py",
   "mimetype": "text/x-python",
   "name": "python",
   "nbconvert_exporter": "python",
   "pygments_lexer": "ipython3",
   "version": "3.9.7"
  }
 },
 "nbformat": 4,
 "nbformat_minor": 5
}
