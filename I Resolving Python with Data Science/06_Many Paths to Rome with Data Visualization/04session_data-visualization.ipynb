{
 "cells": [
  {
   "cell_type": "markdown",
   "id": "2cc3483d",
   "metadata": {},
   "source": [
    "<font size=\"+5\">#04 | Many Paths to Rome with Data Visualization</font>"
   ]
  },
  {
   "cell_type": "markdown",
   "id": "4e6e4b14-ad7c-4175-8601-879bd4be6cc2",
   "metadata": {},
   "source": [
    "- Subscribe to my [Blog ↗](https://blog.pythonassembly.com/)\n",
    "- Let's keep in touch on [LinkedIn ↗](www.linkedin.com/in/jsulopz) 😄"
   ]
  },
  {
   "cell_type": "markdown",
   "id": "de6cb613",
   "metadata": {},
   "source": [
    "# Discipline to Search Solutions in Google"
   ]
  },
  {
   "cell_type": "markdown",
   "id": "d190b76b",
   "metadata": {},
   "source": [
    "> Apply the following steps when **looking for solutions in Google**:\n",
    ">\n",
    "> 1. **Necesity**: How to load an Excel in Python?\n",
    "> 2. **Search in Google**: by keywords\n",
    ">   - `load excel python`\n",
    ">   - ~~how to load excel in python~~\n",
    "> 3. **Solution**: What's the `function()` that loads an Excel in Python?\n",
    ">   - A Function to Programming is what the Atom to Phisics.\n",
    ">   - Every time you want to do something in programming\n",
    ">   - **You will need a `function()`** to make it\n",
    ">   - Theferore, you must **detect parenthesis `()`**\n",
    ">   - Out of all the words that you see in a website\n",
    ">   - Because they indicate the presence of a `function()`."
   ]
  },
  {
   "cell_type": "markdown",
   "id": "510f29e2",
   "metadata": {},
   "source": [
    "# Load the Data"
   ]
  },
  {
   "cell_type": "markdown",
   "id": "480d9891",
   "metadata": {},
   "source": [
    "> - Download [this Excel](https://github.com/sotastica/data/raw/main/internet_usage_spain.xlsx).\n",
    "> - Apply the above discipline and make it happen 🚀\n",
    "> - I want to see the table, c'mon 👇"
   ]
  },
  {
   "cell_type": "code",
   "execution_count": 3,
   "id": "daee04ec",
   "metadata": {},
   "outputs": [
    {
     "data": {
      "text/html": [
       "<div>\n",
       "<style scoped>\n",
       "    .dataframe tbody tr th:only-of-type {\n",
       "        vertical-align: middle;\n",
       "    }\n",
       "\n",
       "    .dataframe tbody tr th {\n",
       "        vertical-align: top;\n",
       "    }\n",
       "\n",
       "    .dataframe thead th {\n",
       "        text-align: right;\n",
       "    }\n",
       "</style>\n",
       "<table border=\"1\" class=\"dataframe\">\n",
       "  <thead>\n",
       "    <tr style=\"text-align: right;\">\n",
       "      <th></th>\n",
       "      <th>name</th>\n",
       "      <th>internet_usage</th>\n",
       "      <th>sex</th>\n",
       "      <th>age</th>\n",
       "      <th>education</th>\n",
       "      <th>weight</th>\n",
       "    </tr>\n",
       "  </thead>\n",
       "  <tbody>\n",
       "    <tr>\n",
       "      <th>0</th>\n",
       "      <td>Josefina</td>\n",
       "      <td>0</td>\n",
       "      <td>Female</td>\n",
       "      <td>66</td>\n",
       "      <td>Elementary</td>\n",
       "      <td>81</td>\n",
       "    </tr>\n",
       "    <tr>\n",
       "      <th>1</th>\n",
       "      <td>Vicki</td>\n",
       "      <td>1</td>\n",
       "      <td>Male</td>\n",
       "      <td>72</td>\n",
       "      <td>Elementary</td>\n",
       "      <td>78</td>\n",
       "    </tr>\n",
       "    <tr>\n",
       "      <th>2</th>\n",
       "      <td>David</td>\n",
       "      <td>1</td>\n",
       "      <td>Male</td>\n",
       "      <td>48</td>\n",
       "      <td>University</td>\n",
       "      <td>69</td>\n",
       "    </tr>\n",
       "    <tr>\n",
       "      <th>3</th>\n",
       "      <td>Curtis</td>\n",
       "      <td>0</td>\n",
       "      <td>Male</td>\n",
       "      <td>59</td>\n",
       "      <td>PhD</td>\n",
       "      <td>107</td>\n",
       "    </tr>\n",
       "    <tr>\n",
       "      <th>4</th>\n",
       "      <td>Josephine</td>\n",
       "      <td>1</td>\n",
       "      <td>Female</td>\n",
       "      <td>44</td>\n",
       "      <td>PhD</td>\n",
       "      <td>80</td>\n",
       "    </tr>\n",
       "  </tbody>\n",
       "</table>\n",
       "</div>"
      ],
      "text/plain": [
       "        name  internet_usage     sex  age   education  weight\n",
       "0   Josefina               0  Female   66  Elementary      81\n",
       "1      Vicki               1    Male   72  Elementary      78\n",
       "2      David               1    Male   48  University      69\n",
       "3     Curtis               0    Male   59         PhD     107\n",
       "4  Josephine               1  Female   44         PhD      80"
      ]
     },
     "execution_count": 3,
     "metadata": {},
     "output_type": "execute_result"
    }
   ],
   "source": [
    "import pandas as pd\n",
    "\n",
    "df = pd.read_excel('internet_usage_spain.xlsx', sheet_name=1)\n",
    "df.head()"
   ]
  },
  {
   "cell_type": "markdown",
   "id": "98d16690",
   "metadata": {},
   "source": [
    "# `DataFrame` Manipulation"
   ]
  },
  {
   "cell_type": "markdown",
   "id": "3803462d",
   "metadata": {},
   "source": [
    "> Could we solve the following questions with a `DataFrame` **object**?"
   ]
  },
  {
   "cell_type": "markdown",
   "id": "fac241dc",
   "metadata": {},
   "source": [
    "## How many people are in each study category?"
   ]
  },
  {
   "cell_type": "markdown",
   "id": "0f382868-8908-4895-b8f5-96aec113a96c",
   "metadata": {},
   "source": [
    "> 1. Check where is the `study category`\n",
    "> 2. Probably in the DataFrame `df`\n",
    "> 3. Show **just** this column"
   ]
  },
  {
   "cell_type": "code",
   "execution_count": null,
   "id": "5aadfa66-ce01-453a-9f5f-b86485160562",
   "metadata": {},
   "outputs": [],
   "source": []
  },
  {
   "cell_type": "markdown",
   "id": "9c301767-9545-4081-833d-819bc73b31c8",
   "metadata": {},
   "source": [
    "> - Apply the `intuition` and check if there is some `function()`\n",
    "> - **within the object**"
   ]
  },
  {
   "cell_type": "code",
   "execution_count": null,
   "id": "1af4dff2-3860-4ab6-aebf-a73241a6db8d",
   "metadata": {},
   "outputs": [],
   "source": []
  },
  {
   "cell_type": "markdown",
   "id": "e025e6ad-6f00-4702-a6d0-7d13f950678d",
   "metadata": {},
   "source": [
    "> - **Create a `plot` to represent the previous result**"
   ]
  },
  {
   "cell_type": "code",
   "execution_count": null,
   "id": "f348f4ab-5a07-46f1-826f-8e7bc79a49fd",
   "metadata": {},
   "outputs": [],
   "source": []
  },
  {
   "cell_type": "markdown",
   "id": "c0f13617-daa9-497a-9e99-eacc5ae1a987",
   "metadata": {},
   "source": [
    "> - [ ] Now do it with a `DataFrame`"
   ]
  },
  {
   "cell_type": "code",
   "execution_count": null,
   "id": "4c55320c-bccc-485c-bf4f-f2998632bc2a",
   "metadata": {},
   "outputs": [],
   "source": []
  },
  {
   "cell_type": "markdown",
   "id": "1c3b9144-fea5-40fc-a405-7c2516c2b5bc",
   "metadata": {},
   "source": [
    "> - [ ] Which way you'd rather prefer?"
   ]
  },
  {
   "cell_type": "code",
   "execution_count": null,
   "id": "1969319a-d1d1-49e3-89b8-6a2b748ed58b",
   "metadata": {},
   "outputs": [],
   "source": []
  },
  {
   "cell_type": "markdown",
   "id": "3f627e50",
   "metadata": {},
   "source": [
    "## Average weight by sex"
   ]
  },
  {
   "cell_type": "code",
   "execution_count": null,
   "id": "7ca7861f-f1fa-47fc-8ba5-233955aac642",
   "metadata": {},
   "outputs": [],
   "source": []
  },
  {
   "cell_type": "markdown",
   "id": "7947c496-c22f-4666-926e-9f40f1e736ea",
   "metadata": {},
   "source": [
    "> - [ ] Can we apply `get_group()` to `df`?"
   ]
  },
  {
   "cell_type": "code",
   "execution_count": null,
   "id": "e74c39fc-2736-4d15-80fd-58d1d12126d5",
   "metadata": {},
   "outputs": [],
   "source": []
  },
  {
   "cell_type": "markdown",
   "id": "d07356af-c2b5-45ef-870d-8e181a0819a9",
   "metadata": {},
   "source": [
    "> - Why not?\n",
    "> - It isn't a ..."
   ]
  },
  {
   "cell_type": "code",
   "execution_count": null,
   "id": "80997edb-537c-413a-9e2d-06d12a1c1b7e",
   "metadata": {},
   "outputs": [],
   "source": []
  },
  {
   "cell_type": "markdown",
   "id": "1aa5c969-83f2-43ff-a3be-233777819b9b",
   "metadata": {},
   "source": [
    "> - It is a simple ..."
   ]
  },
  {
   "cell_type": "code",
   "execution_count": null,
   "id": "54250363-91f6-491c-a388-8208635ce6c0",
   "metadata": {},
   "outputs": [],
   "source": []
  },
  {
   "cell_type": "markdown",
   "id": "6b74622b-02e7-4b28-8372-ac06fa022210",
   "metadata": {},
   "source": [
    "> - Let's not miss the point!\n",
    "> - We need to compute the average `weight` by each gender ↓"
   ]
  },
  {
   "cell_type": "code",
   "execution_count": null,
   "id": "187fb5a2-5982-4b6b-bbd0-6e3563589e57",
   "metadata": {},
   "outputs": [],
   "source": []
  },
  {
   "cell_type": "markdown",
   "id": "085aaaf4-c3f7-4394-ba66-bdf6f14c6e6f",
   "metadata": {},
   "source": [
    "> - [ ] Altogether"
   ]
  },
  {
   "cell_type": "code",
   "execution_count": null,
   "id": "5ad2621b-9f83-4950-9584-fd23e8ad5600",
   "metadata": {},
   "outputs": [],
   "source": []
  },
  {
   "cell_type": "markdown",
   "id": "59a656ff-4e74-412c-ab8c-f1389f58ef8d",
   "metadata": {},
   "source": [
    "> - **Create a `plot` to represent the previous result**"
   ]
  },
  {
   "cell_type": "code",
   "execution_count": null,
   "id": "5c6a9cd0-e4f3-4d13-910c-cb94e1ff1f90",
   "metadata": {},
   "outputs": [],
   "source": []
  },
  {
   "cell_type": "markdown",
   "id": "bd0f211f",
   "metadata": {},
   "source": [
    "## Weight average by internet usage and sex"
   ]
  },
  {
   "cell_type": "code",
   "execution_count": null,
   "id": "9a996c7c-a7ee-419b-99e8-fed0e81d29f9",
   "metadata": {},
   "outputs": [],
   "source": []
  },
  {
   "cell_type": "markdown",
   "id": "9e216c44-8d34-4453-b066-a3a32003000c",
   "metadata": {},
   "source": [
    "> - **Create a `plot` to represent the previous result**"
   ]
  },
  {
   "cell_type": "code",
   "execution_count": null,
   "id": "91761409-8df9-42a8-9b09-cf9d400cd6f0",
   "metadata": {},
   "outputs": [],
   "source": []
  },
  {
   "cell_type": "markdown",
   "id": "9527df56",
   "metadata": {},
   "source": [
    "# Data Visualization with Python"
   ]
  },
  {
   "cell_type": "markdown",
   "id": "7a8a94b1",
   "metadata": {},
   "source": [
    "## Load Another Dataset"
   ]
  },
  {
   "cell_type": "markdown",
   "id": "54a25d43",
   "metadata": {},
   "source": [
    "> We load this [csv file](https://raw.githubusercontent.com/mwaskom/seaborn-data/master/tips.csv).\n",
    "> ¿What does it mean `csv`?\n",
    "> ¿Why don't we use an `Excel` to better see the data?"
   ]
  },
  {
   "cell_type": "code",
   "execution_count": null,
   "id": "2c8a2c51-1c03-410c-a4ae-fada4469c51f",
   "metadata": {},
   "outputs": [],
   "source": []
  },
  {
   "cell_type": "markdown",
   "id": "71b64dcb",
   "metadata": {},
   "source": [
    "## Scatterplot"
   ]
  },
  {
   "cell_type": "markdown",
   "id": "ffcf2783",
   "metadata": {},
   "source": [
    "### With `Matplotlib` library"
   ]
  },
  {
   "cell_type": "markdown",
   "id": "6a446edb",
   "metadata": {},
   "source": [
    "> Scatterplot"
   ]
  },
  {
   "cell_type": "code",
   "execution_count": null,
   "id": "7e2df528-938b-407d-82a5-26e669f7f389",
   "metadata": {},
   "outputs": [],
   "source": []
  },
  {
   "cell_type": "markdown",
   "id": "087472ac",
   "metadata": {},
   "source": [
    "### With `Seaborn` library"
   ]
  },
  {
   "cell_type": "markdown",
   "id": "e83ad76f",
   "metadata": {},
   "source": [
    "> Scatterplot"
   ]
  },
  {
   "cell_type": "code",
   "execution_count": null,
   "id": "1a19b0eb-349f-442f-899a-bbeb8f2c8cb7",
   "metadata": {},
   "outputs": [],
   "source": []
  },
  {
   "cell_type": "markdown",
   "id": "8dcd9849",
   "metadata": {},
   "source": [
    "### With `Plotly` library"
   ]
  },
  {
   "cell_type": "markdown",
   "id": "e7b22ee1",
   "metadata": {},
   "source": [
    "> Scatterplot"
   ]
  },
  {
   "cell_type": "code",
   "execution_count": null,
   "id": "2942b10f-78ce-431c-85fe-b93be525f4f3",
   "metadata": {},
   "outputs": [],
   "source": []
  },
  {
   "cell_type": "markdown",
   "id": "03eb349f",
   "metadata": {},
   "source": [
    "## Other Data Visualization Figures"
   ]
  },
  {
   "cell_type": "markdown",
   "id": "7d58a290",
   "metadata": {},
   "source": [
    "### Histogram"
   ]
  },
  {
   "cell_type": "code",
   "execution_count": null,
   "id": "b8b1ecd8-28d2-470e-bf56-b616afc50313",
   "metadata": {},
   "outputs": [],
   "source": []
  },
  {
   "cell_type": "markdown",
   "id": "405b778b",
   "metadata": {},
   "source": [
    "### Boxplot"
   ]
  },
  {
   "cell_type": "code",
   "execution_count": null,
   "id": "bb28a571-fe63-4241-933e-7d7828bef349",
   "metadata": {},
   "outputs": [],
   "source": []
  },
  {
   "cell_type": "markdown",
   "id": "f43703cc",
   "metadata": {},
   "source": [
    "### Bar Chart"
   ]
  },
  {
   "cell_type": "code",
   "execution_count": null,
   "id": "28490b83-f83f-4704-90b1-3cae135caffe",
   "metadata": {},
   "outputs": [],
   "source": []
  },
  {
   "cell_type": "markdown",
   "id": "b42479de",
   "metadata": {},
   "source": [
    "### Pie Plot"
   ]
  },
  {
   "cell_type": "code",
   "execution_count": null,
   "id": "641d5107-02df-4178-8d43-6b7e773081b9",
   "metadata": {},
   "outputs": [],
   "source": []
  },
  {
   "cell_type": "markdown",
   "id": "293a27e3",
   "metadata": {},
   "source": [
    "### Maps"
   ]
  },
  {
   "cell_type": "code",
   "execution_count": null,
   "id": "a11812a1-f26c-48af-94b7-2463ac32b29c",
   "metadata": {},
   "outputs": [],
   "source": []
  }
 ],
 "metadata": {
  "authors": [
   {
    "name": "Jesús López @sotastica"
   }
  ],
  "interpreter": {
   "hash": "414fd6d7c0f0aefb3d4e2db41edbeb0df03134e10d94a689550561b640a17652"
  },
  "kernelspec": {
   "display_name": "Python 3 (ipykernel)",
   "language": "python",
   "name": "python3"
  },
  "language_info": {
   "codemirror_mode": {
    "name": "ipython",
    "version": 3
   },
   "file_extension": ".py",
   "mimetype": "text/x-python",
   "name": "python",
   "nbconvert_exporter": "python",
   "pygments_lexer": "ipython3",
   "version": "3.9.7"
  },
  "toc-autonumbering": true
 },
 "nbformat": 4,
 "nbformat_minor": 5
}
