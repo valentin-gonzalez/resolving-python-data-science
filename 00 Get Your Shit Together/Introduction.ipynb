{
 "cells": [
  {
   "cell_type": "markdown",
   "id": "a1bb2174-c546-46e6-b42a-33bfbd8742b7",
   "metadata": {},
   "source": [
    "# Introduction to Resolving Python with Data Science"
   ]
  },
  {
   "cell_type": "code",
   "execution_count": null,
   "id": "1e63ecfa-6827-459d-b143-2a1ef83617c3",
   "metadata": {},
   "outputs": [],
   "source": []
  },
  {
   "cell_type": "code",
   "execution_count": null,
   "id": "bedfecd5-b439-4a41-9477-958766426693",
   "metadata": {},
   "outputs": [],
   "source": []
  }
 ],
 "metadata": {
  "kernelspec": {
   "display_name": "Python 3 (ipykernel)",
   "language": "python",
   "name": "python3"
  },
  "language_info": {
   "codemirror_mode": {
    "name": "ipython",
    "version": 3
   },
   "file_extension": ".py",
   "mimetype": "text/x-python",
   "name": "python",
   "nbconvert_exporter": "python",
   "pygments_lexer": "ipython3",
   "version": "3.9.7"
  }
 },
 "nbformat": 4,
 "nbformat_minor": 5
}
