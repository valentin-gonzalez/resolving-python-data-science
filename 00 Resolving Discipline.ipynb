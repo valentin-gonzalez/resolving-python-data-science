{
 "cells": [
  {
   "cell_type": "markdown",
   "id": "05045171-c9bf-48cf-af8f-2ae0e3e613eb",
   "metadata": {},
   "source": [
    "# Discipline & Hacks"
   ]
  },
  {
   "cell_type": "markdown",
   "id": "8057e223-51cc-4d1c-8902-6a7e541b9033",
   "metadata": {},
   "source": [
    "## Discipline for Intuition"
   ]
  },
  {
   "cell_type": "markdown",
   "id": "735dc5a1-a9d5-4249-9faa-7d721bb4333e",
   "metadata": {},
   "source": [
    "1. Identify the **problem/error**\n",
    "2. Which `object` do you have **to start with**?\n",
    "3. Look for the `function()` that may solve your problem\n",
    "    1. Within the `object.↹`\n",
    "    2. Within the `library.↹`\n",
    "    3. `Built-in` from Python (rarely)\n",
    "4. Apply `deduction` with the **autocompletion** to find the `function()`\n",
    "5. Ask Python `shift + ↹` **how to use the function**\n",
    "    1. **Signature** for required parameters\n",
    "    2. **Docstring** to understand what the function does\n",
    "    3. **Parameters** to know the objects you may use\n",
    "    4. **Return** to see what the function will output\n",
    "    5. **Examples**"
   ]
  },
  {
   "cell_type": "markdown",
   "id": "05de49c5-69b3-4828-a170-db8f92e1cbb4",
   "metadata": {},
   "source": [
    "## Discipline to `Copy & Paste Solutions` from Google"
   ]
  },
  {
   "cell_type": "markdown",
   "id": "5b589640-36c2-45d3-a103-b0df0185ac84",
   "metadata": {},
   "source": [
    "Apply the following steps when **looking for solutions in Google**:\n",
    "\n",
    "1. **Necesity**: How to load an Excel in Python?\n",
    "2. **Search in Google**: by keywords\n",
    "    - `load excel python`\n",
    "    - ~~how to load excel in python~~\n",
    "3. **Solution**: What's the `function()` that loads an Excel in Python?\n",
    "    - A Function to Programming is what the Atom to Phisics.\n",
    "    - Every time you want to do something in programming\n",
    "    - **You will need a `function()`** to make it\n",
    "    - Theferore, you must **detect parenthesis `()`**\n",
    "    - Out of all the words that you see in a website\n",
    "    - Because they indicate the presence of a `function()`"
   ]
  },
  {
   "cell_type": "markdown",
   "id": "0260a40e-e410-415d-97e5-71754d3c304a",
   "metadata": {},
   "source": [
    "## Hacks for the Jupyter Notebook on Mac"
   ]
  },
  {
   "cell_type": "markdown",
   "id": "166d290b-a67e-44c4-a663-0f8cfdc69c7c",
   "metadata": {},
   "source": [
    "| name   | key   |\n",
    "|:-------|:------|\n",
    "| shift  | ⇧     |\n",
    "| return | ↵     |\n",
    "| ctrl   | ⌃     |\n",
    "| cmd    | ⌘     |\n",
    "| alt    | ⌥     |"
   ]
  },
  {
   "cell_type": "markdown",
   "id": "e2d006a9-25d8-436d-bcef-041f54503c32",
   "metadata": {},
   "source": [
    "- Execute a Cell: `ctrl` + `enter`\n",
    "\n",
    "[gif]\n",
    "\n",
    "- Execute a Cell & Jump to Next: `shift` + `enter`\n",
    "\n",
    "[gif]\n",
    "\n",
    "- **Execute a Cell & Create Next: `alt` + `enter`**\n",
    "\n",
    "[gif]"
   ]
  },
  {
   "cell_type": "markdown",
   "id": "4e83e489-b4f2-40cd-b034-c0300ed369d3",
   "metadata": {},
   "source": [
    "### Command Mode\n",
    "\n",
    "[gif]"
   ]
  },
  {
   "cell_type": "markdown",
   "id": "14923d96-0d81-49b1-8bc7-af95634e2ab8",
   "metadata": {},
   "source": [
    "- **Cut a Cell: `X`**\n",
    "\n",
    "[gif]\n",
    "\n",
    "- Keep Selecting Cells Upwards: `shift` + `↑`\n",
    "\n",
    "[gif]\n",
    "\n",
    "- **Keep Selecting Cells Downwards: `shift` + `↓`**\n",
    "\n",
    "[gif]\n",
    "\n",
    "- Delete Cells: `D` + `D`\n",
    "\n",
    "[gif]\n",
    "\n",
    "- Command Palette: `cmd` + `shift` + `C`"
   ]
  },
  {
   "cell_type": "markdown",
   "id": "7a97605b-b140-4510-bf72-9f47681bda7f",
   "metadata": {},
   "source": [
    "## Hacks for the Jupyter Notebook on Windows"
   ]
  },
  {
   "cell_type": "code",
   "execution_count": null,
   "id": "9676d34f-2e3a-4671-b6c2-38edbd404817",
   "metadata": {},
   "outputs": [],
   "source": []
  },
  {
   "cell_type": "code",
   "execution_count": null,
   "id": "938d006c-760a-4c78-88b5-150327a600c0",
   "metadata": {},
   "outputs": [],
   "source": []
  },
  {
   "cell_type": "code",
   "execution_count": null,
   "id": "bde10630-f8ec-469b-bfde-0836a00af3b0",
   "metadata": {},
   "outputs": [],
   "source": []
  },
  {
   "cell_type": "markdown",
   "id": "6254650b-ef5c-406f-9d28-ddca6a1e79f0",
   "metadata": {},
   "source": [
    "## Code Syntax"
   ]
  },
  {
   "cell_type": "markdown",
   "id": "f60f6984-d6d0-463e-9df8-b38e02ca753e",
   "metadata": {},
   "source": [
    "**What happens inside the computer when we run the code?**\n",
    "\n",
    "> In which order Python reads the line of code?\n",
    "> - From left to right.\n",
    "> - From up to down.\n",
    "> Which elements are being used in the previous line of code?"
   ]
  },
  {
   "cell_type": "markdown",
   "id": "ab166056-dbf0-407f-979c-af5997f7722d",
   "metadata": {},
   "source": [
    "1. `libreria`\n",
    "2. `.` **DOT NOTATION** para acceder a las funcionalidades de la libreria\n",
    "3. `funcion()`\n",
    "4. pasamos `objetos` a los `argumentos`\n",
    "    - pasamos el `str` \"internet_usage_spain.xlsx\" al argumento `io`\n",
    "    - pasamos el `int` al argumento `sheet_name`\n",
    "5. ejecutamos\n",
    "6. magia borras\n",
    "7. la funcion nos devuelve un `objeto`"
   ]
  },
  {
   "cell_type": "code",
   "execution_count": 11,
   "id": "e97c8dcd-0a37-4c14-88cb-2e83bd0b5823",
   "metadata": {},
   "outputs": [
    {
     "data": {
      "text/html": [
       "<div>\n",
       "<style scoped>\n",
       "    .dataframe tbody tr th:only-of-type {\n",
       "        vertical-align: middle;\n",
       "    }\n",
       "\n",
       "    .dataframe tbody tr th {\n",
       "        vertical-align: top;\n",
       "    }\n",
       "\n",
       "    .dataframe thead th {\n",
       "        text-align: right;\n",
       "    }\n",
       "</style>\n",
       "<table border=\"1\" class=\"dataframe\">\n",
       "  <thead>\n",
       "    <tr style=\"text-align: right;\">\n",
       "      <th></th>\n",
       "      <th>name</th>\n",
       "      <th>internet_usage</th>\n",
       "      <th>sex</th>\n",
       "      <th>age</th>\n",
       "      <th>education</th>\n",
       "      <th>weight</th>\n",
       "    </tr>\n",
       "  </thead>\n",
       "  <tbody>\n",
       "    <tr>\n",
       "      <th>0</th>\n",
       "      <td>Josefina</td>\n",
       "      <td>0</td>\n",
       "      <td>Female</td>\n",
       "      <td>66</td>\n",
       "      <td>Elementary</td>\n",
       "      <td>81</td>\n",
       "    </tr>\n",
       "    <tr>\n",
       "      <th>1</th>\n",
       "      <td>Vicki</td>\n",
       "      <td>1</td>\n",
       "      <td>Male</td>\n",
       "      <td>72</td>\n",
       "      <td>Elementary</td>\n",
       "      <td>78</td>\n",
       "    </tr>\n",
       "    <tr>\n",
       "      <th>2</th>\n",
       "      <td>David</td>\n",
       "      <td>1</td>\n",
       "      <td>Male</td>\n",
       "      <td>48</td>\n",
       "      <td>University</td>\n",
       "      <td>69</td>\n",
       "    </tr>\n",
       "    <tr>\n",
       "      <th>3</th>\n",
       "      <td>Curtis</td>\n",
       "      <td>0</td>\n",
       "      <td>Male</td>\n",
       "      <td>59</td>\n",
       "      <td>PhD</td>\n",
       "      <td>107</td>\n",
       "    </tr>\n",
       "    <tr>\n",
       "      <th>4</th>\n",
       "      <td>Josephine</td>\n",
       "      <td>1</td>\n",
       "      <td>Female</td>\n",
       "      <td>44</td>\n",
       "      <td>PhD</td>\n",
       "      <td>80</td>\n",
       "    </tr>\n",
       "    <tr>\n",
       "      <th>...</th>\n",
       "      <td>...</td>\n",
       "      <td>...</td>\n",
       "      <td>...</td>\n",
       "      <td>...</td>\n",
       "      <td>...</td>\n",
       "      <td>...</td>\n",
       "    </tr>\n",
       "    <tr>\n",
       "      <th>2450</th>\n",
       "      <td>Frances</td>\n",
       "      <td>1</td>\n",
       "      <td>Male</td>\n",
       "      <td>43</td>\n",
       "      <td>Elementary</td>\n",
       "      <td>94</td>\n",
       "    </tr>\n",
       "    <tr>\n",
       "      <th>2451</th>\n",
       "      <td>Harry</td>\n",
       "      <td>1</td>\n",
       "      <td>Female</td>\n",
       "      <td>18</td>\n",
       "      <td>High School</td>\n",
       "      <td>70</td>\n",
       "    </tr>\n",
       "    <tr>\n",
       "      <th>2452</th>\n",
       "      <td>Adam</td>\n",
       "      <td>0</td>\n",
       "      <td>Female</td>\n",
       "      <td>54</td>\n",
       "      <td>Elementary</td>\n",
       "      <td>60</td>\n",
       "    </tr>\n",
       "    <tr>\n",
       "      <th>2453</th>\n",
       "      <td>Christine</td>\n",
       "      <td>1</td>\n",
       "      <td>Male</td>\n",
       "      <td>31</td>\n",
       "      <td>High School</td>\n",
       "      <td>89</td>\n",
       "    </tr>\n",
       "    <tr>\n",
       "      <th>2454</th>\n",
       "      <td>Kimberly</td>\n",
       "      <td>0</td>\n",
       "      <td>Male</td>\n",
       "      <td>52</td>\n",
       "      <td>Elementary</td>\n",
       "      <td>88</td>\n",
       "    </tr>\n",
       "  </tbody>\n",
       "</table>\n",
       "<p>2455 rows × 6 columns</p>\n",
       "</div>"
      ],
      "text/plain": [
       "           name  internet_usage     sex  age    education  weight\n",
       "0      Josefina               0  Female   66   Elementary      81\n",
       "1         Vicki               1    Male   72   Elementary      78\n",
       "2         David               1    Male   48   University      69\n",
       "3        Curtis               0    Male   59          PhD     107\n",
       "4     Josephine               1  Female   44          PhD      80\n",
       "...         ...             ...     ...  ...          ...     ...\n",
       "2450    Frances               1    Male   43   Elementary      94\n",
       "2451      Harry               1  Female   18  High School      70\n",
       "2452       Adam               0  Female   54   Elementary      60\n",
       "2453  Christine               1    Male   31  High School      89\n",
       "2454   Kimberly               0    Male   52   Elementary      88\n",
       "\n",
       "[2455 rows x 6 columns]"
      ]
     },
     "execution_count": 11,
     "metadata": {},
     "output_type": "execute_result"
    }
   ],
   "source": [
    "pd.read_excel(io = 'internet_usage_spain.xlsx', sheet_name=1)"
   ]
  },
  {
   "cell_type": "markdown",
   "id": "e51cfe9b-1dd0-49ca-9044-debf37431340",
   "metadata": {},
   "source": [
    "## The Elements of Programming"
   ]
  },
  {
   "cell_type": "markdown",
   "id": "28a4d8d5-322e-41bb-905b-738cb42f4e62",
   "metadata": {},
   "source": [
    "> - `Module`: where the code of functions are stored.\n",
    ">   - `Function`: execute several lines of code with one `word()`.\n",
    ">       - `Parameter`: to **configure** the function's behaviour.\n",
    ">           - `Instance`: **data structure** that stores information."
   ]
  },
  {
   "cell_type": "code",
   "execution_count": null,
   "id": "241ed149-c47d-45eb-9194-3eabf01a2e64",
   "metadata": {},
   "outputs": [],
   "source": []
  },
  {
   "cell_type": "code",
   "execution_count": 2,
   "id": "e082437a-d60b-4350-8361-9ebfea17a8cd",
   "metadata": {},
   "outputs": [],
   "source": [
    "a = '''shift ⇧\n",
    "return ↵\n",
    "ctrl ⌃\n",
    "cmd ⌘\n",
    "alt ⌥\n",
    "'''"
   ]
  },
  {
   "cell_type": "code",
   "execution_count": 5,
   "id": "d305865b-a3bf-4853-855c-99fb13b9a6b4",
   "metadata": {},
   "outputs": [],
   "source": [
    "import pandas as pd"
   ]
  },
  {
   "cell_type": "code",
   "execution_count": 9,
   "id": "7bf7dd78-aa01-463a-bd66-076638701a02",
   "metadata": {},
   "outputs": [
    {
     "name": "stdout",
     "output_type": "stream",
     "text": [
      "|    | name   | key   |\n",
      "|---:|:-------|:------|\n",
      "|  0 | shift  | ⇧     |\n",
      "|  1 | return | ↵     |\n",
      "|  2 | ctrl   | ⌃     |\n",
      "|  3 | cmd    | ⌘     |\n",
      "|  4 | alt    | ⌥     |\n"
     ]
    }
   ],
   "source": [
    "print(pd.DataFrame([i.split() for i in a.splitlines()], columns=['name', 'key']).to_markdown())"
   ]
  }
 ],
 "metadata": {
  "kernelspec": {
   "display_name": "Python 3 (ipykernel)",
   "language": "python",
   "name": "python3"
  },
  "language_info": {
   "codemirror_mode": {
    "name": "ipython",
    "version": 3
   },
   "file_extension": ".py",
   "mimetype": "text/x-python",
   "name": "python",
   "nbconvert_exporter": "python",
   "pygments_lexer": "ipython3",
   "version": "3.9.7"
  }
 },
 "nbformat": 4,
 "nbformat_minor": 5
}
